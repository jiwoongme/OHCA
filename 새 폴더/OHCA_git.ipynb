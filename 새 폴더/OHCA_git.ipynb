{
 "cells": [
  {
   "cell_type": "code",
   "execution_count": 16,
   "metadata": {},
   "outputs": [
    {
     "name": "stdout",
     "output_type": "stream",
     "text": [
      "Collecting lightgbm\n",
      "  Downloading lightgbm-3.1.1-py2.py3-none-win_amd64.whl (754 kB)\n",
      "Requirement already satisfied: scikit-learn!=0.22.0 in c:\\users\\user\\anaconda3\\lib\\site-packages (from lightgbm) (0.22.2.post1)\n",
      "Requirement already satisfied: numpy in c:\\users\\user\\anaconda3\\lib\\site-packages (from lightgbm) (1.16.5)\n",
      "Requirement already satisfied: wheel in c:\\users\\user\\anaconda3\\lib\\site-packages (from lightgbm) (0.33.6)\n",
      "Requirement already satisfied: scipy in c:\\users\\user\\anaconda3\\lib\\site-packages (from lightgbm) (1.4.1)\n",
      "Requirement already satisfied: joblib>=0.11 in c:\\users\\user\\anaconda3\\lib\\site-packages (from scikit-learn!=0.22.0->lightgbm) (0.13.2)\n",
      "Installing collected packages: lightgbm\n",
      "Successfully installed lightgbm-3.1.1\n"
     ]
    },
    {
     "name": "stderr",
     "output_type": "stream",
     "text": [
      "WARNING: You are using pip version 20.2.4; however, version 21.0 is available.\n",
      "You should consider upgrading via the 'c:\\users\\user\\anaconda3\\python.exe -m pip install --upgrade pip' command.\n"
     ]
    }
   ],
   "source": [
    "!pip3 install lightgbm"
   ]
  },
  {
   "cell_type": "code",
   "execution_count": 1,
   "metadata": {},
   "outputs": [],
   "source": [
    "import pandas as pd\n",
    "import numpy as np"
   ]
  },
  {
   "cell_type": "markdown",
   "metadata": {},
   "source": [
    "## Read All Data (13-18)"
   ]
  },
  {
   "cell_type": "code",
   "execution_count": 2,
   "metadata": {},
   "outputs": [
    {
     "name": "stderr",
     "output_type": "stream",
     "text": [
      "/usr/local/lib/python3.6/dist-packages/IPython/core/interactiveshell.py:3049: DtypeWarning: Columns (62) have mixed types.Specify dtype option on import or set low_memory=False.\n",
      "  interactivity=interactivity, compiler=compiler, result=result)\n"
     ]
    }
   ],
   "source": [
    "df = pd.read_csv('ohca_13_18.csv')"
   ]
  },
  {
   "cell_type": "code",
   "execution_count": 3,
   "metadata": {
    "scrolled": true
   },
   "outputs": [
    {
     "name": "stdout",
     "output_type": "stream",
     "text": [
      "['ACT', 'ACT_OTHER', 'ACT_VITAL_ACTIVITY', 'ADM_RESULT', 'AGE', 'BYSTANDER_CPR', 'BYSTANDER_CPR_ELSE', 'CAUSE', 'CAUSE_DISEASE', 'CAUSE_DISEASE_OTHER', 'CAUSE_INTENT', 'CAUSE_MECH', 'CPC', 'CPR', 'DC_DT', 'DTH_DT', 'DTH_TM', 'ER_ADM_DT', 'ER_ADM_TM', 'ER_DC_DT', 'ER_DC_TM', 'ER_DEFIB', 'ER_DEFIB_DT', 'ER_DEFIB_TM', 'ER_EKG', 'ER_EKG_DT', 'ER_EKG_TM', 'ER_RESULT', 'FIRST_DEFIB_PLACE', 'FIRST_EKG_PLACE', 'F_ADMINCODE', 'F_AED_EKG', 'F_ARREST_DT', 'F_ARREST_TM', 'F_CALL_DT', 'F_CALL_TM', 'F_DEFIB', 'F_HAPP_ADD_CITY', 'F_HAPP_ADD_DIST', 'F_NO_DEFIB', 'F_OPEN', 'F_PREH_INS', 'H2_ADM_RESULT', 'H2_CHART', 'H2_CPC', 'H2_DC_DT', 'H2_DTH_DT', 'H2_DTH_TM', 'H2_ER_DC_DT', 'H2_ER_DC_TM', 'H2_ER_RESULT', 'H_ADD_CITY', 'H_ADD_DIST', 'H_ADMINCODE', 'H_PLACE', 'H_PLACE1', 'H_PLACE2', 'H_PLACE_FLOOR', 'H_PLACE_OTHER', 'H_PLACE_PUBLIC', 'H_SEX', 'INS', 'LAST_NORM_DT', 'LAST_NORM_TM', 'NO_CPR', 'NUM', 'OP1', 'OP1_1', 'OP1_2', 'OP1_3', 'OP1_9', 'OP1_END_DT', 'OP1_END_TM', 'OP1_PRE_MENTAL', 'OP1_PRE_MENTAL_DT', 'OP1_PRE_MENTAL_TM', 'OP1_PRE_VITAL_BT', 'OP1_PRE_VITAL_DBP', 'OP1_PRE_VITAL_DT', 'OP1_PRE_VITAL_PR', 'OP1_PRE_VITAL_RR', 'OP1_PRE_VITAL_SBP', 'OP1_PRE_VITAL_TM', 'OP1_START_DT', 'OP1_START_TM', 'OP1_SUCCESS', 'OP2', 'OP2_1', 'OP2_2', 'OP2_3', 'OP2_4', 'OP2_9', 'OP2_NORM_DT', 'OP2_NORM_TM', 'OP2_PRE_MENTAL', 'OP2_PRE_MENTAL_DT', 'OP2_PRE_MENTAL_TM', 'OP2_PRE_VITAL_BT', 'OP2_PRE_VITAL_DBP', 'OP2_PRE_VITAL_DT', 'OP2_PRE_VITAL_PR', 'OP2_PRE_VITAL_RR', 'OP2_PRE_VITAL_SBP', 'OP2_PRE_VITAL_TM', 'OP2_REWARM_DT', 'OP2_REWARM_TM', 'OP2_START_DT', 'OP2_START_TM', 'OP2_SUCCESS', 'OP2_TARGET_BT', 'OP2_TARGET_DT', 'OP2_TARGET_TM', 'OP3', 'OP3_SURGERY_DT', 'OP3_SURGERY_TM', 'OP4', 'OP4_1', 'OP4_2', 'OP4_8', 'OP4_9', 'OP4_START_DT', 'OP4_START_TM', 'OP4_SUCCESS', 'OP5', 'OP5_1', 'OP5_2', 'OP5_START_DT', 'OP5_START_TM', 'OP5_SUCCESS', 'OP6', 'OP6_1', 'OP6_2', 'OP6_3', 'OP6_4', 'OP6_8', 'OP6_START_DT', 'OP6_START_TM', 'OP6_SUCCESS', 'OP7', 'OP7_1', 'OP7_2', 'OP7_3', 'OP7_4', 'OP7_8', 'OP7_START_DT', 'OP7_START_TM', 'OP8', 'OP8_1', 'OP8_2', 'OP8_3', 'OP8_8', 'OP8_9', 'OP8_END_DT', 'OP8_END_TM', 'OP8_PRE_ARREST_STATE', 'OP8_PRE_MENTAL', 'OP8_PRE_MENTAL_DT', 'OP8_PRE_MENTAL_TM', 'OP8_PRE_VITAL_BT', 'OP8_PRE_VITAL_DBP', 'OP8_PRE_VITAL_DT', 'OP8_PRE_VITAL_PR', 'OP8_PRE_VITAL_RR', 'OP8_PRE_VITAL_SBP', 'OP8_PRE_VITAL_TM', 'OP8_ROSC', 'OP8_ROSC_DT', 'OP8_ROSC_TM', 'OP8_START_DT', 'OP8_START_TM', 'OP8_SUCCESS', 'PHX_ALCOHOL', 'PHX_DM', 'PHX_DYSLIPI', 'PHX_DYSLIPI_1', 'PHX_DYSLIPI_9', 'PHX_HEART', 'PHX_HEART_1', 'PHX_HEART_10', 'PHX_HEART_2', 'PHX_HEART_3', 'PHX_HEART_4', 'PHX_HEART_5', 'PHX_HEART_6', 'PHX_HEART_7', 'PHX_HEART_8', 'PHX_HEART_9', 'PHX_HTN', 'PHX_RENAL', 'PHX_RENAL_1', 'PHX_RENAL_2', 'PHX_RENAL_3', 'PHX_RENAL_9', 'PHX_RESPI', 'PHX_RESPI_1', 'PHX_RESPI_2', 'PHX_RESPI_3', 'PHX_RESPI_9', 'PHX_SMOKE', 'PHX_STROKE', 'PHX_STROKE_1', 'PHX_STROKE_2', 'PHX_STROKE_9', 'POISON_0', 'POISON_1', 'POISON_2', 'POISON_3', 'POISON_4', 'POISON_5', 'POISON_6', 'POISON_7', 'POISON_8', 'POISON_9', 'PRE_ER_ARREST_DT', 'PRE_ER_ARREST_TM', 'PRE_ER_CPR', 'PRE_ER_DEFIB', 'PRE_ER_EKG', 'PRE_ER_ROSC', 'P_ADD_CITY', 'P_ADD_DIST', 'P_ADMINCODE', 'ROSC', 'STOP_CPR', 'STOP_CPR_DT', 'STOP_CPR_TM', 'WITNESS', 'WITNESS_MAN', 'WITNESS_MAN1', 'WITNESS_MAN2', 'YEAR']\n"
     ]
    }
   ],
   "source": [
    "print(df.columns.to_list())"
   ]
  },
  {
   "cell_type": "markdown",
   "metadata": {},
   "source": [
    "## Extract essential variable"
   ]
  },
  {
   "cell_type": "code",
   "execution_count": 4,
   "metadata": {},
   "outputs": [],
   "source": [
    "df_new = df[['ACT','ADM_RESULT', 'AGE', 'BYSTANDER_CPR', 'CAUSE', 'CAUSE_DISEASE', 'CPC', 'CPR', 'DC_DT', 'DTH_DT', 'DTH_TM', 'ER_ADM_DT', \n",
    "   'ER_ADM_TM', 'ER_DC_DT', 'ER_DC_TM', 'ER_DEFIB', 'ER_DEFIB_DT', 'ER_DEFIB_TM', 'ER_EKG', 'ER_EKG_DT', 'ER_EKG_TM', 'ER_RESULT',\n",
    "   'FIRST_DEFIB_PLACE', 'FIRST_EKG_PLACE','F_AED_EKG', 'F_ARREST_DT', 'F_ARREST_TM','F_DEFIB','F_PREH_INS','H_PLACE_PUBLIC', 'H_SEX',\n",
    "   'INS', 'LAST_NORM_DT', 'LAST_NORM_TM', 'NO_CPR','PRE_ER_ARREST_DT', 'PRE_ER_ARREST_TM', 'PRE_ER_CPR', 'PRE_ER_DEFIB', 'PRE_ER_EKG', \n",
    "   'PRE_ER_ROSC','ROSC', 'STOP_CPR', 'STOP_CPR_DT', 'STOP_CPR_TM', 'WITNESS','YEAR','PHX_DM','PHX_HEART', 'PHX_HTN','PHX_RENAL'\n",
    "            ,'PHX_RESPI','PHX_STROKE','PHX_DYSLIPI','F_ADMINCODE','H_ADMINCODE','P_ADMINCODE']]"
   ]
  },
  {
   "cell_type": "code",
   "execution_count": 5,
   "metadata": {
    "scrolled": true
   },
   "outputs": [
    {
     "name": "stdout",
     "output_type": "stream",
     "text": [
      "<class 'pandas.core.frame.DataFrame'>\n",
      "RangeIndex: 175182 entries, 0 to 175181\n",
      "Data columns (total 57 columns):\n",
      " #   Column             Non-Null Count   Dtype  \n",
      "---  ------             --------------   -----  \n",
      " 0   ACT                175182 non-null  int64  \n",
      " 1   ADM_RESULT         22854 non-null   float64\n",
      " 2   AGE                175182 non-null  float64\n",
      " 3   BYSTANDER_CPR      175182 non-null  int64  \n",
      " 4   CAUSE              175182 non-null  int64  \n",
      " 5   CAUSE_DISEASE      129256 non-null  float64\n",
      " 6   CPC                9935 non-null    float64\n",
      " 7   CPR                164900 non-null  float64\n",
      " 8   DC_DT              22760 non-null   float64\n",
      " 9   DTH_DT             154970 non-null  float64\n",
      " 10  DTH_TM             154970 non-null  float64\n",
      " 11  ER_ADM_DT          175182 non-null  int64  \n",
      " 12  ER_ADM_TM          175182 non-null  int64  \n",
      " 13  ER_DC_DT           175182 non-null  int64  \n",
      " 14  ER_DC_TM           175182 non-null  int64  \n",
      " 15  ER_DEFIB           175182 non-null  int64  \n",
      " 16  ER_DEFIB_DT        24571 non-null   float64\n",
      " 17  ER_DEFIB_TM        24571 non-null   float64\n",
      " 18  ER_EKG             175182 non-null  int64  \n",
      " 19  ER_EKG_DT          175066 non-null  float64\n",
      " 20  ER_EKG_TM          175066 non-null  float64\n",
      " 21  ER_RESULT          175182 non-null  int64  \n",
      " 22  FIRST_DEFIB_PLACE  175182 non-null  int64  \n",
      " 23  FIRST_EKG_PLACE    175182 non-null  int64  \n",
      " 24  F_AED_EKG          110739 non-null  float64\n",
      " 25  F_ARREST_DT        162283 non-null  float64\n",
      " 26  F_ARREST_TM        162283 non-null  float64\n",
      " 27  F_DEFIB            110739 non-null  float64\n",
      " 28  F_PREH_INS         162283 non-null  float64\n",
      " 29  H_PLACE_PUBLIC     175182 non-null  int64  \n",
      " 30  H_SEX              175182 non-null  int64  \n",
      " 31  INS                175182 non-null  int64  \n",
      " 32  LAST_NORM_DT       75309 non-null   object \n",
      " 33  LAST_NORM_TM       75309 non-null   float64\n",
      " 34  NO_CPR             74788 non-null   float64\n",
      " 35  PRE_ER_ARREST_DT   77095 non-null   float64\n",
      " 36  PRE_ER_ARREST_TM   77095 non-null   float64\n",
      " 37  PRE_ER_CPR         175182 non-null  int64  \n",
      " 38  PRE_ER_DEFIB       175182 non-null  int64  \n",
      " 39  PRE_ER_EKG         175182 non-null  int64  \n",
      " 40  PRE_ER_ROSC        175182 non-null  int64  \n",
      " 41  ROSC               90112 non-null   float64\n",
      " 42  STOP_CPR           90112 non-null   float64\n",
      " 43  STOP_CPR_DT        120882 non-null  float64\n",
      " 44  STOP_CPR_TM        120882 non-null  float64\n",
      " 45  WITNESS            175182 non-null  int64  \n",
      " 46  YEAR               175182 non-null  int64  \n",
      " 47  PHX_DM             175182 non-null  int64  \n",
      " 48  PHX_HEART          175182 non-null  int64  \n",
      " 49  PHX_HTN            175182 non-null  int64  \n",
      " 50  PHX_RENAL          175182 non-null  int64  \n",
      " 51  PHX_RESPI          175182 non-null  int64  \n",
      " 52  PHX_STROKE         175182 non-null  int64  \n",
      " 53  PHX_DYSLIPI        175182 non-null  int64  \n",
      " 54  F_ADMINCODE        175182 non-null  int64  \n",
      " 55  H_ADMINCODE        175134 non-null  float64\n",
      " 56  P_ADMINCODE        170459 non-null  float64\n",
      "dtypes: float64(27), int64(29), object(1)\n",
      "memory usage: 76.2+ MB\n"
     ]
    }
   ],
   "source": [
    "df_new.info()"
   ]
  },
  {
   "cell_type": "markdown",
   "metadata": {},
   "source": [
    "## F_ARREST DT & TM  float to datetime"
   ]
  },
  {
   "cell_type": "code",
   "execution_count": 6,
   "metadata": {
    "scrolled": true
   },
   "outputs": [
    {
     "data": {
      "text/plain": [
       "0         20130108.0\n",
       "1         20130120.0\n",
       "2         20130124.0\n",
       "3         20130131.0\n",
       "4         20130107.0\n",
       "             ...    \n",
       "175177    20181103.0\n",
       "175178    20181225.0\n",
       "175179    20181116.0\n",
       "175180           NaN\n",
       "175181    99999999.0\n",
       "Name: F_ARREST_DT, Length: 175182, dtype: float64"
      ]
     },
     "execution_count": 6,
     "metadata": {},
     "output_type": "execute_result"
    }
   ],
   "source": [
    "df_new.F_ARREST_DT"
   ]
  },
  {
   "cell_type": "code",
   "execution_count": 7,
   "metadata": {},
   "outputs": [
    {
     "data": {
      "text/plain": [
       "0          234.0\n",
       "1         2337.0\n",
       "2          430.0\n",
       "3         1000.0\n",
       "4         1707.0\n",
       "           ...  \n",
       "175177    1855.0\n",
       "175178     747.0\n",
       "175179    1900.0\n",
       "175180       NaN\n",
       "175181    9999.0\n",
       "Name: F_ARREST_TM, Length: 175182, dtype: float64"
      ]
     },
     "execution_count": 7,
     "metadata": {},
     "output_type": "execute_result"
    }
   ],
   "source": [
    "df_new.F_ARREST_TM"
   ]
  },
  {
   "cell_type": "code",
   "execution_count": 8,
   "metadata": {},
   "outputs": [
    {
     "data": {
      "text/plain": [
       "0                 NaN\n",
       "1                 NaN\n",
       "2         2.01301e+07\n",
       "3         2.01301e+07\n",
       "4                 NaN\n",
       "             ...     \n",
       "175177            NaN\n",
       "175178            NaN\n",
       "175179    2.01811e+07\n",
       "175180    2.01811e+07\n",
       "175181    2.01811e+07\n",
       "Name: LAST_NORM_DT, Length: 175182, dtype: object"
      ]
     },
     "execution_count": 8,
     "metadata": {},
     "output_type": "execute_result"
    }
   ],
   "source": [
    "df_new.LAST_NORM_DT"
   ]
  },
  {
   "cell_type": "code",
   "execution_count": 9,
   "metadata": {},
   "outputs": [
    {
     "data": {
      "text/plain": [
       "0            NaN\n",
       "1            NaN\n",
       "2         9999.0\n",
       "3         9999.0\n",
       "4            NaN\n",
       "           ...  \n",
       "175177       NaN\n",
       "175178       NaN\n",
       "175179    1700.0\n",
       "175180     100.0\n",
       "175181    9999.0\n",
       "Name: LAST_NORM_TM, Length: 175182, dtype: float64"
      ]
     },
     "execution_count": 9,
     "metadata": {},
     "output_type": "execute_result"
    }
   ],
   "source": [
    "df_new.LAST_NORM_TM"
   ]
  },
  {
   "cell_type": "code",
   "execution_count": 10,
   "metadata": {
    "scrolled": true
   },
   "outputs": [
    {
     "name": "stderr",
     "output_type": "stream",
     "text": [
      "/usr/local/lib/python3.6/dist-packages/ipykernel_launcher.py:1: SettingWithCopyWarning: \n",
      "A value is trying to be set on a copy of a slice from a DataFrame.\n",
      "Try using .loc[row_indexer,col_indexer] = value instead\n",
      "\n",
      "See the caveats in the documentation: https://pandas.pydata.org/pandas-docs/stable/user_guide/indexing.html#returning-a-view-versus-a-copy\n",
      "  \"\"\"Entry point for launching an IPython kernel.\n"
     ]
    }
   ],
   "source": [
    "df_new['F_ARREST_TIME'] = df_new.F_ARREST_DT.fillna(0).astype(int).astype(str)+df_new.F_ARREST_TM.fillna(0).astype(int).astype(str)"
   ]
  },
  {
   "cell_type": "code",
   "execution_count": 11,
   "metadata": {},
   "outputs": [
    {
     "name": "stderr",
     "output_type": "stream",
     "text": [
      "/usr/local/lib/python3.6/dist-packages/ipykernel_launcher.py:1: SettingWithCopyWarning: \n",
      "A value is trying to be set on a copy of a slice from a DataFrame.\n",
      "Try using .loc[row_indexer,col_indexer] = value instead\n",
      "\n",
      "See the caveats in the documentation: https://pandas.pydata.org/pandas-docs/stable/user_guide/indexing.html#returning-a-view-versus-a-copy\n",
      "  \"\"\"Entry point for launching an IPython kernel.\n"
     ]
    }
   ],
   "source": [
    "df_new['LAST_NORM_TIME'] = pd.to_numeric(df_new.LAST_NORM_DT,errors='coerce').fillna(0).astype(int) + pd.to_numeric(df_new.LAST_NORM_TM,errors='coerce').fillna(0).astype(int)"
   ]
  },
  {
   "cell_type": "code",
   "execution_count": 12,
   "metadata": {},
   "outputs": [
    {
     "name": "stderr",
     "output_type": "stream",
     "text": [
      "/usr/local/lib/python3.6/dist-packages/ipykernel_launcher.py:1: SettingWithCopyWarning: \n",
      "A value is trying to be set on a copy of a slice from a DataFrame.\n",
      "Try using .loc[row_indexer,col_indexer] = value instead\n",
      "\n",
      "See the caveats in the documentation: https://pandas.pydata.org/pandas-docs/stable/user_guide/indexing.html#returning-a-view-versus-a-copy\n",
      "  \"\"\"Entry point for launching an IPython kernel.\n"
     ]
    }
   ],
   "source": [
    "df_new['LAST_NORM_TIME'] = pd.to_datetime(df_new['LAST_NORM_TIME'], format='%Y%m%d%H%M', errors='coerce')"
   ]
  },
  {
   "cell_type": "code",
   "execution_count": 13,
   "metadata": {},
   "outputs": [
    {
     "name": "stderr",
     "output_type": "stream",
     "text": [
      "/usr/local/lib/python3.6/dist-packages/ipykernel_launcher.py:1: SettingWithCopyWarning: \n",
      "A value is trying to be set on a copy of a slice from a DataFrame.\n",
      "Try using .loc[row_indexer,col_indexer] = value instead\n",
      "\n",
      "See the caveats in the documentation: https://pandas.pydata.org/pandas-docs/stable/user_guide/indexing.html#returning-a-view-versus-a-copy\n",
      "  \"\"\"Entry point for launching an IPython kernel.\n"
     ]
    }
   ],
   "source": [
    "df_new['F_ARREST_TIME'] = pd.to_datetime(df_new['F_ARREST_TIME'], format='%Y%m%d%H%M', errors='coerce')"
   ]
  },
  {
   "cell_type": "code",
   "execution_count": 14,
   "metadata": {},
   "outputs": [
    {
     "data": {
      "text/plain": [
       "0        2013-01-08 23:04:00\n",
       "1        2013-01-20 23:37:00\n",
       "2        2013-01-24 04:30:00\n",
       "3        2013-01-31 10:00:00\n",
       "4        2013-01-07 17:07:00\n",
       "                 ...        \n",
       "175177   2018-11-03 18:55:00\n",
       "175178   2018-12-25 07:47:00\n",
       "175179   2018-11-16 19:00:00\n",
       "175180                   NaT\n",
       "175181                   NaT\n",
       "Name: F_ARREST_TIME, Length: 175182, dtype: datetime64[ns]"
      ]
     },
     "execution_count": 14,
     "metadata": {},
     "output_type": "execute_result"
    }
   ],
   "source": [
    "df_new['F_ARREST_TIME']"
   ]
  },
  {
   "cell_type": "code",
   "execution_count": 15,
   "metadata": {},
   "outputs": [
    {
     "data": {
      "text/plain": [
       "0                        NaT\n",
       "1                        NaT\n",
       "2                        NaT\n",
       "3                        NaT\n",
       "4                        NaT\n",
       "                 ...        \n",
       "175177                   NaT\n",
       "175178                   NaT\n",
       "175179   2018-02-08 01:06:00\n",
       "175180   2018-01-02 01:09:00\n",
       "175181   2019-01-01 02:01:00\n",
       "Name: LAST_NORM_TIME, Length: 175182, dtype: datetime64[ns]"
      ]
     },
     "execution_count": 15,
     "metadata": {},
     "output_type": "execute_result"
    }
   ],
   "source": [
    "df_new['LAST_NORM_TIME']"
   ]
  },
  {
   "cell_type": "markdown",
   "metadata": {},
   "source": [
    "## ER_ADM DT & TM  int to datetime"
   ]
  },
  {
   "cell_type": "code",
   "execution_count": 16,
   "metadata": {},
   "outputs": [
    {
     "name": "stderr",
     "output_type": "stream",
     "text": [
      "/usr/local/lib/python3.6/dist-packages/ipykernel_launcher.py:1: SettingWithCopyWarning: \n",
      "A value is trying to be set on a copy of a slice from a DataFrame.\n",
      "Try using .loc[row_indexer,col_indexer] = value instead\n",
      "\n",
      "See the caveats in the documentation: https://pandas.pydata.org/pandas-docs/stable/user_guide/indexing.html#returning-a-view-versus-a-copy\n",
      "  \"\"\"Entry point for launching an IPython kernel.\n"
     ]
    }
   ],
   "source": [
    "df_new['ER_ADM_TIME'] = df_new.ER_ADM_DT.fillna(0).astype(str)+df_new.ER_ADM_TM.fillna(0).astype(str)"
   ]
  },
  {
   "cell_type": "code",
   "execution_count": 17,
   "metadata": {},
   "outputs": [
    {
     "name": "stderr",
     "output_type": "stream",
     "text": [
      "/usr/local/lib/python3.6/dist-packages/ipykernel_launcher.py:1: SettingWithCopyWarning: \n",
      "A value is trying to be set on a copy of a slice from a DataFrame.\n",
      "Try using .loc[row_indexer,col_indexer] = value instead\n",
      "\n",
      "See the caveats in the documentation: https://pandas.pydata.org/pandas-docs/stable/user_guide/indexing.html#returning-a-view-versus-a-copy\n",
      "  \"\"\"Entry point for launching an IPython kernel.\n"
     ]
    }
   ],
   "source": [
    "df_new['ER_ADM_TIME'] = pd.to_datetime(df_new['ER_ADM_TIME'], format='%Y%m%d%H%M', errors='coerce')"
   ]
  },
  {
   "cell_type": "code",
   "execution_count": 18,
   "metadata": {},
   "outputs": [
    {
     "data": {
      "text/plain": [
       "0        2013-01-08 02:44:00\n",
       "1        2013-01-20 23:58:00\n",
       "2        2013-01-24 05:14:00\n",
       "3        2013-01-31 10:52:00\n",
       "4        2013-01-07 17:19:00\n",
       "                 ...        \n",
       "175177   2018-11-03 20:47:00\n",
       "175178   2018-12-25 08:56:00\n",
       "175179   2018-11-16 19:47:00\n",
       "175180   2018-11-19 22:01:00\n",
       "175181   2018-11-22 14:53:00\n",
       "Name: ER_ADM_TIME, Length: 175182, dtype: datetime64[ns]"
      ]
     },
     "execution_count": 18,
     "metadata": {},
     "output_type": "execute_result"
    }
   ],
   "source": [
    "df_new['ER_ADM_TIME']"
   ]
  },
  {
   "cell_type": "markdown",
   "metadata": {},
   "source": [
    "## STOP_CPR DT & TM  float to datetime"
   ]
  },
  {
   "cell_type": "code",
   "execution_count": 19,
   "metadata": {},
   "outputs": [
    {
     "name": "stderr",
     "output_type": "stream",
     "text": [
      "/usr/local/lib/python3.6/dist-packages/ipykernel_launcher.py:1: SettingWithCopyWarning: \n",
      "A value is trying to be set on a copy of a slice from a DataFrame.\n",
      "Try using .loc[row_indexer,col_indexer] = value instead\n",
      "\n",
      "See the caveats in the documentation: https://pandas.pydata.org/pandas-docs/stable/user_guide/indexing.html#returning-a-view-versus-a-copy\n",
      "  \"\"\"Entry point for launching an IPython kernel.\n"
     ]
    }
   ],
   "source": [
    "df_new['STOP_CPR_TIME'] = df_new.STOP_CPR_DT.fillna(0).astype(int).astype(str)+df_new.STOP_CPR_TM.fillna(0).astype(int).astype(str)"
   ]
  },
  {
   "cell_type": "code",
   "execution_count": 20,
   "metadata": {},
   "outputs": [
    {
     "name": "stderr",
     "output_type": "stream",
     "text": [
      "/usr/local/lib/python3.6/dist-packages/ipykernel_launcher.py:1: SettingWithCopyWarning: \n",
      "A value is trying to be set on a copy of a slice from a DataFrame.\n",
      "Try using .loc[row_indexer,col_indexer] = value instead\n",
      "\n",
      "See the caveats in the documentation: https://pandas.pydata.org/pandas-docs/stable/user_guide/indexing.html#returning-a-view-versus-a-copy\n",
      "  \"\"\"Entry point for launching an IPython kernel.\n"
     ]
    }
   ],
   "source": [
    "df_new['STOP_CPR_TIME'] = pd.to_datetime(df_new['STOP_CPR_TIME'], format='%Y%m%d%H%M', errors='coerce')"
   ]
  },
  {
   "cell_type": "code",
   "execution_count": 21,
   "metadata": {},
   "outputs": [
    {
     "data": {
      "text/plain": [
       "0                        NaT\n",
       "1        2013-01-02 01:09:00\n",
       "2        2013-01-24 05:18:00\n",
       "3        2013-01-31 10:59:00\n",
       "4        2013-01-07 17:39:00\n",
       "                 ...        \n",
       "175177                   NaT\n",
       "175178   2018-12-25 09:15:00\n",
       "175179   2018-11-16 19:55:00\n",
       "175180                   NaT\n",
       "175181   2018-11-22 15:05:00\n",
       "Name: STOP_CPR_TIME, Length: 175182, dtype: datetime64[ns]"
      ]
     },
     "execution_count": 21,
     "metadata": {},
     "output_type": "execute_result"
    }
   ],
   "source": [
    "df_new['STOP_CPR_TIME']"
   ]
  },
  {
   "cell_type": "markdown",
   "metadata": {},
   "source": [
    "## Make ARREST to ED time"
   ]
  },
  {
   "cell_type": "code",
   "execution_count": 22,
   "metadata": {},
   "outputs": [
    {
     "name": "stderr",
     "output_type": "stream",
     "text": [
      "/usr/local/lib/python3.6/dist-packages/ipykernel_launcher.py:1: SettingWithCopyWarning: \n",
      "A value is trying to be set on a copy of a slice from a DataFrame.\n",
      "Try using .loc[row_indexer,col_indexer] = value instead\n",
      "\n",
      "See the caveats in the documentation: https://pandas.pydata.org/pandas-docs/stable/user_guide/indexing.html#returning-a-view-versus-a-copy\n",
      "  \"\"\"Entry point for launching an IPython kernel.\n"
     ]
    }
   ],
   "source": [
    "df_new['ARREST_ER_TIME'] = df_new['ER_ADM_TIME'] - df_new['F_ARREST_TIME']"
   ]
  },
  {
   "cell_type": "code",
   "execution_count": 23,
   "metadata": {},
   "outputs": [
    {
     "name": "stderr",
     "output_type": "stream",
     "text": [
      "/usr/local/lib/python3.6/dist-packages/ipykernel_launcher.py:1: SettingWithCopyWarning: \n",
      "A value is trying to be set on a copy of a slice from a DataFrame.\n",
      "Try using .loc[row_indexer,col_indexer] = value instead\n",
      "\n",
      "See the caveats in the documentation: https://pandas.pydata.org/pandas-docs/stable/user_guide/indexing.html#returning-a-view-versus-a-copy\n",
      "  \"\"\"Entry point for launching an IPython kernel.\n"
     ]
    }
   ],
   "source": [
    "df_new['ARREST_ER_TIME2'] = df_new['ER_ADM_TIME'] - df_new['LAST_NORM_TIME']"
   ]
  },
  {
   "cell_type": "markdown",
   "metadata": {},
   "source": [
    "## Make CPR duration time"
   ]
  },
  {
   "cell_type": "code",
   "execution_count": 24,
   "metadata": {},
   "outputs": [
    {
     "name": "stderr",
     "output_type": "stream",
     "text": [
      "/usr/local/lib/python3.6/dist-packages/ipykernel_launcher.py:1: SettingWithCopyWarning: \n",
      "A value is trying to be set on a copy of a slice from a DataFrame.\n",
      "Try using .loc[row_indexer,col_indexer] = value instead\n",
      "\n",
      "See the caveats in the documentation: https://pandas.pydata.org/pandas-docs/stable/user_guide/indexing.html#returning-a-view-versus-a-copy\n",
      "  \"\"\"Entry point for launching an IPython kernel.\n"
     ]
    }
   ],
   "source": [
    "df_new['CPR_DURATION_TIME'] = df_new['STOP_CPR_TIME'] - df_new['ER_ADM_TIME']"
   ]
  },
  {
   "cell_type": "markdown",
   "metadata": {},
   "source": [
    "## Make good neurologic outcome (CPC1&2)"
   ]
  },
  {
   "cell_type": "code",
   "execution_count": 25,
   "metadata": {},
   "outputs": [
    {
     "data": {
      "text/plain": [
       "1.0    2974\n",
       "2.0    2713\n",
       "4.0    2483\n",
       "3.0    1696\n",
       "5.0      35\n",
       "9.0      34\n",
       "Name: CPC, dtype: int64"
      ]
     },
     "execution_count": 25,
     "metadata": {},
     "output_type": "execute_result"
    }
   ],
   "source": [
    " df_new['CPC'].value_counts()"
   ]
  },
  {
   "cell_type": "code",
   "execution_count": 26,
   "metadata": {},
   "outputs": [
    {
     "name": "stderr",
     "output_type": "stream",
     "text": [
      "/usr/local/lib/python3.6/dist-packages/ipykernel_launcher.py:1: SettingWithCopyWarning: \n",
      "A value is trying to be set on a copy of a slice from a DataFrame.\n",
      "Try using .loc[row_indexer,col_indexer] = value instead\n",
      "\n",
      "See the caveats in the documentation: https://pandas.pydata.org/pandas-docs/stable/user_guide/indexing.html#returning-a-view-versus-a-copy\n",
      "  \"\"\"Entry point for launching an IPython kernel.\n"
     ]
    }
   ],
   "source": [
    " df_new['GOOD_NEUROLOGIC_OUTCOME'] = (df_new['CPC']==1.0) | (df_new['CPC']==2.0)"
   ]
  },
  {
   "cell_type": "code",
   "execution_count": 27,
   "metadata": {},
   "outputs": [
    {
     "data": {
      "text/plain": [
       "False    169495\n",
       "True       5687\n",
       "Name: GOOD_NEUROLOGIC_OUTCOME, dtype: int64"
      ]
     },
     "execution_count": 27,
     "metadata": {},
     "output_type": "execute_result"
    }
   ],
   "source": [
    " df_new['GOOD_NEUROLOGIC_OUTCOME'].value_counts()"
   ]
  },
  {
   "cell_type": "markdown",
   "metadata": {},
   "source": [
    "## Make survival outcome"
   ]
  },
  {
   "cell_type": "code",
   "execution_count": 28,
   "metadata": {},
   "outputs": [
    {
     "name": "stderr",
     "output_type": "stream",
     "text": [
      "/usr/local/lib/python3.6/dist-packages/ipykernel_launcher.py:1: SettingWithCopyWarning: \n",
      "A value is trying to be set on a copy of a slice from a DataFrame.\n",
      "Try using .loc[row_indexer,col_indexer] = value instead\n",
      "\n",
      "See the caveats in the documentation: https://pandas.pydata.org/pandas-docs/stable/user_guide/indexing.html#returning-a-view-versus-a-copy\n",
      "  \"\"\"Entry point for launching an IPython kernel.\n"
     ]
    }
   ],
   "source": [
    " df_new['SURVIVAL_OUTCOME'] = (df_new['ER_RESULT']==10) | (df_new['ADM_RESULT']==10.0)| (df_new['ADM_RESULT']==20.0)| (df_new['ADM_RESULT']==30.0)"
   ]
  },
  {
   "cell_type": "code",
   "execution_count": 29,
   "metadata": {},
   "outputs": [
    {
     "data": {
      "text/plain": [
       "False    165247\n",
       "True       9935\n",
       "Name: SURVIVAL_OUTCOME, dtype: int64"
      ]
     },
     "execution_count": 29,
     "metadata": {},
     "output_type": "execute_result"
    }
   ],
   "source": [
    " df_new['SURVIVAL_OUTCOME'].value_counts()"
   ]
  },
  {
   "cell_type": "code",
   "execution_count": 30,
   "metadata": {},
   "outputs": [
    {
     "data": {
      "text/plain": [
       "40.0    12589\n",
       "10.0     5557\n",
       "30.0     4061\n",
       "41.0      348\n",
       "20.0      184\n",
       "31.0       94\n",
       "88.0       13\n",
       "99.0        8\n",
       "Name: ADM_RESULT, dtype: int64"
      ]
     },
     "execution_count": 30,
     "metadata": {},
     "output_type": "execute_result"
    }
   ],
   "source": [
    " df_new['ADM_RESULT'].value_counts()"
   ]
  },
  {
   "cell_type": "markdown",
   "metadata": {},
   "source": [
    "## Exclude Trauma patients"
   ]
  },
  {
   "cell_type": "code",
   "execution_count": 31,
   "metadata": {},
   "outputs": [
    {
     "data": {
      "text/plain": [
       "1    129256\n",
       "2     43190\n",
       "9      2736\n",
       "Name: CAUSE, dtype: int64"
      ]
     },
     "execution_count": 31,
     "metadata": {},
     "output_type": "execute_result"
    }
   ],
   "source": [
    "df_new['CAUSE'].value_counts()"
   ]
  },
  {
   "cell_type": "code",
   "execution_count": 32,
   "metadata": {},
   "outputs": [],
   "source": [
    "df_new = df_new[df_new['CAUSE']==1]"
   ]
  },
  {
   "cell_type": "markdown",
   "metadata": {},
   "source": [
    "## Exclude Pre-hospital ROSC"
   ]
  },
  {
   "cell_type": "code",
   "execution_count": 33,
   "metadata": {},
   "outputs": [
    {
     "data": {
      "text/plain": [
       "2    120315\n",
       "1      8941\n",
       "Name: PRE_ER_ROSC, dtype: int64"
      ]
     },
     "execution_count": 33,
     "metadata": {},
     "output_type": "execute_result"
    }
   ],
   "source": [
    "df_new['PRE_ER_ROSC'].value_counts()"
   ]
  },
  {
   "cell_type": "code",
   "execution_count": 34,
   "metadata": {},
   "outputs": [],
   "source": [
    "df_new = df_new[df_new['PRE_ER_ROSC']!=1.0]"
   ]
  },
  {
   "cell_type": "markdown",
   "metadata": {},
   "source": [
    "## Exclude No CPR in ED"
   ]
  },
  {
   "cell_type": "code",
   "execution_count": 35,
   "metadata": {},
   "outputs": [],
   "source": [
    "df_new['ER_CPR'] = ((df_new['CPR']!=1.0) & (df_new['CPR']!=2.0))"
   ]
  },
  {
   "cell_type": "code",
   "execution_count": 36,
   "metadata": {},
   "outputs": [],
   "source": [
    "df_new = df_new[df_new['ER_CPR']==True]"
   ]
  },
  {
   "cell_type": "markdown",
   "metadata": {},
   "source": [
    "## Exclude missing value & outlier"
   ]
  },
  {
   "cell_type": "code",
   "execution_count": 37,
   "metadata": {},
   "outputs": [],
   "source": [
    "df_new['ARREST_ER_TIME'] = np.where(pd.notnull(df_new['ARREST_ER_TIME']) == True, df_new['ARREST_ER_TIME'], df_new['ARREST_ER_TIME2'])"
   ]
  },
  {
   "cell_type": "code",
   "execution_count": 38,
   "metadata": {},
   "outputs": [],
   "source": [
    "df_new = df_new.dropna(subset=['CPR_DURATION_TIME','ARREST_ER_TIME'])"
   ]
  },
  {
   "cell_type": "code",
   "execution_count": 39,
   "metadata": {},
   "outputs": [],
   "source": [
    "idx_wrong_CPR_DURATION_TIME = df_new[(df_new['CPR_DURATION_TIME'].dt.total_seconds()/60)<0].index"
   ]
  },
  {
   "cell_type": "code",
   "execution_count": 40,
   "metadata": {},
   "outputs": [],
   "source": [
    "df_new = df_new.drop(idx_wrong_CPR_DURATION_TIME)"
   ]
  },
  {
   "cell_type": "code",
   "execution_count": 41,
   "metadata": {},
   "outputs": [],
   "source": [
    "idx_wrong_ARREST_ER_TIME = df_new[(df_new['ARREST_ER_TIME'].dt.total_seconds()/60)<0].index"
   ]
  },
  {
   "cell_type": "code",
   "execution_count": 42,
   "metadata": {},
   "outputs": [],
   "source": [
    "df_new = df_new.drop(idx_wrong_ARREST_ER_TIME)"
   ]
  },
  {
   "cell_type": "code",
   "execution_count": 43,
   "metadata": {},
   "outputs": [],
   "source": [
    "idx_wrong_ARREST_ER_TIME = df_new[(df_new['ARREST_ER_TIME'].dt.total_seconds())>86400].index"
   ]
  },
  {
   "cell_type": "code",
   "execution_count": 44,
   "metadata": {},
   "outputs": [],
   "source": [
    "df_new = df_new.drop(idx_wrong_ARREST_ER_TIME)"
   ]
  },
  {
   "cell_type": "code",
   "execution_count": 45,
   "metadata": {},
   "outputs": [],
   "source": [
    "idx_wrong_CPR_DURATION_TIME = df_new[(df_new['CPR_DURATION_TIME'].dt.total_seconds())>86400].index"
   ]
  },
  {
   "cell_type": "code",
   "execution_count": 46,
   "metadata": {},
   "outputs": [],
   "source": [
    "df_new = df_new.drop(idx_wrong_CPR_DURATION_TIME)"
   ]
  },
  {
   "cell_type": "code",
   "execution_count": 47,
   "metadata": {},
   "outputs": [
    {
     "data": {
      "text/html": [
       "<div>\n",
       "<style scoped>\n",
       "    .dataframe tbody tr th:only-of-type {\n",
       "        vertical-align: middle;\n",
       "    }\n",
       "\n",
       "    .dataframe tbody tr th {\n",
       "        vertical-align: top;\n",
       "    }\n",
       "\n",
       "    .dataframe thead th {\n",
       "        text-align: right;\n",
       "    }\n",
       "</style>\n",
       "<table border=\"1\" class=\"dataframe\">\n",
       "  <thead>\n",
       "    <tr style=\"text-align: right;\">\n",
       "      <th></th>\n",
       "      <th>ACT</th>\n",
       "      <th>ADM_RESULT</th>\n",
       "      <th>AGE</th>\n",
       "      <th>BYSTANDER_CPR</th>\n",
       "      <th>CAUSE</th>\n",
       "      <th>CAUSE_DISEASE</th>\n",
       "      <th>CPC</th>\n",
       "      <th>CPR</th>\n",
       "      <th>DC_DT</th>\n",
       "      <th>DTH_DT</th>\n",
       "      <th>...</th>\n",
       "      <th>F_ARREST_TIME</th>\n",
       "      <th>LAST_NORM_TIME</th>\n",
       "      <th>ER_ADM_TIME</th>\n",
       "      <th>STOP_CPR_TIME</th>\n",
       "      <th>ARREST_ER_TIME</th>\n",
       "      <th>ARREST_ER_TIME2</th>\n",
       "      <th>CPR_DURATION_TIME</th>\n",
       "      <th>GOOD_NEUROLOGIC_OUTCOME</th>\n",
       "      <th>SURVIVAL_OUTCOME</th>\n",
       "      <th>ER_CPR</th>\n",
       "    </tr>\n",
       "  </thead>\n",
       "  <tbody>\n",
       "    <tr>\n",
       "      <th>9</th>\n",
       "      <td>7</td>\n",
       "      <td>NaN</td>\n",
       "      <td>61.0</td>\n",
       "      <td>2</td>\n",
       "      <td>1</td>\n",
       "      <td>1.0</td>\n",
       "      <td>NaN</td>\n",
       "      <td>3.0</td>\n",
       "      <td>NaN</td>\n",
       "      <td>20130105.0</td>\n",
       "      <td>...</td>\n",
       "      <td>2013-01-05 07:28:00</td>\n",
       "      <td>NaT</td>\n",
       "      <td>2013-01-05 07:46:00</td>\n",
       "      <td>2013-01-05 08:15:00</td>\n",
       "      <td>0 days 00:18:00</td>\n",
       "      <td>NaT</td>\n",
       "      <td>0 days 00:29:00</td>\n",
       "      <td>False</td>\n",
       "      <td>False</td>\n",
       "      <td>True</td>\n",
       "    </tr>\n",
       "    <tr>\n",
       "      <th>10</th>\n",
       "      <td>7</td>\n",
       "      <td>NaN</td>\n",
       "      <td>71.0</td>\n",
       "      <td>1</td>\n",
       "      <td>1</td>\n",
       "      <td>1.0</td>\n",
       "      <td>NaN</td>\n",
       "      <td>3.0</td>\n",
       "      <td>NaN</td>\n",
       "      <td>20130126.0</td>\n",
       "      <td>...</td>\n",
       "      <td>2013-01-26 03:03:00</td>\n",
       "      <td>2013-02-03 02:05:00</td>\n",
       "      <td>2013-01-26 04:09:00</td>\n",
       "      <td>2013-01-26 11:07:00</td>\n",
       "      <td>0 days 01:06:00</td>\n",
       "      <td>-8 days +02:04:00</td>\n",
       "      <td>0 days 06:58:00</td>\n",
       "      <td>False</td>\n",
       "      <td>False</td>\n",
       "      <td>True</td>\n",
       "    </tr>\n",
       "    <tr>\n",
       "      <th>11</th>\n",
       "      <td>7</td>\n",
       "      <td>NaN</td>\n",
       "      <td>54.0</td>\n",
       "      <td>1</td>\n",
       "      <td>1</td>\n",
       "      <td>1.0</td>\n",
       "      <td>NaN</td>\n",
       "      <td>3.0</td>\n",
       "      <td>NaN</td>\n",
       "      <td>20130129.0</td>\n",
       "      <td>...</td>\n",
       "      <td>2013-01-29 15:23:00</td>\n",
       "      <td>NaT</td>\n",
       "      <td>2013-01-29 15:44:00</td>\n",
       "      <td>2013-01-29 16:23:00</td>\n",
       "      <td>0 days 00:21:00</td>\n",
       "      <td>NaT</td>\n",
       "      <td>0 days 00:39:00</td>\n",
       "      <td>False</td>\n",
       "      <td>False</td>\n",
       "      <td>True</td>\n",
       "    </tr>\n",
       "    <tr>\n",
       "      <th>15</th>\n",
       "      <td>7</td>\n",
       "      <td>NaN</td>\n",
       "      <td>57.0</td>\n",
       "      <td>9</td>\n",
       "      <td>1</td>\n",
       "      <td>1.0</td>\n",
       "      <td>NaN</td>\n",
       "      <td>3.0</td>\n",
       "      <td>NaN</td>\n",
       "      <td>20130122.0</td>\n",
       "      <td>...</td>\n",
       "      <td>2013-01-22 17:15:00</td>\n",
       "      <td>NaT</td>\n",
       "      <td>2013-01-22 17:30:00</td>\n",
       "      <td>2013-01-22 17:55:00</td>\n",
       "      <td>0 days 00:15:00</td>\n",
       "      <td>NaT</td>\n",
       "      <td>0 days 00:25:00</td>\n",
       "      <td>False</td>\n",
       "      <td>False</td>\n",
       "      <td>True</td>\n",
       "    </tr>\n",
       "    <tr>\n",
       "      <th>17</th>\n",
       "      <td>7</td>\n",
       "      <td>NaN</td>\n",
       "      <td>61.0</td>\n",
       "      <td>9</td>\n",
       "      <td>1</td>\n",
       "      <td>1.0</td>\n",
       "      <td>NaN</td>\n",
       "      <td>3.0</td>\n",
       "      <td>NaN</td>\n",
       "      <td>20130117.0</td>\n",
       "      <td>...</td>\n",
       "      <td>2013-01-17 06:03:00</td>\n",
       "      <td>NaT</td>\n",
       "      <td>2013-01-17 06:09:00</td>\n",
       "      <td>2013-01-17 06:34:00</td>\n",
       "      <td>0 days 00:06:00</td>\n",
       "      <td>NaT</td>\n",
       "      <td>0 days 00:25:00</td>\n",
       "      <td>False</td>\n",
       "      <td>False</td>\n",
       "      <td>True</td>\n",
       "    </tr>\n",
       "    <tr>\n",
       "      <th>...</th>\n",
       "      <td>...</td>\n",
       "      <td>...</td>\n",
       "      <td>...</td>\n",
       "      <td>...</td>\n",
       "      <td>...</td>\n",
       "      <td>...</td>\n",
       "      <td>...</td>\n",
       "      <td>...</td>\n",
       "      <td>...</td>\n",
       "      <td>...</td>\n",
       "      <td>...</td>\n",
       "      <td>...</td>\n",
       "      <td>...</td>\n",
       "      <td>...</td>\n",
       "      <td>...</td>\n",
       "      <td>...</td>\n",
       "      <td>...</td>\n",
       "      <td>...</td>\n",
       "      <td>...</td>\n",
       "      <td>...</td>\n",
       "      <td>...</td>\n",
       "    </tr>\n",
       "    <tr>\n",
       "      <th>175166</th>\n",
       "      <td>99</td>\n",
       "      <td>NaN</td>\n",
       "      <td>89.0</td>\n",
       "      <td>9</td>\n",
       "      <td>1</td>\n",
       "      <td>1.0</td>\n",
       "      <td>NaN</td>\n",
       "      <td>3.0</td>\n",
       "      <td>NaN</td>\n",
       "      <td>20181216.0</td>\n",
       "      <td>...</td>\n",
       "      <td>2018-12-16 03:09:00</td>\n",
       "      <td>2018-03-05 01:05:00</td>\n",
       "      <td>2018-12-16 12:02:00</td>\n",
       "      <td>2018-12-16 14:02:00</td>\n",
       "      <td>0 days 08:53:00</td>\n",
       "      <td>286 days 10:57:00</td>\n",
       "      <td>0 days 02:00:00</td>\n",
       "      <td>False</td>\n",
       "      <td>False</td>\n",
       "      <td>True</td>\n",
       "    </tr>\n",
       "    <tr>\n",
       "      <th>175170</th>\n",
       "      <td>8</td>\n",
       "      <td>NaN</td>\n",
       "      <td>98.0</td>\n",
       "      <td>8</td>\n",
       "      <td>1</td>\n",
       "      <td>8.0</td>\n",
       "      <td>NaN</td>\n",
       "      <td>3.0</td>\n",
       "      <td>NaN</td>\n",
       "      <td>20181203.0</td>\n",
       "      <td>...</td>\n",
       "      <td>2018-12-03 10:22:00</td>\n",
       "      <td>NaT</td>\n",
       "      <td>2018-12-03 10:45:00</td>\n",
       "      <td>2018-12-03 11:30:00</td>\n",
       "      <td>0 days 00:23:00</td>\n",
       "      <td>NaT</td>\n",
       "      <td>0 days 00:45:00</td>\n",
       "      <td>False</td>\n",
       "      <td>False</td>\n",
       "      <td>True</td>\n",
       "    </tr>\n",
       "    <tr>\n",
       "      <th>175171</th>\n",
       "      <td>7</td>\n",
       "      <td>NaN</td>\n",
       "      <td>77.0</td>\n",
       "      <td>9</td>\n",
       "      <td>1</td>\n",
       "      <td>1.0</td>\n",
       "      <td>NaN</td>\n",
       "      <td>3.0</td>\n",
       "      <td>NaN</td>\n",
       "      <td>NaN</td>\n",
       "      <td>...</td>\n",
       "      <td>2018-12-25 08:48:00</td>\n",
       "      <td>NaT</td>\n",
       "      <td>2018-12-25 09:39:00</td>\n",
       "      <td>2018-12-25 10:03:00</td>\n",
       "      <td>0 days 00:51:00</td>\n",
       "      <td>NaT</td>\n",
       "      <td>0 days 00:24:00</td>\n",
       "      <td>False</td>\n",
       "      <td>False</td>\n",
       "      <td>True</td>\n",
       "    </tr>\n",
       "    <tr>\n",
       "      <th>175175</th>\n",
       "      <td>8</td>\n",
       "      <td>NaN</td>\n",
       "      <td>65.0</td>\n",
       "      <td>8</td>\n",
       "      <td>1</td>\n",
       "      <td>1.0</td>\n",
       "      <td>NaN</td>\n",
       "      <td>3.0</td>\n",
       "      <td>NaN</td>\n",
       "      <td>20181022.0</td>\n",
       "      <td>...</td>\n",
       "      <td>2018-10-22 10:34:00</td>\n",
       "      <td>NaT</td>\n",
       "      <td>2018-10-22 11:13:00</td>\n",
       "      <td>2018-10-22 11:45:00</td>\n",
       "      <td>0 days 00:39:00</td>\n",
       "      <td>NaT</td>\n",
       "      <td>0 days 00:32:00</td>\n",
       "      <td>False</td>\n",
       "      <td>False</td>\n",
       "      <td>True</td>\n",
       "    </tr>\n",
       "    <tr>\n",
       "      <th>175176</th>\n",
       "      <td>2</td>\n",
       "      <td>40.0</td>\n",
       "      <td>70.0</td>\n",
       "      <td>2</td>\n",
       "      <td>1</td>\n",
       "      <td>1.0</td>\n",
       "      <td>NaN</td>\n",
       "      <td>3.0</td>\n",
       "      <td>20181223.0</td>\n",
       "      <td>20181223.0</td>\n",
       "      <td>...</td>\n",
       "      <td>2018-12-22 15:29:00</td>\n",
       "      <td>NaT</td>\n",
       "      <td>2018-12-22 16:22:00</td>\n",
       "      <td>2018-12-22 16:41:00</td>\n",
       "      <td>0 days 00:53:00</td>\n",
       "      <td>NaT</td>\n",
       "      <td>0 days 00:19:00</td>\n",
       "      <td>False</td>\n",
       "      <td>False</td>\n",
       "      <td>True</td>\n",
       "    </tr>\n",
       "  </tbody>\n",
       "</table>\n",
       "<p>49669 rows × 67 columns</p>\n",
       "</div>"
      ],
      "text/plain": [
       "        ACT  ADM_RESULT   AGE  BYSTANDER_CPR  CAUSE  CAUSE_DISEASE  CPC  CPR  \\\n",
       "9         7         NaN  61.0              2      1            1.0  NaN  3.0   \n",
       "10        7         NaN  71.0              1      1            1.0  NaN  3.0   \n",
       "11        7         NaN  54.0              1      1            1.0  NaN  3.0   \n",
       "15        7         NaN  57.0              9      1            1.0  NaN  3.0   \n",
       "17        7         NaN  61.0              9      1            1.0  NaN  3.0   \n",
       "...     ...         ...   ...            ...    ...            ...  ...  ...   \n",
       "175166   99         NaN  89.0              9      1            1.0  NaN  3.0   \n",
       "175170    8         NaN  98.0              8      1            8.0  NaN  3.0   \n",
       "175171    7         NaN  77.0              9      1            1.0  NaN  3.0   \n",
       "175175    8         NaN  65.0              8      1            1.0  NaN  3.0   \n",
       "175176    2        40.0  70.0              2      1            1.0  NaN  3.0   \n",
       "\n",
       "             DC_DT      DTH_DT  ...       F_ARREST_TIME      LAST_NORM_TIME  \\\n",
       "9              NaN  20130105.0  ... 2013-01-05 07:28:00                 NaT   \n",
       "10             NaN  20130126.0  ... 2013-01-26 03:03:00 2013-02-03 02:05:00   \n",
       "11             NaN  20130129.0  ... 2013-01-29 15:23:00                 NaT   \n",
       "15             NaN  20130122.0  ... 2013-01-22 17:15:00                 NaT   \n",
       "17             NaN  20130117.0  ... 2013-01-17 06:03:00                 NaT   \n",
       "...            ...         ...  ...                 ...                 ...   \n",
       "175166         NaN  20181216.0  ... 2018-12-16 03:09:00 2018-03-05 01:05:00   \n",
       "175170         NaN  20181203.0  ... 2018-12-03 10:22:00                 NaT   \n",
       "175171         NaN         NaN  ... 2018-12-25 08:48:00                 NaT   \n",
       "175175         NaN  20181022.0  ... 2018-10-22 10:34:00                 NaT   \n",
       "175176  20181223.0  20181223.0  ... 2018-12-22 15:29:00                 NaT   \n",
       "\n",
       "               ER_ADM_TIME       STOP_CPR_TIME  ARREST_ER_TIME  \\\n",
       "9      2013-01-05 07:46:00 2013-01-05 08:15:00 0 days 00:18:00   \n",
       "10     2013-01-26 04:09:00 2013-01-26 11:07:00 0 days 01:06:00   \n",
       "11     2013-01-29 15:44:00 2013-01-29 16:23:00 0 days 00:21:00   \n",
       "15     2013-01-22 17:30:00 2013-01-22 17:55:00 0 days 00:15:00   \n",
       "17     2013-01-17 06:09:00 2013-01-17 06:34:00 0 days 00:06:00   \n",
       "...                    ...                 ...             ...   \n",
       "175166 2018-12-16 12:02:00 2018-12-16 14:02:00 0 days 08:53:00   \n",
       "175170 2018-12-03 10:45:00 2018-12-03 11:30:00 0 days 00:23:00   \n",
       "175171 2018-12-25 09:39:00 2018-12-25 10:03:00 0 days 00:51:00   \n",
       "175175 2018-10-22 11:13:00 2018-10-22 11:45:00 0 days 00:39:00   \n",
       "175176 2018-12-22 16:22:00 2018-12-22 16:41:00 0 days 00:53:00   \n",
       "\n",
       "         ARREST_ER_TIME2  CPR_DURATION_TIME  GOOD_NEUROLOGIC_OUTCOME  \\\n",
       "9                    NaT    0 days 00:29:00                    False   \n",
       "10     -8 days +02:04:00    0 days 06:58:00                    False   \n",
       "11                   NaT    0 days 00:39:00                    False   \n",
       "15                   NaT    0 days 00:25:00                    False   \n",
       "17                   NaT    0 days 00:25:00                    False   \n",
       "...                  ...                ...                      ...   \n",
       "175166 286 days 10:57:00    0 days 02:00:00                    False   \n",
       "175170               NaT    0 days 00:45:00                    False   \n",
       "175171               NaT    0 days 00:24:00                    False   \n",
       "175175               NaT    0 days 00:32:00                    False   \n",
       "175176               NaT    0 days 00:19:00                    False   \n",
       "\n",
       "        SURVIVAL_OUTCOME  ER_CPR  \n",
       "9                  False    True  \n",
       "10                 False    True  \n",
       "11                 False    True  \n",
       "15                 False    True  \n",
       "17                 False    True  \n",
       "...                  ...     ...  \n",
       "175166             False    True  \n",
       "175170             False    True  \n",
       "175171             False    True  \n",
       "175175             False    True  \n",
       "175176             False    True  \n",
       "\n",
       "[49669 rows x 67 columns]"
      ]
     },
     "execution_count": 47,
     "metadata": {},
     "output_type": "execute_result"
    }
   ],
   "source": [
    "df_new"
   ]
  },
  {
   "cell_type": "markdown",
   "metadata": {},
   "source": [
    "## Save Dataframe"
   ]
  },
  {
   "cell_type": "code",
   "execution_count": 48,
   "metadata": {},
   "outputs": [
    {
     "data": {
      "text/plain": [
       "Index(['ACT', 'ADM_RESULT', 'AGE', 'BYSTANDER_CPR', 'CAUSE', 'CAUSE_DISEASE',\n",
       "       'CPC', 'CPR', 'DC_DT', 'DTH_DT', 'DTH_TM', 'ER_ADM_DT', 'ER_ADM_TM',\n",
       "       'ER_DC_DT', 'ER_DC_TM', 'ER_DEFIB', 'ER_DEFIB_DT', 'ER_DEFIB_TM',\n",
       "       'ER_EKG', 'ER_EKG_DT', 'ER_EKG_TM', 'ER_RESULT', 'FIRST_DEFIB_PLACE',\n",
       "       'FIRST_EKG_PLACE', 'F_AED_EKG', 'F_ARREST_DT', 'F_ARREST_TM', 'F_DEFIB',\n",
       "       'F_PREH_INS', 'H_PLACE_PUBLIC', 'H_SEX', 'INS', 'LAST_NORM_DT',\n",
       "       'LAST_NORM_TM', 'NO_CPR', 'PRE_ER_ARREST_DT', 'PRE_ER_ARREST_TM',\n",
       "       'PRE_ER_CPR', 'PRE_ER_DEFIB', 'PRE_ER_EKG', 'PRE_ER_ROSC', 'ROSC',\n",
       "       'STOP_CPR', 'STOP_CPR_DT', 'STOP_CPR_TM', 'WITNESS', 'YEAR', 'PHX_DM',\n",
       "       'PHX_HEART', 'PHX_HTN', 'PHX_RENAL', 'PHX_RESPI', 'PHX_STROKE',\n",
       "       'PHX_DYSLIPI', 'F_ADMINCODE', 'H_ADMINCODE', 'P_ADMINCODE',\n",
       "       'F_ARREST_TIME', 'LAST_NORM_TIME', 'ER_ADM_TIME', 'STOP_CPR_TIME',\n",
       "       'ARREST_ER_TIME', 'ARREST_ER_TIME2', 'CPR_DURATION_TIME',\n",
       "       'GOOD_NEUROLOGIC_OUTCOME', 'SURVIVAL_OUTCOME', 'ER_CPR'],\n",
       "      dtype='object')"
      ]
     },
     "execution_count": 48,
     "metadata": {},
     "output_type": "execute_result"
    }
   ],
   "source": [
    "df_new.columns"
   ]
  },
  {
   "cell_type": "code",
   "execution_count": 49,
   "metadata": {},
   "outputs": [],
   "source": [
    "df = df_new[['ACT','AGE', 'BYSTANDER_CPR', 'CAUSE_DISEASE',\n",
    "       'ER_DEFIB', 'ER_EKG', 'FIRST_DEFIB_PLACE',\n",
    "       'FIRST_EKG_PLACE', 'H_PLACE_PUBLIC', 'H_SEX',\n",
    "       'PRE_ER_CPR', 'PRE_ER_DEFIB', 'PRE_ER_EKG', \n",
    "       'WITNESS', 'YEAR', 'PHX_DM',\n",
    "       'PHX_HEART', 'PHX_HTN', 'PHX_RENAL', 'PHX_RESPI', 'PHX_STROKE',\n",
    "       'PHX_DYSLIPI',\n",
    "       'ARREST_ER_TIME', \n",
    "       'CPR_DURATION_TIME', 'GOOD_NEUROLOGIC_OUTCOME', 'SURVIVAL_OUTCOME',\n",
    "       'ER_CPR']]"
   ]
  },
  {
   "cell_type": "code",
   "execution_count": 50,
   "metadata": {},
   "outputs": [
    {
     "name": "stderr",
     "output_type": "stream",
     "text": [
      "/shl_drive/shl_home/jiwoong/.local/lib/python3.6/site-packages/pandas/core/generic.py:5170: SettingWithCopyWarning: \n",
      "A value is trying to be set on a copy of a slice from a DataFrame.\n",
      "Try using .loc[row_indexer,col_indexer] = value instead\n",
      "\n",
      "See the caveats in the documentation: https://pandas.pydata.org/pandas-docs/stable/user_guide/indexing.html#returning-a-view-versus-a-copy\n",
      "  self[name] = value\n"
     ]
    }
   ],
   "source": [
    "df.CPR_DURATION_TIME = df.CPR_DURATION_TIME.dt.total_seconds()"
   ]
  },
  {
   "cell_type": "code",
   "execution_count": 51,
   "metadata": {},
   "outputs": [],
   "source": [
    "df.ARREST_ER_TIME= df.ARREST_ER_TIME.dt.total_seconds()"
   ]
  },
  {
   "cell_type": "markdown",
   "metadata": {},
   "source": [
    "## Make tableOne"
   ]
  },
  {
   "cell_type": "code",
   "execution_count": 52,
   "metadata": {},
   "outputs": [],
   "source": [
    "from tableone import TableOne"
   ]
  },
  {
   "cell_type": "code",
   "execution_count": 53,
   "metadata": {},
   "outputs": [
    {
     "name": "stdout",
     "output_type": "stream",
     "text": [
      "<class 'pandas.core.frame.DataFrame'>\n",
      "Int64Index: 49669 entries, 9 to 175176\n",
      "Data columns (total 27 columns):\n",
      " #   Column                   Non-Null Count  Dtype  \n",
      "---  ------                   --------------  -----  \n",
      " 0   ACT                      49669 non-null  int64  \n",
      " 1   AGE                      49669 non-null  float64\n",
      " 2   BYSTANDER_CPR            49669 non-null  int64  \n",
      " 3   CAUSE_DISEASE            49669 non-null  float64\n",
      " 4   ER_DEFIB                 49669 non-null  int64  \n",
      " 5   ER_EKG                   49669 non-null  int64  \n",
      " 6   FIRST_DEFIB_PLACE        49669 non-null  int64  \n",
      " 7   FIRST_EKG_PLACE          49669 non-null  int64  \n",
      " 8   H_PLACE_PUBLIC           49669 non-null  int64  \n",
      " 9   H_SEX                    49669 non-null  int64  \n",
      " 10  PRE_ER_CPR               49669 non-null  int64  \n",
      " 11  PRE_ER_DEFIB             49669 non-null  int64  \n",
      " 12  PRE_ER_EKG               49669 non-null  int64  \n",
      " 13  WITNESS                  49669 non-null  int64  \n",
      " 14  YEAR                     49669 non-null  int64  \n",
      " 15  PHX_DM                   49669 non-null  int64  \n",
      " 16  PHX_HEART                49669 non-null  int64  \n",
      " 17  PHX_HTN                  49669 non-null  int64  \n",
      " 18  PHX_RENAL                49669 non-null  int64  \n",
      " 19  PHX_RESPI                49669 non-null  int64  \n",
      " 20  PHX_STROKE               49669 non-null  int64  \n",
      " 21  PHX_DYSLIPI              49669 non-null  int64  \n",
      " 22  ARREST_ER_TIME           49669 non-null  float64\n",
      " 23  CPR_DURATION_TIME        49669 non-null  float64\n",
      " 24  GOOD_NEUROLOGIC_OUTCOME  49669 non-null  bool   \n",
      " 25  SURVIVAL_OUTCOME         49669 non-null  bool   \n",
      " 26  ER_CPR                   49669 non-null  bool   \n",
      "dtypes: bool(3), float64(4), int64(20)\n",
      "memory usage: 9.6 MB\n"
     ]
    }
   ],
   "source": [
    "df.info()"
   ]
  },
  {
   "cell_type": "code",
   "execution_count": 54,
   "metadata": {},
   "outputs": [],
   "source": [
    "columns = ['ACT','AGE', 'BYSTANDER_CPR', 'CAUSE_DISEASE',\n",
    "       'ER_DEFIB', 'ER_EKG', 'FIRST_DEFIB_PLACE',\n",
    "       'FIRST_EKG_PLACE', 'H_PLACE_PUBLIC', 'H_SEX',\n",
    "       'PRE_ER_CPR', 'PRE_ER_DEFIB', 'PRE_ER_EKG', \n",
    "       'WITNESS', 'YEAR', 'PHX_DM',\n",
    "       'PHX_HEART', 'PHX_HTN', 'PHX_RENAL', 'PHX_RESPI', 'PHX_STROKE',\n",
    "       'PHX_DYSLIPI',\n",
    "       'ARREST_ER_TIME', \n",
    "       'CPR_DURATION_TIME', 'GOOD_NEUROLOGIC_OUTCOME', 'SURVIVAL_OUTCOME',\n",
    "       'ER_CPR']"
   ]
  },
  {
   "cell_type": "code",
   "execution_count": 55,
   "metadata": {},
   "outputs": [],
   "source": [
    "categorical = ['ACT','BYSTANDER_CPR', 'CAUSE_DISEASE',\n",
    "       'ER_DEFIB', 'ER_EKG', 'FIRST_DEFIB_PLACE',\n",
    "       'FIRST_EKG_PLACE', 'H_PLACE_PUBLIC', 'H_SEX',\n",
    "       'PRE_ER_CPR', 'PRE_ER_DEFIB', 'PRE_ER_EKG', \n",
    "       'WITNESS', 'YEAR', 'PHX_DM',\n",
    "       'PHX_HEART', 'PHX_HTN', 'PHX_RENAL', 'PHX_RESPI', 'PHX_STROKE',\n",
    "       'PHX_DYSLIPI',\n",
    "       'GOOD_NEUROLOGIC_OUTCOME', 'SURVIVAL_OUTCOME',\n",
    "       'ER_CPR']"
   ]
  },
  {
   "cell_type": "code",
   "execution_count": 56,
   "metadata": {},
   "outputs": [
    {
     "name": "stderr",
     "output_type": "stream",
     "text": [
      "/usr/local/lib/python3.6/dist-packages/ipykernel_launcher.py:1: SettingWithCopyWarning: \n",
      "A value is trying to be set on a copy of a slice from a DataFrame.\n",
      "Try using .loc[row_indexer,col_indexer] = value instead\n",
      "\n",
      "See the caveats in the documentation: https://pandas.pydata.org/pandas-docs/stable/user_guide/indexing.html#returning-a-view-versus-a-copy\n",
      "  \"\"\"Entry point for launching an IPython kernel.\n"
     ]
    }
   ],
   "source": [
    "df['train_or_test'] = df['YEAR'] == 2018"
   ]
  },
  {
   "cell_type": "code",
   "execution_count": 57,
   "metadata": {},
   "outputs": [
    {
     "name": "stderr",
     "output_type": "stream",
     "text": [
      "/shl_drive/shl_home/jiwoong/.local/lib/python3.6/site-packages/tableone/tableone.py:235: DeprecationWarning: The pval_test_name argument is deprecated; use htest_name instead.\n",
      "  \"htest_name instead.\", DeprecationWarning)\n"
     ]
    }
   ],
   "source": [
    "mytable = TableOne(df, columns=columns, categorical=categorical, pval = True, groupby='train_or_test', pval_test_name=True, smd= True)"
   ]
  },
  {
   "cell_type": "code",
   "execution_count": 58,
   "metadata": {},
   "outputs": [
    {
     "data": {
      "text/html": [
       "<div>\n",
       "<style scoped>\n",
       "    .dataframe tbody tr th:only-of-type {\n",
       "        vertical-align: middle;\n",
       "    }\n",
       "\n",
       "    .dataframe tbody tr th {\n",
       "        vertical-align: top;\n",
       "    }\n",
       "\n",
       "    .dataframe thead tr th {\n",
       "        text-align: left;\n",
       "    }\n",
       "</style>\n",
       "<table border=\"1\" class=\"dataframe\">\n",
       "  <thead>\n",
       "    <tr>\n",
       "      <th></th>\n",
       "      <th></th>\n",
       "      <th colspan=\"7\" halign=\"left\">Grouped by train_or_test</th>\n",
       "    </tr>\n",
       "    <tr>\n",
       "      <th></th>\n",
       "      <th></th>\n",
       "      <th>Missing</th>\n",
       "      <th>Overall</th>\n",
       "      <th>False</th>\n",
       "      <th>True</th>\n",
       "      <th>P-Value</th>\n",
       "      <th>Test</th>\n",
       "      <th>SMD (False,True)</th>\n",
       "    </tr>\n",
       "  </thead>\n",
       "  <tbody>\n",
       "    <tr>\n",
       "      <th>n</th>\n",
       "      <th></th>\n",
       "      <td></td>\n",
       "      <td>49669</td>\n",
       "      <td>39602</td>\n",
       "      <td>10067</td>\n",
       "      <td></td>\n",
       "      <td></td>\n",
       "      <td></td>\n",
       "    </tr>\n",
       "    <tr>\n",
       "      <th rowspan=\"4\" valign=\"top\">ACT, n (%)</th>\n",
       "      <th>1</th>\n",
       "      <td>0</td>\n",
       "      <td>106 (0.2)</td>\n",
       "      <td>84 (0.2)</td>\n",
       "      <td>22 (0.2)</td>\n",
       "      <td>&lt;0.001</td>\n",
       "      <td>Chi-squared</td>\n",
       "      <td>nan</td>\n",
       "    </tr>\n",
       "    <tr>\n",
       "      <th>2</th>\n",
       "      <td></td>\n",
       "      <td>1357 (2.7)</td>\n",
       "      <td>1140 (2.9)</td>\n",
       "      <td>217 (2.2)</td>\n",
       "      <td></td>\n",
       "      <td></td>\n",
       "      <td></td>\n",
       "    </tr>\n",
       "    <tr>\n",
       "      <th>3</th>\n",
       "      <td></td>\n",
       "      <td>2015 (4.1)</td>\n",
       "      <td>1664 (4.2)</td>\n",
       "      <td>351 (3.5)</td>\n",
       "      <td></td>\n",
       "      <td></td>\n",
       "      <td></td>\n",
       "    </tr>\n",
       "    <tr>\n",
       "      <th>4</th>\n",
       "      <td></td>\n",
       "      <td>487 (1.0)</td>\n",
       "      <td>395 (1.0)</td>\n",
       "      <td>92 (0.9)</td>\n",
       "      <td></td>\n",
       "      <td></td>\n",
       "      <td></td>\n",
       "    </tr>\n",
       "    <tr>\n",
       "      <th>...</th>\n",
       "      <th>...</th>\n",
       "      <td>...</td>\n",
       "      <td>...</td>\n",
       "      <td>...</td>\n",
       "      <td>...</td>\n",
       "      <td>...</td>\n",
       "      <td>...</td>\n",
       "      <td>...</td>\n",
       "    </tr>\n",
       "    <tr>\n",
       "      <th rowspan=\"2\" valign=\"top\">GOOD_NEUROLOGIC_OUTCOME, n (%)</th>\n",
       "      <th>False</th>\n",
       "      <td>0</td>\n",
       "      <td>48731 (98.1)</td>\n",
       "      <td>38829 (98.0)</td>\n",
       "      <td>9902 (98.4)</td>\n",
       "      <td>0.044</td>\n",
       "      <td>Chi-squared</td>\n",
       "      <td>0.024</td>\n",
       "    </tr>\n",
       "    <tr>\n",
       "      <th>True</th>\n",
       "      <td></td>\n",
       "      <td>938 (1.9)</td>\n",
       "      <td>773 (2.0)</td>\n",
       "      <td>165 (1.6)</td>\n",
       "      <td></td>\n",
       "      <td></td>\n",
       "      <td></td>\n",
       "    </tr>\n",
       "    <tr>\n",
       "      <th rowspan=\"2\" valign=\"top\">SURVIVAL_OUTCOME, n (%)</th>\n",
       "      <th>False</th>\n",
       "      <td>0</td>\n",
       "      <td>46954 (94.5)</td>\n",
       "      <td>37377 (94.4)</td>\n",
       "      <td>9577 (95.1)</td>\n",
       "      <td>0.003</td>\n",
       "      <td>Chi-squared</td>\n",
       "      <td>0.034</td>\n",
       "    </tr>\n",
       "    <tr>\n",
       "      <th>True</th>\n",
       "      <td></td>\n",
       "      <td>2715 (5.5)</td>\n",
       "      <td>2225 (5.6)</td>\n",
       "      <td>490 (4.9)</td>\n",
       "      <td></td>\n",
       "      <td></td>\n",
       "      <td></td>\n",
       "    </tr>\n",
       "    <tr>\n",
       "      <th>ER_CPR, n (%)</th>\n",
       "      <th>True</th>\n",
       "      <td>0</td>\n",
       "      <td>49669 (100.0)</td>\n",
       "      <td>39602 (100.0)</td>\n",
       "      <td>10067 (100.0)</td>\n",
       "      <td>1.000</td>\n",
       "      <td>Chi-squared</td>\n",
       "      <td>&lt;0.001</td>\n",
       "    </tr>\n",
       "  </tbody>\n",
       "</table>\n",
       "<p>102 rows × 7 columns</p>\n",
       "</div><br />[1] Chi-squared tests for the following variables may be invalid due to the low number of observations: ER_EKG, PRE_ER_EKG.<br />"
      ],
      "text/plain": [
       "                                     Grouped by train_or_test                                                                                                                       \n",
       "                                                      Missing          Overall            False             True P-Value                                       Test SMD (False,True)\n",
       "n                                                                        49669            39602            10067                                                                    \n",
       "ACT, n (%)                     1                            0        106 (0.2)         84 (0.2)         22 (0.2)  <0.001                                Chi-squared              nan\n",
       "                               2                                    1357 (2.7)       1140 (2.9)        217 (2.2)                                                                    \n",
       "                               3                                    2015 (4.1)       1664 (4.2)        351 (3.5)                                                                    \n",
       "                               4                                     487 (1.0)        395 (1.0)         92 (0.9)                                                                    \n",
       "                               5                                      49 (0.1)         45 (0.1)          4 (0.0)                                                                    \n",
       "                               6                                    1224 (2.5)        942 (2.4)        282 (2.8)                                                                    \n",
       "                               7                                  25150 (50.6)     21145 (53.4)      4005 (39.8)                                                                    \n",
       "                               8                                   5780 (11.6)      4500 (11.4)      1280 (12.7)                                                                    \n",
       "                               88                                   1429 (2.9)       1040 (2.6)        389 (3.9)                                                                    \n",
       "                               9                                     151 (0.3)        151 (0.4)                                                                                     \n",
       "                               99                                 11921 (24.0)      8496 (21.5)      3425 (34.0)                                                                    \n",
       "AGE, mean (SD)                                              0      67.0 (18.8)      66.5 (19.3)      68.8 (16.6)  <0.001                          Two Sample T-test            0.125\n",
       "BYSTANDER_CPR, n (%)           1                            0      5645 (11.4)      4785 (12.1)        860 (8.5)  <0.001                                Chi-squared            0.333\n",
       "                               2                                   9966 (20.1)      7417 (18.7)      2549 (25.3)                                                                    \n",
       "                               8                                    3415 (6.9)       2142 (5.4)      1273 (12.6)                                                                    \n",
       "                               9                                  30643 (61.7)     25258 (63.8)      5385 (53.5)                                                                    \n",
       "CAUSE_DISEASE, n (%)           1.0                          0     45792 (92.2)     36495 (92.2)      9297 (92.4)  <0.001                                Chi-squared            0.114\n",
       "                               2.0                                   381 (0.8)        303 (0.8)         78 (0.8)                                                                    \n",
       "                               3.0                                   775 (1.6)        558 (1.4)        217 (2.2)                                                                    \n",
       "                               4.0                                   459 (0.9)        430 (1.1)         29 (0.3)                                                                    \n",
       "                               5.0                                   197 (0.4)        147 (0.4)         50 (0.5)                                                                    \n",
       "                               8.0                                  2065 (4.2)       1669 (4.2)        396 (3.9)                                                                    \n",
       "ER_DEFIB, n (%)                1                            0     35849 (72.2)     28097 (70.9)      7752 (77.0)  <0.001                                Chi-squared            0.138\n",
       "                               2                                  13820 (27.8)     11505 (29.1)      2315 (23.0)                                                                    \n",
       "ER_EKG, n (%)                  0                            0        285 (0.6)        147 (0.4)        138 (1.4)  <0.001  Chi-squared (warning: expected count < 5)              nan\n",
       "                               1                                      16 (0.0)         16 (0.0)                                                                                     \n",
       "                               2                                    1913 (3.9)       1576 (4.0)        337 (3.3)                                                                    \n",
       "                               3                                     257 (0.5)        218 (0.6)         39 (0.4)                                                                    \n",
       "                               4                                   5615 (11.3)      4031 (10.2)      1584 (15.7)                                                                    \n",
       "                               5                                  29433 (59.3)     23532 (59.4)      5901 (58.6)                                                                    \n",
       "                               6                                      32 (0.1)         30 (0.1)          2 (0.0)                                                                    \n",
       "                               8                                      70 (0.1)         70 (0.2)                                                                                     \n",
       "                               9                                  12048 (24.3)      9982 (25.2)      2066 (20.5)                                                                    \n",
       "FIRST_DEFIB_PLACE, n (%)       1                            0      7771 (15.6)      6159 (15.6)      1612 (16.0)  <0.001                                Chi-squared            0.201\n",
       "                               2                                      52 (0.1)         44 (0.1)          8 (0.1)                                                                    \n",
       "                               3                                   9457 (19.0)      7977 (20.1)      1480 (14.7)                                                                    \n",
       "                               4                                    2848 (5.7)       1955 (4.9)        893 (8.9)                                                                    \n",
       "                               9                                  29541 (59.5)     23467 (59.3)      6074 (60.3)                                                                    \n",
       "FIRST_EKG_PLACE, n (%)         1                            0     27791 (56.0)     20404 (51.5)      7387 (73.4)  <0.001                                Chi-squared            0.465\n",
       "                               2                                      77 (0.2)         67 (0.2)         10 (0.1)                                                                    \n",
       "                               3                                  14002 (28.2)     12368 (31.2)      1634 (16.2)                                                                    \n",
       "                               9                                   7799 (15.7)      6763 (17.1)      1036 (10.3)                                                                    \n",
       "H_PLACE_PUBLIC, n (%)          1                            0      8030 (16.2)      6517 (16.5)      1513 (15.0)  <0.001                                Chi-squared            0.130\n",
       "                               2                                  33779 (68.0)     27197 (68.7)      6582 (65.4)                                                                    \n",
       "                               8                                     558 (1.1)        446 (1.1)        112 (1.1)                                                                    \n",
       "                               9                                   7302 (14.7)      5442 (13.7)      1860 (18.5)                                                                    \n",
       "H_SEX, n (%)                   1                            0     32049 (64.5)     25670 (64.8)      6379 (63.4)   0.007                                Chi-squared            0.030\n",
       "                               2                                  17620 (35.5)     13932 (35.2)      3688 (36.6)                                                                    \n",
       "PRE_ER_CPR, n (%)              1                            0     44147 (88.9)     34445 (87.0)      9702 (96.4)  <0.001                                Chi-squared            0.345\n",
       "                               2                                     141 (0.3)        132 (0.3)          9 (0.1)                                                                    \n",
       "                               9                                   5381 (10.8)      5025 (12.7)        356 (3.5)                                                                    \n",
       "PRE_ER_DEFIB, n (%)            1                            0       3603 (7.3)       2525 (6.4)      1078 (10.7)  <0.001                                Chi-squared            0.159\n",
       "                               2                                   7823 (15.8)      6203 (15.7)      1620 (16.1)                                                                    \n",
       "                               9                                  38243 (77.0)     30874 (78.0)      7369 (73.2)                                                                    \n",
       "PRE_ER_EKG, n (%)              10                           0         18 (0.0)         13 (0.0)          5 (0.0)  <0.001  Chi-squared (warning: expected count < 5)              nan\n",
       "                               20                                   4732 (9.5)       3603 (9.1)      1129 (11.2)                                                                    \n",
       "                               30                                    335 (0.7)        258 (0.7)         77 (0.8)                                                                    \n",
       "                               40                                  5406 (10.9)       3637 (9.2)      1769 (17.6)                                                                    \n",
       "                               50                                 15820 (31.9)     11593 (29.3)      4227 (42.0)                                                                    \n",
       "                               60                                     89 (0.2)         88 (0.2)          1 (0.0)                                                                    \n",
       "                               81                                    563 (1.1)        515 (1.3)         48 (0.5)                                                                    \n",
       "                               82                                    879 (1.8)        733 (1.9)        146 (1.5)                                                                    \n",
       "                               88                                     44 (0.1)         44 (0.1)                                                                                     \n",
       "                               99                                 21783 (43.9)     19118 (48.3)      2665 (26.5)                                                                    \n",
       "WITNESS, n (%)                 1                            0     16116 (32.4)     12564 (31.7)      3552 (35.3)  <0.001                                Chi-squared            0.190\n",
       "                               2                                  30314 (61.0)     24126 (60.9)      6188 (61.5)                                                                    \n",
       "                               9                                    3239 (6.5)       2912 (7.4)        327 (3.2)                                                                    \n",
       "YEAR, n (%)                    2013                         0      7447 (15.0)      7447 (18.8)                   <0.001                                Chi-squared              nan\n",
       "                               2014                                7952 (16.0)      7952 (20.1)                                                                                     \n",
       "                               2015                                8289 (16.7)      8289 (20.9)                                                                                     \n",
       "                               2016                                7727 (15.6)      7727 (19.5)                                                                                     \n",
       "                               2017                                8187 (16.5)      8187 (20.7)                                                                                     \n",
       "                               2018                               10067 (20.3)                     10067 (100.0)                                                                    \n",
       "PHX_DM, n (%)                  1                            0     11787 (23.7)      9188 (23.2)      2599 (25.8)  <0.001                                Chi-squared            0.209\n",
       "                               2                                  10044 (20.2)      8647 (21.8)      1397 (13.9)                                                                    \n",
       "                               9                                  27838 (56.0)     21767 (55.0)      6071 (60.3)                                                                    \n",
       "PHX_HEART, n (%)               1                            0      8720 (17.6)      6774 (17.1)      1946 (19.3)  <0.001                                Chi-squared            0.059\n",
       "                               2                                   6723 (13.5)      5361 (13.5)      1362 (13.5)                                                                    \n",
       "                               9                                  34226 (68.9)     27467 (69.4)      6759 (67.1)                                                                    \n",
       "PHX_HTN, n (%)                 1                            0     17709 (35.7)     13886 (35.1)      3823 (38.0)  <0.001                                Chi-squared            0.184\n",
       "                               2                                   8286 (16.7)      7127 (18.0)      1159 (11.5)                                                                    \n",
       "                               9                                  23674 (47.7)     18589 (46.9)      5085 (50.5)                                                                    \n",
       "PHX_RENAL, n (%)               1                            0       3192 (6.4)       2489 (6.3)        703 (7.0)   0.018                                Chi-squared            0.031\n",
       "                               2                                   6825 (13.7)      5412 (13.7)      1413 (14.0)                                                                    \n",
       "                               9                                  39652 (79.8)     31701 (80.0)      7951 (79.0)                                                                    \n",
       "PHX_RESPI, n (%)               1                            0       3373 (6.8)       2613 (6.6)        760 (7.5)   0.003                                Chi-squared            0.037\n",
       "                               2                                   6849 (13.8)      5458 (13.8)      1391 (13.8)                                                                    \n",
       "                               9                                  39447 (79.4)     31531 (79.6)      7916 (78.6)                                                                    \n",
       "PHX_STROKE, n (%)              1                            0       4261 (8.6)       3333 (8.4)        928 (9.2)   0.012                                Chi-squared            0.033\n",
       "                               2                                   6860 (13.8)      5434 (13.7)      1426 (14.2)                                                                    \n",
       "                               9                                  38548 (77.6)     30835 (77.9)      7713 (76.6)                                                                    \n",
       "PHX_DYSLIPI, n (%)             1                            0       1201 (2.4)        863 (2.2)        338 (3.4)  <0.001                                Chi-squared            0.073\n",
       "                               2                                   6937 (14.0)      5513 (13.9)      1424 (14.1)                                                                    \n",
       "                               9                                  41531 (83.6)     33226 (83.9)      8305 (82.5)                                                                    \n",
       "ARREST_ER_TIME, mean (SD)                                   0  2755.4 (4531.1)  2684.6 (4381.4)  3034.0 (5068.2)  <0.001                          Two Sample T-test            0.074\n",
       "CPR_DURATION_TIME, mean (SD)                                0  2346.0 (4017.4)  2385.3 (4125.0)  2191.5 (3558.8)  <0.001                          Two Sample T-test           -0.050\n",
       "GOOD_NEUROLOGIC_OUTCOME, n (%) False                        0     48731 (98.1)     38829 (98.0)      9902 (98.4)   0.044                                Chi-squared            0.024\n",
       "                               True                                  938 (1.9)        773 (2.0)        165 (1.6)                                                                    \n",
       "SURVIVAL_OUTCOME, n (%)        False                        0     46954 (94.5)     37377 (94.4)      9577 (95.1)   0.003                                Chi-squared            0.034\n",
       "                               True                                 2715 (5.5)       2225 (5.6)        490 (4.9)                                                                    \n",
       "ER_CPR, n (%)                  True                         0    49669 (100.0)    39602 (100.0)    10067 (100.0)   1.000                                Chi-squared           <0.001\n",
       "[1] Chi-squared tests for the following variables may be invalid due to the low number of observations: ER_EKG, PRE_ER_EKG."
      ]
     },
     "execution_count": 58,
     "metadata": {},
     "output_type": "execute_result"
    }
   ],
   "source": [
    "mytable"
   ]
  },
  {
   "cell_type": "code",
   "execution_count": 120,
   "metadata": {},
   "outputs": [
    {
     "data": {
      "text/html": [
       "<div>\n",
       "<style scoped>\n",
       "    .dataframe tbody tr th:only-of-type {\n",
       "        vertical-align: middle;\n",
       "    }\n",
       "\n",
       "    .dataframe tbody tr th {\n",
       "        vertical-align: top;\n",
       "    }\n",
       "\n",
       "    .dataframe thead tr th {\n",
       "        text-align: left;\n",
       "    }\n",
       "\n",
       "    .dataframe thead tr:last-of-type th {\n",
       "        text-align: right;\n",
       "    }\n",
       "</style>\n",
       "<table border=\"1\" class=\"dataframe\">\n",
       "  <thead>\n",
       "    <tr>\n",
       "      <th>Overall</th>\n",
       "      <th>count</th>\n",
       "      <th>mean</th>\n",
       "      <th>median</th>\n",
       "      <th>std</th>\n",
       "      <th>q25</th>\n",
       "      <th>q75</th>\n",
       "      <th>min</th>\n",
       "      <th>max</th>\n",
       "      <th>t1_summary</th>\n",
       "    </tr>\n",
       "    <tr>\n",
       "      <th></th>\n",
       "      <th>Overall</th>\n",
       "      <th>Overall</th>\n",
       "      <th>Overall</th>\n",
       "      <th>Overall</th>\n",
       "      <th>Overall</th>\n",
       "      <th>Overall</th>\n",
       "      <th>Overall</th>\n",
       "      <th>Overall</th>\n",
       "      <th>Overall</th>\n",
       "    </tr>\n",
       "    <tr>\n",
       "      <th>variable</th>\n",
       "      <th></th>\n",
       "      <th></th>\n",
       "      <th></th>\n",
       "      <th></th>\n",
       "      <th></th>\n",
       "      <th></th>\n",
       "      <th></th>\n",
       "      <th></th>\n",
       "      <th></th>\n",
       "    </tr>\n",
       "  </thead>\n",
       "  <tbody>\n",
       "    <tr>\n",
       "      <th>AGE</th>\n",
       "      <td>49669</td>\n",
       "      <td>66.9605</td>\n",
       "      <td>70</td>\n",
       "      <td>18.8004</td>\n",
       "      <td>57</td>\n",
       "      <td>79</td>\n",
       "      <td>0</td>\n",
       "      <td>999</td>\n",
       "      <td>67.0 (18.8)</td>\n",
       "    </tr>\n",
       "    <tr>\n",
       "      <th>ARREST_ER_TIME</th>\n",
       "      <td>49669</td>\n",
       "      <td>2755.42</td>\n",
       "      <td>1800</td>\n",
       "      <td>4531.11</td>\n",
       "      <td>1320</td>\n",
       "      <td>2580</td>\n",
       "      <td>0</td>\n",
       "      <td>85740</td>\n",
       "      <td>2755.4 (4531.1)</td>\n",
       "    </tr>\n",
       "    <tr>\n",
       "      <th>CPR_DURATION_TIME</th>\n",
       "      <td>49669</td>\n",
       "      <td>2346.01</td>\n",
       "      <td>1620</td>\n",
       "      <td>4017.41</td>\n",
       "      <td>1020</td>\n",
       "      <td>2220</td>\n",
       "      <td>0</td>\n",
       "      <td>72600</td>\n",
       "      <td>2346.0 (4017.4)</td>\n",
       "    </tr>\n",
       "  </tbody>\n",
       "</table>\n",
       "</div>"
      ],
      "text/plain": [
       "Overall             count     mean  median      std     q25     q75     min  \\\n",
       "                  Overall  Overall Overall  Overall Overall Overall Overall   \n",
       "variable                                                                      \n",
       "AGE                 49669  66.9605      70  18.8004      57      79       0   \n",
       "ARREST_ER_TIME      49669  2755.42    1800  4531.11    1320    2580       0   \n",
       "CPR_DURATION_TIME   49669  2346.01    1620  4017.41    1020    2220       0   \n",
       "\n",
       "Overall               max       t1_summary  \n",
       "                  Overall          Overall  \n",
       "variable                                    \n",
       "AGE                   999      67.0 (18.8)  \n",
       "ARREST_ER_TIME      85740  2755.4 (4531.1)  \n",
       "CPR_DURATION_TIME   72600  2346.0 (4017.4)  "
      ]
     },
     "execution_count": 120,
     "metadata": {},
     "output_type": "execute_result"
    }
   ],
   "source": [
    "mytable.cont_describe_all"
   ]
  },
  {
   "cell_type": "code",
   "execution_count": 60,
   "metadata": {},
   "outputs": [
    {
     "data": {
      "text/html": [
       "<div>\n",
       "<style scoped>\n",
       "    .dataframe tbody tr th:only-of-type {\n",
       "        vertical-align: middle;\n",
       "    }\n",
       "\n",
       "    .dataframe tbody tr th {\n",
       "        vertical-align: top;\n",
       "    }\n",
       "\n",
       "    .dataframe thead tr th {\n",
       "        text-align: left;\n",
       "    }\n",
       "\n",
       "    .dataframe thead tr:last-of-type th {\n",
       "        text-align: right;\n",
       "    }\n",
       "</style>\n",
       "<table border=\"1\" class=\"dataframe\">\n",
       "  <thead>\n",
       "    <tr>\n",
       "      <th></th>\n",
       "      <th></th>\n",
       "      <th>Missing</th>\n",
       "      <th>freq</th>\n",
       "      <th>n</th>\n",
       "      <th>percent</th>\n",
       "      <th>percent_str</th>\n",
       "      <th>t1_summary</th>\n",
       "    </tr>\n",
       "    <tr>\n",
       "      <th></th>\n",
       "      <th></th>\n",
       "      <th>Overall</th>\n",
       "      <th>Overall</th>\n",
       "      <th>Overall</th>\n",
       "      <th>Overall</th>\n",
       "      <th>Overall</th>\n",
       "      <th>Overall</th>\n",
       "    </tr>\n",
       "    <tr>\n",
       "      <th>variable</th>\n",
       "      <th>value</th>\n",
       "      <th></th>\n",
       "      <th></th>\n",
       "      <th></th>\n",
       "      <th></th>\n",
       "      <th></th>\n",
       "      <th></th>\n",
       "    </tr>\n",
       "  </thead>\n",
       "  <tbody>\n",
       "    <tr>\n",
       "      <th rowspan=\"5\" valign=\"top\">ACT</th>\n",
       "      <th>1</th>\n",
       "      <td>0.0</td>\n",
       "      <td>106</td>\n",
       "      <td>49669</td>\n",
       "      <td>0.213413</td>\n",
       "      <td>0.2</td>\n",
       "      <td>106 (0.2)</td>\n",
       "    </tr>\n",
       "    <tr>\n",
       "      <th>2</th>\n",
       "      <td>NaN</td>\n",
       "      <td>1357</td>\n",
       "      <td>49669</td>\n",
       "      <td>2.732086</td>\n",
       "      <td>2.7</td>\n",
       "      <td>1357 (2.7)</td>\n",
       "    </tr>\n",
       "    <tr>\n",
       "      <th>3</th>\n",
       "      <td>NaN</td>\n",
       "      <td>2015</td>\n",
       "      <td>49669</td>\n",
       "      <td>4.056856</td>\n",
       "      <td>4.1</td>\n",
       "      <td>2015 (4.1)</td>\n",
       "    </tr>\n",
       "    <tr>\n",
       "      <th>4</th>\n",
       "      <td>NaN</td>\n",
       "      <td>487</td>\n",
       "      <td>49669</td>\n",
       "      <td>0.980491</td>\n",
       "      <td>1.0</td>\n",
       "      <td>487 (1.0)</td>\n",
       "    </tr>\n",
       "    <tr>\n",
       "      <th>5</th>\n",
       "      <td>NaN</td>\n",
       "      <td>49</td>\n",
       "      <td>49669</td>\n",
       "      <td>0.098653</td>\n",
       "      <td>0.1</td>\n",
       "      <td>49 (0.1)</td>\n",
       "    </tr>\n",
       "    <tr>\n",
       "      <th>...</th>\n",
       "      <th>...</th>\n",
       "      <td>...</td>\n",
       "      <td>...</td>\n",
       "      <td>...</td>\n",
       "      <td>...</td>\n",
       "      <td>...</td>\n",
       "      <td>...</td>\n",
       "    </tr>\n",
       "    <tr>\n",
       "      <th rowspan=\"5\" valign=\"top\">YEAR</th>\n",
       "      <th>2014</th>\n",
       "      <td>NaN</td>\n",
       "      <td>7952</td>\n",
       "      <td>49669</td>\n",
       "      <td>16.009986</td>\n",
       "      <td>16.0</td>\n",
       "      <td>7952 (16.0)</td>\n",
       "    </tr>\n",
       "    <tr>\n",
       "      <th>2015</th>\n",
       "      <td>NaN</td>\n",
       "      <td>8289</td>\n",
       "      <td>49669</td>\n",
       "      <td>16.688478</td>\n",
       "      <td>16.7</td>\n",
       "      <td>8289 (16.7)</td>\n",
       "    </tr>\n",
       "    <tr>\n",
       "      <th>2016</th>\n",
       "      <td>NaN</td>\n",
       "      <td>7727</td>\n",
       "      <td>49669</td>\n",
       "      <td>15.556987</td>\n",
       "      <td>15.6</td>\n",
       "      <td>7727 (15.6)</td>\n",
       "    </tr>\n",
       "    <tr>\n",
       "      <th>2017</th>\n",
       "      <td>NaN</td>\n",
       "      <td>8187</td>\n",
       "      <td>49669</td>\n",
       "      <td>16.483118</td>\n",
       "      <td>16.5</td>\n",
       "      <td>8187 (16.5)</td>\n",
       "    </tr>\n",
       "    <tr>\n",
       "      <th>2018</th>\n",
       "      <td>NaN</td>\n",
       "      <td>10067</td>\n",
       "      <td>49669</td>\n",
       "      <td>20.268175</td>\n",
       "      <td>20.3</td>\n",
       "      <td>10067 (20.3)</td>\n",
       "    </tr>\n",
       "  </tbody>\n",
       "</table>\n",
       "<p>98 rows × 6 columns</p>\n",
       "</div>"
      ],
      "text/plain": [
       "               Missing    freq       n    percent percent_str    t1_summary\n",
       "               Overall Overall Overall    Overall     Overall       Overall\n",
       "variable value                                                             \n",
       "ACT      1         0.0     106   49669   0.213413         0.2     106 (0.2)\n",
       "         2         NaN    1357   49669   2.732086         2.7    1357 (2.7)\n",
       "         3         NaN    2015   49669   4.056856         4.1    2015 (4.1)\n",
       "         4         NaN     487   49669   0.980491         1.0     487 (1.0)\n",
       "         5         NaN      49   49669   0.098653         0.1      49 (0.1)\n",
       "...                ...     ...     ...        ...         ...           ...\n",
       "YEAR     2014      NaN    7952   49669  16.009986        16.0   7952 (16.0)\n",
       "         2015      NaN    8289   49669  16.688478        16.7   8289 (16.7)\n",
       "         2016      NaN    7727   49669  15.556987        15.6   7727 (15.6)\n",
       "         2017      NaN    8187   49669  16.483118        16.5   8187 (16.5)\n",
       "         2018      NaN   10067   49669  20.268175        20.3  10067 (20.3)\n",
       "\n",
       "[98 rows x 6 columns]"
      ]
     },
     "execution_count": 60,
     "metadata": {},
     "output_type": "execute_result"
    }
   ],
   "source": [
    "mytable.cat_describe_all"
   ]
  },
  {
   "cell_type": "code",
   "execution_count": 61,
   "metadata": {
    "collapsed": true,
    "jupyter": {
     "outputs_hidden": true
    }
   },
   "outputs": [
    {
     "name": "stdout",
     "output_type": "stream",
     "text": [
      "|                                |       | Missing   | Overall         | False           | True            | P-Value   | Test                                      | SMD (False,True)   |\n",
      "|--------------------------------|-------|-----------|-----------------|-----------------|-----------------|-----------|-------------------------------------------|--------------------|\n",
      "| n                              |       |           | 49669           | 39602           | 10067           |           |                                           |                    |\n",
      "| ACT, n (%)                     | 1     | 0         | 106 (0.2)       | 84 (0.2)        | 22 (0.2)        | <0.001    | Chi-squared                               | nan                |\n",
      "|                                | 2     |           | 1357 (2.7)      | 1140 (2.9)      | 217 (2.2)       |           |                                           |                    |\n",
      "|                                | 3     |           | 2015 (4.1)      | 1664 (4.2)      | 351 (3.5)       |           |                                           |                    |\n",
      "|                                | 4     |           | 487 (1.0)       | 395 (1.0)       | 92 (0.9)        |           |                                           |                    |\n",
      "|                                | 5     |           | 49 (0.1)        | 45 (0.1)        | 4 (0.0)         |           |                                           |                    |\n",
      "|                                | 6     |           | 1224 (2.5)      | 942 (2.4)       | 282 (2.8)       |           |                                           |                    |\n",
      "|                                | 7     |           | 25150 (50.6)    | 21145 (53.4)    | 4005 (39.8)     |           |                                           |                    |\n",
      "|                                | 8     |           | 5780 (11.6)     | 4500 (11.4)     | 1280 (12.7)     |           |                                           |                    |\n",
      "|                                | 88    |           | 1429 (2.9)      | 1040 (2.6)      | 389 (3.9)       |           |                                           |                    |\n",
      "|                                | 9     |           | 151 (0.3)       | 151 (0.4)       |                 |           |                                           |                    |\n",
      "|                                | 99    |           | 11921 (24.0)    | 8496 (21.5)     | 3425 (34.0)     |           |                                           |                    |\n",
      "| AGE, mean (SD)                 |       | 0         | 67.0 (18.8)     | 66.5 (19.3)     | 68.8 (16.6)     | <0.001    | Two Sample T-test                         | 0.125              |\n",
      "| BYSTANDER_CPR, n (%)           | 1     | 0         | 5645 (11.4)     | 4785 (12.1)     | 860 (8.5)       | <0.001    | Chi-squared                               | 0.333              |\n",
      "|                                | 2     |           | 9966 (20.1)     | 7417 (18.7)     | 2549 (25.3)     |           |                                           |                    |\n",
      "|                                | 8     |           | 3415 (6.9)      | 2142 (5.4)      | 1273 (12.6)     |           |                                           |                    |\n",
      "|                                | 9     |           | 30643 (61.7)    | 25258 (63.8)    | 5385 (53.5)     |           |                                           |                    |\n",
      "| CAUSE_DISEASE, n (%)           | 1.0   | 0         | 45792 (92.2)    | 36495 (92.2)    | 9297 (92.4)     | <0.001    | Chi-squared                               | 0.114              |\n",
      "|                                | 2.0   |           | 381 (0.8)       | 303 (0.8)       | 78 (0.8)        |           |                                           |                    |\n",
      "|                                | 3.0   |           | 775 (1.6)       | 558 (1.4)       | 217 (2.2)       |           |                                           |                    |\n",
      "|                                | 4.0   |           | 459 (0.9)       | 430 (1.1)       | 29 (0.3)        |           |                                           |                    |\n",
      "|                                | 5.0   |           | 197 (0.4)       | 147 (0.4)       | 50 (0.5)        |           |                                           |                    |\n",
      "|                                | 8.0   |           | 2065 (4.2)      | 1669 (4.2)      | 396 (3.9)       |           |                                           |                    |\n",
      "| ER_DEFIB, n (%)                | 1     | 0         | 35849 (72.2)    | 28097 (70.9)    | 7752 (77.0)     | <0.001    | Chi-squared                               | 0.138              |\n",
      "|                                | 2     |           | 13820 (27.8)    | 11505 (29.1)    | 2315 (23.0)     |           |                                           |                    |\n",
      "| ER_EKG, n (%)                  | 0     | 0         | 285 (0.6)       | 147 (0.4)       | 138 (1.4)       | <0.001    | Chi-squared (warning: expected count < 5) | nan                |\n",
      "|                                | 1     |           | 16 (0.0)        | 16 (0.0)        |                 |           |                                           |                    |\n",
      "|                                | 2     |           | 1913 (3.9)      | 1576 (4.0)      | 337 (3.3)       |           |                                           |                    |\n",
      "|                                | 3     |           | 257 (0.5)       | 218 (0.6)       | 39 (0.4)        |           |                                           |                    |\n",
      "|                                | 4     |           | 5615 (11.3)     | 4031 (10.2)     | 1584 (15.7)     |           |                                           |                    |\n",
      "|                                | 5     |           | 29433 (59.3)    | 23532 (59.4)    | 5901 (58.6)     |           |                                           |                    |\n",
      "|                                | 6     |           | 32 (0.1)        | 30 (0.1)        | 2 (0.0)         |           |                                           |                    |\n",
      "|                                | 8     |           | 70 (0.1)        | 70 (0.2)        |                 |           |                                           |                    |\n",
      "|                                | 9     |           | 12048 (24.3)    | 9982 (25.2)     | 2066 (20.5)     |           |                                           |                    |\n",
      "| FIRST_DEFIB_PLACE, n (%)       | 1     | 0         | 7771 (15.6)     | 6159 (15.6)     | 1612 (16.0)     | <0.001    | Chi-squared                               | 0.201              |\n",
      "|                                | 2     |           | 52 (0.1)        | 44 (0.1)        | 8 (0.1)         |           |                                           |                    |\n",
      "|                                | 3     |           | 9457 (19.0)     | 7977 (20.1)     | 1480 (14.7)     |           |                                           |                    |\n",
      "|                                | 4     |           | 2848 (5.7)      | 1955 (4.9)      | 893 (8.9)       |           |                                           |                    |\n",
      "|                                | 9     |           | 29541 (59.5)    | 23467 (59.3)    | 6074 (60.3)     |           |                                           |                    |\n",
      "| FIRST_EKG_PLACE, n (%)         | 1     | 0         | 27791 (56.0)    | 20404 (51.5)    | 7387 (73.4)     | <0.001    | Chi-squared                               | 0.465              |\n",
      "|                                | 2     |           | 77 (0.2)        | 67 (0.2)        | 10 (0.1)        |           |                                           |                    |\n",
      "|                                | 3     |           | 14002 (28.2)    | 12368 (31.2)    | 1634 (16.2)     |           |                                           |                    |\n",
      "|                                | 9     |           | 7799 (15.7)     | 6763 (17.1)     | 1036 (10.3)     |           |                                           |                    |\n",
      "| H_PLACE_PUBLIC, n (%)          | 1     | 0         | 8030 (16.2)     | 6517 (16.5)     | 1513 (15.0)     | <0.001    | Chi-squared                               | 0.130              |\n",
      "|                                | 2     |           | 33779 (68.0)    | 27197 (68.7)    | 6582 (65.4)     |           |                                           |                    |\n",
      "|                                | 8     |           | 558 (1.1)       | 446 (1.1)       | 112 (1.1)       |           |                                           |                    |\n",
      "|                                | 9     |           | 7302 (14.7)     | 5442 (13.7)     | 1860 (18.5)     |           |                                           |                    |\n",
      "| H_SEX, n (%)                   | 1     | 0         | 32049 (64.5)    | 25670 (64.8)    | 6379 (63.4)     | 0.007     | Chi-squared                               | 0.030              |\n",
      "|                                | 2     |           | 17620 (35.5)    | 13932 (35.2)    | 3688 (36.6)     |           |                                           |                    |\n",
      "| PRE_ER_CPR, n (%)              | 1     | 0         | 44147 (88.9)    | 34445 (87.0)    | 9702 (96.4)     | <0.001    | Chi-squared                               | 0.345              |\n",
      "|                                | 2     |           | 141 (0.3)       | 132 (0.3)       | 9 (0.1)         |           |                                           |                    |\n",
      "|                                | 9     |           | 5381 (10.8)     | 5025 (12.7)     | 356 (3.5)       |           |                                           |                    |\n",
      "| PRE_ER_DEFIB, n (%)            | 1     | 0         | 3603 (7.3)      | 2525 (6.4)      | 1078 (10.7)     | <0.001    | Chi-squared                               | 0.159              |\n",
      "|                                | 2     |           | 7823 (15.8)     | 6203 (15.7)     | 1620 (16.1)     |           |                                           |                    |\n",
      "|                                | 9     |           | 38243 (77.0)    | 30874 (78.0)    | 7369 (73.2)     |           |                                           |                    |\n",
      "| PRE_ER_EKG, n (%)              | 10    | 0         | 18 (0.0)        | 13 (0.0)        | 5 (0.0)         | <0.001    | Chi-squared (warning: expected count < 5) | nan                |\n",
      "|                                | 20    |           | 4732 (9.5)      | 3603 (9.1)      | 1129 (11.2)     |           |                                           |                    |\n",
      "|                                | 30    |           | 335 (0.7)       | 258 (0.7)       | 77 (0.8)        |           |                                           |                    |\n",
      "|                                | 40    |           | 5406 (10.9)     | 3637 (9.2)      | 1769 (17.6)     |           |                                           |                    |\n",
      "|                                | 50    |           | 15820 (31.9)    | 11593 (29.3)    | 4227 (42.0)     |           |                                           |                    |\n",
      "|                                | 60    |           | 89 (0.2)        | 88 (0.2)        | 1 (0.0)         |           |                                           |                    |\n",
      "|                                | 81    |           | 563 (1.1)       | 515 (1.3)       | 48 (0.5)        |           |                                           |                    |\n",
      "|                                | 82    |           | 879 (1.8)       | 733 (1.9)       | 146 (1.5)       |           |                                           |                    |\n",
      "|                                | 88    |           | 44 (0.1)        | 44 (0.1)        |                 |           |                                           |                    |\n",
      "|                                | 99    |           | 21783 (43.9)    | 19118 (48.3)    | 2665 (26.5)     |           |                                           |                    |\n",
      "| WITNESS, n (%)                 | 1     | 0         | 16116 (32.4)    | 12564 (31.7)    | 3552 (35.3)     | <0.001    | Chi-squared                               | 0.190              |\n",
      "|                                | 2     |           | 30314 (61.0)    | 24126 (60.9)    | 6188 (61.5)     |           |                                           |                    |\n",
      "|                                | 9     |           | 3239 (6.5)      | 2912 (7.4)      | 327 (3.2)       |           |                                           |                    |\n",
      "| YEAR, n (%)                    | 2013  | 0         | 7447 (15.0)     | 7447 (18.8)     |                 | <0.001    | Chi-squared                               | nan                |\n",
      "|                                | 2014  |           | 7952 (16.0)     | 7952 (20.1)     |                 |           |                                           |                    |\n",
      "|                                | 2015  |           | 8289 (16.7)     | 8289 (20.9)     |                 |           |                                           |                    |\n",
      "|                                | 2016  |           | 7727 (15.6)     | 7727 (19.5)     |                 |           |                                           |                    |\n",
      "|                                | 2017  |           | 8187 (16.5)     | 8187 (20.7)     |                 |           |                                           |                    |\n",
      "|                                | 2018  |           | 10067 (20.3)    |                 | 10067 (100.0)   |           |                                           |                    |\n",
      "| PHX_DM, n (%)                  | 1     | 0         | 11787 (23.7)    | 9188 (23.2)     | 2599 (25.8)     | <0.001    | Chi-squared                               | 0.209              |\n",
      "|                                | 2     |           | 10044 (20.2)    | 8647 (21.8)     | 1397 (13.9)     |           |                                           |                    |\n",
      "|                                | 9     |           | 27838 (56.0)    | 21767 (55.0)    | 6071 (60.3)     |           |                                           |                    |\n",
      "| PHX_HEART, n (%)               | 1     | 0         | 8720 (17.6)     | 6774 (17.1)     | 1946 (19.3)     | <0.001    | Chi-squared                               | 0.059              |\n",
      "|                                | 2     |           | 6723 (13.5)     | 5361 (13.5)     | 1362 (13.5)     |           |                                           |                    |\n",
      "|                                | 9     |           | 34226 (68.9)    | 27467 (69.4)    | 6759 (67.1)     |           |                                           |                    |\n",
      "| PHX_HTN, n (%)                 | 1     | 0         | 17709 (35.7)    | 13886 (35.1)    | 3823 (38.0)     | <0.001    | Chi-squared                               | 0.184              |\n",
      "|                                | 2     |           | 8286 (16.7)     | 7127 (18.0)     | 1159 (11.5)     |           |                                           |                    |\n",
      "|                                | 9     |           | 23674 (47.7)    | 18589 (46.9)    | 5085 (50.5)     |           |                                           |                    |\n",
      "| PHX_RENAL, n (%)               | 1     | 0         | 3192 (6.4)      | 2489 (6.3)      | 703 (7.0)       | 0.018     | Chi-squared                               | 0.031              |\n",
      "|                                | 2     |           | 6825 (13.7)     | 5412 (13.7)     | 1413 (14.0)     |           |                                           |                    |\n",
      "|                                | 9     |           | 39652 (79.8)    | 31701 (80.0)    | 7951 (79.0)     |           |                                           |                    |\n",
      "| PHX_RESPI, n (%)               | 1     | 0         | 3373 (6.8)      | 2613 (6.6)      | 760 (7.5)       | 0.003     | Chi-squared                               | 0.037              |\n",
      "|                                | 2     |           | 6849 (13.8)     | 5458 (13.8)     | 1391 (13.8)     |           |                                           |                    |\n",
      "|                                | 9     |           | 39447 (79.4)    | 31531 (79.6)    | 7916 (78.6)     |           |                                           |                    |\n",
      "| PHX_STROKE, n (%)              | 1     | 0         | 4261 (8.6)      | 3333 (8.4)      | 928 (9.2)       | 0.012     | Chi-squared                               | 0.033              |\n",
      "|                                | 2     |           | 6860 (13.8)     | 5434 (13.7)     | 1426 (14.2)     |           |                                           |                    |\n",
      "|                                | 9     |           | 38548 (77.6)    | 30835 (77.9)    | 7713 (76.6)     |           |                                           |                    |\n",
      "| PHX_DYSLIPI, n (%)             | 1     | 0         | 1201 (2.4)      | 863 (2.2)       | 338 (3.4)       | <0.001    | Chi-squared                               | 0.073              |\n",
      "|                                | 2     |           | 6937 (14.0)     | 5513 (13.9)     | 1424 (14.1)     |           |                                           |                    |\n",
      "|                                | 9     |           | 41531 (83.6)    | 33226 (83.9)    | 8305 (82.5)     |           |                                           |                    |\n",
      "| ARREST_ER_TIME, mean (SD)      |       | 0         | 2755.4 (4531.1) | 2684.6 (4381.4) | 3034.0 (5068.2) | <0.001    | Two Sample T-test                         | 0.074              |\n",
      "| CPR_DURATION_TIME, mean (SD)   |       | 0         | 2346.0 (4017.4) | 2385.3 (4125.0) | 2191.5 (3558.8) | <0.001    | Two Sample T-test                         | -0.050             |\n",
      "| GOOD_NEUROLOGIC_OUTCOME, n (%) | False | 0         | 48731 (98.1)    | 38829 (98.0)    | 9902 (98.4)     | 0.044     | Chi-squared                               | 0.024              |\n",
      "|                                | True  |           | 938 (1.9)       | 773 (2.0)       | 165 (1.6)       |           |                                           |                    |\n",
      "| SURVIVAL_OUTCOME, n (%)        | False | 0         | 46954 (94.5)    | 37377 (94.4)    | 9577 (95.1)     | 0.003     | Chi-squared                               | 0.034              |\n",
      "|                                | True  |           | 2715 (5.5)      | 2225 (5.6)      | 490 (4.9)       |           |                                           |                    |\n",
      "| ER_CPR, n (%)                  | True  | 0         | 49669 (100.0)   | 39602 (100.0)   | 10067 (100.0)   | 1.000     | Chi-squared                               | <0.001             |\n"
     ]
    }
   ],
   "source": [
    "print(mytable.tabulate(tablefmt=\"github\"))"
   ]
  },
  {
   "cell_type": "code",
   "execution_count": 64,
   "metadata": {},
   "outputs": [],
   "source": [
    "mytable.to_excel('mytable.xlsx')"
   ]
  },
  {
   "cell_type": "code",
   "execution_count": 58,
   "metadata": {},
   "outputs": [],
   "source": [
    "df.to_csv('ohca_13_18_final.csv', index = False)"
   ]
  },
  {
   "cell_type": "markdown",
   "metadata": {},
   "source": [
    "## Preprocessing"
   ]
  },
  {
   "cell_type": "code",
   "execution_count": 2,
   "metadata": {},
   "outputs": [],
   "source": [
    "df = pd.read_csv('ohca_13_18_final.csv')"
   ]
  },
  {
   "cell_type": "code",
   "execution_count": 3,
   "metadata": {},
   "outputs": [
    {
     "data": {
      "text/html": [
       "<div>\n",
       "<style scoped>\n",
       "    .dataframe tbody tr th:only-of-type {\n",
       "        vertical-align: middle;\n",
       "    }\n",
       "\n",
       "    .dataframe tbody tr th {\n",
       "        vertical-align: top;\n",
       "    }\n",
       "\n",
       "    .dataframe thead th {\n",
       "        text-align: right;\n",
       "    }\n",
       "</style>\n",
       "<table border=\"1\" class=\"dataframe\">\n",
       "  <thead>\n",
       "    <tr style=\"text-align: right;\">\n",
       "      <th></th>\n",
       "      <th>ACT</th>\n",
       "      <th>AGE</th>\n",
       "      <th>BYSTANDER_CPR</th>\n",
       "      <th>CAUSE_DISEASE</th>\n",
       "      <th>ER_DEFIB</th>\n",
       "      <th>ER_EKG</th>\n",
       "      <th>FIRST_DEFIB_PLACE</th>\n",
       "      <th>FIRST_EKG_PLACE</th>\n",
       "      <th>H_PLACE_PUBLIC</th>\n",
       "      <th>H_SEX</th>\n",
       "      <th>...</th>\n",
       "      <th>PHX_HTN</th>\n",
       "      <th>PHX_RENAL</th>\n",
       "      <th>PHX_RESPI</th>\n",
       "      <th>PHX_STROKE</th>\n",
       "      <th>PHX_DYSLIPI</th>\n",
       "      <th>ARREST_ER_TIME</th>\n",
       "      <th>CPR_DURATION_TIME</th>\n",
       "      <th>GOOD_NEUROLOGIC_OUTCOME</th>\n",
       "      <th>SURVIVAL_OUTCOME</th>\n",
       "      <th>ER_CPR</th>\n",
       "    </tr>\n",
       "  </thead>\n",
       "  <tbody>\n",
       "    <tr>\n",
       "      <td>0</td>\n",
       "      <td>7</td>\n",
       "      <td>61.0</td>\n",
       "      <td>2</td>\n",
       "      <td>1.0</td>\n",
       "      <td>1</td>\n",
       "      <td>5</td>\n",
       "      <td>4</td>\n",
       "      <td>1</td>\n",
       "      <td>2</td>\n",
       "      <td>2</td>\n",
       "      <td>...</td>\n",
       "      <td>2</td>\n",
       "      <td>2</td>\n",
       "      <td>2</td>\n",
       "      <td>2</td>\n",
       "      <td>2</td>\n",
       "      <td>1080.0</td>\n",
       "      <td>1740.0</td>\n",
       "      <td>False</td>\n",
       "      <td>False</td>\n",
       "      <td>True</td>\n",
       "    </tr>\n",
       "    <tr>\n",
       "      <td>1</td>\n",
       "      <td>7</td>\n",
       "      <td>71.0</td>\n",
       "      <td>1</td>\n",
       "      <td>1.0</td>\n",
       "      <td>2</td>\n",
       "      <td>5</td>\n",
       "      <td>3</td>\n",
       "      <td>1</td>\n",
       "      <td>2</td>\n",
       "      <td>2</td>\n",
       "      <td>...</td>\n",
       "      <td>2</td>\n",
       "      <td>9</td>\n",
       "      <td>9</td>\n",
       "      <td>1</td>\n",
       "      <td>9</td>\n",
       "      <td>3960.0</td>\n",
       "      <td>25080.0</td>\n",
       "      <td>False</td>\n",
       "      <td>False</td>\n",
       "      <td>True</td>\n",
       "    </tr>\n",
       "    <tr>\n",
       "      <td>2</td>\n",
       "      <td>7</td>\n",
       "      <td>54.0</td>\n",
       "      <td>1</td>\n",
       "      <td>1.0</td>\n",
       "      <td>2</td>\n",
       "      <td>4</td>\n",
       "      <td>1</td>\n",
       "      <td>1</td>\n",
       "      <td>2</td>\n",
       "      <td>1</td>\n",
       "      <td>...</td>\n",
       "      <td>1</td>\n",
       "      <td>9</td>\n",
       "      <td>9</td>\n",
       "      <td>9</td>\n",
       "      <td>9</td>\n",
       "      <td>1260.0</td>\n",
       "      <td>2340.0</td>\n",
       "      <td>False</td>\n",
       "      <td>False</td>\n",
       "      <td>True</td>\n",
       "    </tr>\n",
       "    <tr>\n",
       "      <td>3</td>\n",
       "      <td>7</td>\n",
       "      <td>57.0</td>\n",
       "      <td>9</td>\n",
       "      <td>1.0</td>\n",
       "      <td>1</td>\n",
       "      <td>5</td>\n",
       "      <td>1</td>\n",
       "      <td>3</td>\n",
       "      <td>1</td>\n",
       "      <td>1</td>\n",
       "      <td>...</td>\n",
       "      <td>9</td>\n",
       "      <td>9</td>\n",
       "      <td>9</td>\n",
       "      <td>9</td>\n",
       "      <td>9</td>\n",
       "      <td>900.0</td>\n",
       "      <td>1500.0</td>\n",
       "      <td>False</td>\n",
       "      <td>False</td>\n",
       "      <td>True</td>\n",
       "    </tr>\n",
       "    <tr>\n",
       "      <td>4</td>\n",
       "      <td>7</td>\n",
       "      <td>61.0</td>\n",
       "      <td>9</td>\n",
       "      <td>1.0</td>\n",
       "      <td>1</td>\n",
       "      <td>5</td>\n",
       "      <td>9</td>\n",
       "      <td>3</td>\n",
       "      <td>2</td>\n",
       "      <td>1</td>\n",
       "      <td>...</td>\n",
       "      <td>9</td>\n",
       "      <td>9</td>\n",
       "      <td>9</td>\n",
       "      <td>9</td>\n",
       "      <td>9</td>\n",
       "      <td>360.0</td>\n",
       "      <td>1500.0</td>\n",
       "      <td>False</td>\n",
       "      <td>False</td>\n",
       "      <td>True</td>\n",
       "    </tr>\n",
       "    <tr>\n",
       "      <td>...</td>\n",
       "      <td>...</td>\n",
       "      <td>...</td>\n",
       "      <td>...</td>\n",
       "      <td>...</td>\n",
       "      <td>...</td>\n",
       "      <td>...</td>\n",
       "      <td>...</td>\n",
       "      <td>...</td>\n",
       "      <td>...</td>\n",
       "      <td>...</td>\n",
       "      <td>...</td>\n",
       "      <td>...</td>\n",
       "      <td>...</td>\n",
       "      <td>...</td>\n",
       "      <td>...</td>\n",
       "      <td>...</td>\n",
       "      <td>...</td>\n",
       "      <td>...</td>\n",
       "      <td>...</td>\n",
       "      <td>...</td>\n",
       "      <td>...</td>\n",
       "    </tr>\n",
       "    <tr>\n",
       "      <td>49664</td>\n",
       "      <td>99</td>\n",
       "      <td>89.0</td>\n",
       "      <td>9</td>\n",
       "      <td>1.0</td>\n",
       "      <td>1</td>\n",
       "      <td>4</td>\n",
       "      <td>9</td>\n",
       "      <td>1</td>\n",
       "      <td>2</td>\n",
       "      <td>2</td>\n",
       "      <td>...</td>\n",
       "      <td>9</td>\n",
       "      <td>9</td>\n",
       "      <td>9</td>\n",
       "      <td>9</td>\n",
       "      <td>9</td>\n",
       "      <td>31980.0</td>\n",
       "      <td>7200.0</td>\n",
       "      <td>False</td>\n",
       "      <td>False</td>\n",
       "      <td>True</td>\n",
       "    </tr>\n",
       "    <tr>\n",
       "      <td>49665</td>\n",
       "      <td>8</td>\n",
       "      <td>98.0</td>\n",
       "      <td>8</td>\n",
       "      <td>8.0</td>\n",
       "      <td>2</td>\n",
       "      <td>5</td>\n",
       "      <td>3</td>\n",
       "      <td>3</td>\n",
       "      <td>2</td>\n",
       "      <td>2</td>\n",
       "      <td>...</td>\n",
       "      <td>9</td>\n",
       "      <td>9</td>\n",
       "      <td>9</td>\n",
       "      <td>9</td>\n",
       "      <td>9</td>\n",
       "      <td>1380.0</td>\n",
       "      <td>2700.0</td>\n",
       "      <td>False</td>\n",
       "      <td>False</td>\n",
       "      <td>True</td>\n",
       "    </tr>\n",
       "    <tr>\n",
       "      <td>49666</td>\n",
       "      <td>7</td>\n",
       "      <td>77.0</td>\n",
       "      <td>9</td>\n",
       "      <td>1.0</td>\n",
       "      <td>1</td>\n",
       "      <td>9</td>\n",
       "      <td>9</td>\n",
       "      <td>1</td>\n",
       "      <td>9</td>\n",
       "      <td>2</td>\n",
       "      <td>...</td>\n",
       "      <td>9</td>\n",
       "      <td>9</td>\n",
       "      <td>9</td>\n",
       "      <td>9</td>\n",
       "      <td>9</td>\n",
       "      <td>3060.0</td>\n",
       "      <td>1440.0</td>\n",
       "      <td>False</td>\n",
       "      <td>False</td>\n",
       "      <td>True</td>\n",
       "    </tr>\n",
       "    <tr>\n",
       "      <td>49667</td>\n",
       "      <td>8</td>\n",
       "      <td>65.0</td>\n",
       "      <td>8</td>\n",
       "      <td>1.0</td>\n",
       "      <td>1</td>\n",
       "      <td>5</td>\n",
       "      <td>9</td>\n",
       "      <td>3</td>\n",
       "      <td>2</td>\n",
       "      <td>1</td>\n",
       "      <td>...</td>\n",
       "      <td>1</td>\n",
       "      <td>9</td>\n",
       "      <td>9</td>\n",
       "      <td>9</td>\n",
       "      <td>9</td>\n",
       "      <td>2340.0</td>\n",
       "      <td>1920.0</td>\n",
       "      <td>False</td>\n",
       "      <td>False</td>\n",
       "      <td>True</td>\n",
       "    </tr>\n",
       "    <tr>\n",
       "      <td>49668</td>\n",
       "      <td>2</td>\n",
       "      <td>70.0</td>\n",
       "      <td>2</td>\n",
       "      <td>1.0</td>\n",
       "      <td>1</td>\n",
       "      <td>5</td>\n",
       "      <td>9</td>\n",
       "      <td>1</td>\n",
       "      <td>1</td>\n",
       "      <td>2</td>\n",
       "      <td>...</td>\n",
       "      <td>1</td>\n",
       "      <td>9</td>\n",
       "      <td>9</td>\n",
       "      <td>9</td>\n",
       "      <td>9</td>\n",
       "      <td>3180.0</td>\n",
       "      <td>1140.0</td>\n",
       "      <td>False</td>\n",
       "      <td>False</td>\n",
       "      <td>True</td>\n",
       "    </tr>\n",
       "  </tbody>\n",
       "</table>\n",
       "<p>49669 rows × 27 columns</p>\n",
       "</div>"
      ],
      "text/plain": [
       "       ACT   AGE  BYSTANDER_CPR  CAUSE_DISEASE  ER_DEFIB  ER_EKG  \\\n",
       "0        7  61.0              2            1.0         1       5   \n",
       "1        7  71.0              1            1.0         2       5   \n",
       "2        7  54.0              1            1.0         2       4   \n",
       "3        7  57.0              9            1.0         1       5   \n",
       "4        7  61.0              9            1.0         1       5   \n",
       "...    ...   ...            ...            ...       ...     ...   \n",
       "49664   99  89.0              9            1.0         1       4   \n",
       "49665    8  98.0              8            8.0         2       5   \n",
       "49666    7  77.0              9            1.0         1       9   \n",
       "49667    8  65.0              8            1.0         1       5   \n",
       "49668    2  70.0              2            1.0         1       5   \n",
       "\n",
       "       FIRST_DEFIB_PLACE  FIRST_EKG_PLACE  H_PLACE_PUBLIC  H_SEX  ...  \\\n",
       "0                      4                1               2      2  ...   \n",
       "1                      3                1               2      2  ...   \n",
       "2                      1                1               2      1  ...   \n",
       "3                      1                3               1      1  ...   \n",
       "4                      9                3               2      1  ...   \n",
       "...                  ...              ...             ...    ...  ...   \n",
       "49664                  9                1               2      2  ...   \n",
       "49665                  3                3               2      2  ...   \n",
       "49666                  9                1               9      2  ...   \n",
       "49667                  9                3               2      1  ...   \n",
       "49668                  9                1               1      2  ...   \n",
       "\n",
       "       PHX_HTN  PHX_RENAL  PHX_RESPI  PHX_STROKE  PHX_DYSLIPI  ARREST_ER_TIME  \\\n",
       "0            2          2          2           2            2          1080.0   \n",
       "1            2          9          9           1            9          3960.0   \n",
       "2            1          9          9           9            9          1260.0   \n",
       "3            9          9          9           9            9           900.0   \n",
       "4            9          9          9           9            9           360.0   \n",
       "...        ...        ...        ...         ...          ...             ...   \n",
       "49664        9          9          9           9            9         31980.0   \n",
       "49665        9          9          9           9            9          1380.0   \n",
       "49666        9          9          9           9            9          3060.0   \n",
       "49667        1          9          9           9            9          2340.0   \n",
       "49668        1          9          9           9            9          3180.0   \n",
       "\n",
       "       CPR_DURATION_TIME  GOOD_NEUROLOGIC_OUTCOME  SURVIVAL_OUTCOME  ER_CPR  \n",
       "0                 1740.0                    False             False    True  \n",
       "1                25080.0                    False             False    True  \n",
       "2                 2340.0                    False             False    True  \n",
       "3                 1500.0                    False             False    True  \n",
       "4                 1500.0                    False             False    True  \n",
       "...                  ...                      ...               ...     ...  \n",
       "49664             7200.0                    False             False    True  \n",
       "49665             2700.0                    False             False    True  \n",
       "49666             1440.0                    False             False    True  \n",
       "49667             1920.0                    False             False    True  \n",
       "49668             1140.0                    False             False    True  \n",
       "\n",
       "[49669 rows x 27 columns]"
      ]
     },
     "execution_count": 3,
     "metadata": {},
     "output_type": "execute_result"
    }
   ],
   "source": [
    "df"
   ]
  },
  {
   "cell_type": "code",
   "execution_count": 4,
   "metadata": {},
   "outputs": [],
   "source": [
    "df_new = pd.get_dummies(df, columns=['ACT','BYSTANDER_CPR', 'CAUSE_DISEASE',\n",
    "       'ER_DEFIB', 'ER_EKG', 'FIRST_DEFIB_PLACE',\n",
    "       'FIRST_EKG_PLACE', 'H_PLACE_PUBLIC', 'H_SEX',\n",
    "       'PRE_ER_CPR', 'PRE_ER_DEFIB', 'PRE_ER_EKG', \n",
    "       'WITNESS', 'PHX_DM',\n",
    "       'PHX_HEART', 'PHX_HTN', 'PHX_RENAL', 'PHX_RESPI', 'PHX_STROKE',\n",
    "       'PHX_DYSLIPI'])"
   ]
  },
  {
   "cell_type": "code",
   "execution_count": 5,
   "metadata": {},
   "outputs": [
    {
     "data": {
      "text/html": [
       "<div>\n",
       "<style scoped>\n",
       "    .dataframe tbody tr th:only-of-type {\n",
       "        vertical-align: middle;\n",
       "    }\n",
       "\n",
       "    .dataframe tbody tr th {\n",
       "        vertical-align: top;\n",
       "    }\n",
       "\n",
       "    .dataframe thead th {\n",
       "        text-align: right;\n",
       "    }\n",
       "</style>\n",
       "<table border=\"1\" class=\"dataframe\">\n",
       "  <thead>\n",
       "    <tr style=\"text-align: right;\">\n",
       "      <th></th>\n",
       "      <th>AGE</th>\n",
       "      <th>YEAR</th>\n",
       "      <th>ARREST_ER_TIME</th>\n",
       "      <th>CPR_DURATION_TIME</th>\n",
       "      <th>GOOD_NEUROLOGIC_OUTCOME</th>\n",
       "      <th>SURVIVAL_OUTCOME</th>\n",
       "      <th>ER_CPR</th>\n",
       "      <th>ACT_1</th>\n",
       "      <th>ACT_2</th>\n",
       "      <th>ACT_3</th>\n",
       "      <th>...</th>\n",
       "      <th>PHX_RENAL_9</th>\n",
       "      <th>PHX_RESPI_1</th>\n",
       "      <th>PHX_RESPI_2</th>\n",
       "      <th>PHX_RESPI_9</th>\n",
       "      <th>PHX_STROKE_1</th>\n",
       "      <th>PHX_STROKE_2</th>\n",
       "      <th>PHX_STROKE_9</th>\n",
       "      <th>PHX_DYSLIPI_1</th>\n",
       "      <th>PHX_DYSLIPI_2</th>\n",
       "      <th>PHX_DYSLIPI_9</th>\n",
       "    </tr>\n",
       "  </thead>\n",
       "  <tbody>\n",
       "    <tr>\n",
       "      <td>0</td>\n",
       "      <td>61.0</td>\n",
       "      <td>2013</td>\n",
       "      <td>1080.0</td>\n",
       "      <td>1740.0</td>\n",
       "      <td>False</td>\n",
       "      <td>False</td>\n",
       "      <td>True</td>\n",
       "      <td>0</td>\n",
       "      <td>0</td>\n",
       "      <td>0</td>\n",
       "      <td>...</td>\n",
       "      <td>0</td>\n",
       "      <td>0</td>\n",
       "      <td>1</td>\n",
       "      <td>0</td>\n",
       "      <td>0</td>\n",
       "      <td>1</td>\n",
       "      <td>0</td>\n",
       "      <td>0</td>\n",
       "      <td>1</td>\n",
       "      <td>0</td>\n",
       "    </tr>\n",
       "    <tr>\n",
       "      <td>1</td>\n",
       "      <td>71.0</td>\n",
       "      <td>2013</td>\n",
       "      <td>3960.0</td>\n",
       "      <td>25080.0</td>\n",
       "      <td>False</td>\n",
       "      <td>False</td>\n",
       "      <td>True</td>\n",
       "      <td>0</td>\n",
       "      <td>0</td>\n",
       "      <td>0</td>\n",
       "      <td>...</td>\n",
       "      <td>1</td>\n",
       "      <td>0</td>\n",
       "      <td>0</td>\n",
       "      <td>1</td>\n",
       "      <td>1</td>\n",
       "      <td>0</td>\n",
       "      <td>0</td>\n",
       "      <td>0</td>\n",
       "      <td>0</td>\n",
       "      <td>1</td>\n",
       "    </tr>\n",
       "    <tr>\n",
       "      <td>2</td>\n",
       "      <td>54.0</td>\n",
       "      <td>2013</td>\n",
       "      <td>1260.0</td>\n",
       "      <td>2340.0</td>\n",
       "      <td>False</td>\n",
       "      <td>False</td>\n",
       "      <td>True</td>\n",
       "      <td>0</td>\n",
       "      <td>0</td>\n",
       "      <td>0</td>\n",
       "      <td>...</td>\n",
       "      <td>1</td>\n",
       "      <td>0</td>\n",
       "      <td>0</td>\n",
       "      <td>1</td>\n",
       "      <td>0</td>\n",
       "      <td>0</td>\n",
       "      <td>1</td>\n",
       "      <td>0</td>\n",
       "      <td>0</td>\n",
       "      <td>1</td>\n",
       "    </tr>\n",
       "    <tr>\n",
       "      <td>3</td>\n",
       "      <td>57.0</td>\n",
       "      <td>2013</td>\n",
       "      <td>900.0</td>\n",
       "      <td>1500.0</td>\n",
       "      <td>False</td>\n",
       "      <td>False</td>\n",
       "      <td>True</td>\n",
       "      <td>0</td>\n",
       "      <td>0</td>\n",
       "      <td>0</td>\n",
       "      <td>...</td>\n",
       "      <td>1</td>\n",
       "      <td>0</td>\n",
       "      <td>0</td>\n",
       "      <td>1</td>\n",
       "      <td>0</td>\n",
       "      <td>0</td>\n",
       "      <td>1</td>\n",
       "      <td>0</td>\n",
       "      <td>0</td>\n",
       "      <td>1</td>\n",
       "    </tr>\n",
       "    <tr>\n",
       "      <td>4</td>\n",
       "      <td>61.0</td>\n",
       "      <td>2013</td>\n",
       "      <td>360.0</td>\n",
       "      <td>1500.0</td>\n",
       "      <td>False</td>\n",
       "      <td>False</td>\n",
       "      <td>True</td>\n",
       "      <td>0</td>\n",
       "      <td>0</td>\n",
       "      <td>0</td>\n",
       "      <td>...</td>\n",
       "      <td>1</td>\n",
       "      <td>0</td>\n",
       "      <td>0</td>\n",
       "      <td>1</td>\n",
       "      <td>0</td>\n",
       "      <td>0</td>\n",
       "      <td>1</td>\n",
       "      <td>0</td>\n",
       "      <td>0</td>\n",
       "      <td>1</td>\n",
       "    </tr>\n",
       "    <tr>\n",
       "      <td>...</td>\n",
       "      <td>...</td>\n",
       "      <td>...</td>\n",
       "      <td>...</td>\n",
       "      <td>...</td>\n",
       "      <td>...</td>\n",
       "      <td>...</td>\n",
       "      <td>...</td>\n",
       "      <td>...</td>\n",
       "      <td>...</td>\n",
       "      <td>...</td>\n",
       "      <td>...</td>\n",
       "      <td>...</td>\n",
       "      <td>...</td>\n",
       "      <td>...</td>\n",
       "      <td>...</td>\n",
       "      <td>...</td>\n",
       "      <td>...</td>\n",
       "      <td>...</td>\n",
       "      <td>...</td>\n",
       "      <td>...</td>\n",
       "      <td>...</td>\n",
       "    </tr>\n",
       "    <tr>\n",
       "      <td>49664</td>\n",
       "      <td>89.0</td>\n",
       "      <td>2018</td>\n",
       "      <td>31980.0</td>\n",
       "      <td>7200.0</td>\n",
       "      <td>False</td>\n",
       "      <td>False</td>\n",
       "      <td>True</td>\n",
       "      <td>0</td>\n",
       "      <td>0</td>\n",
       "      <td>0</td>\n",
       "      <td>...</td>\n",
       "      <td>1</td>\n",
       "      <td>0</td>\n",
       "      <td>0</td>\n",
       "      <td>1</td>\n",
       "      <td>0</td>\n",
       "      <td>0</td>\n",
       "      <td>1</td>\n",
       "      <td>0</td>\n",
       "      <td>0</td>\n",
       "      <td>1</td>\n",
       "    </tr>\n",
       "    <tr>\n",
       "      <td>49665</td>\n",
       "      <td>98.0</td>\n",
       "      <td>2018</td>\n",
       "      <td>1380.0</td>\n",
       "      <td>2700.0</td>\n",
       "      <td>False</td>\n",
       "      <td>False</td>\n",
       "      <td>True</td>\n",
       "      <td>0</td>\n",
       "      <td>0</td>\n",
       "      <td>0</td>\n",
       "      <td>...</td>\n",
       "      <td>1</td>\n",
       "      <td>0</td>\n",
       "      <td>0</td>\n",
       "      <td>1</td>\n",
       "      <td>0</td>\n",
       "      <td>0</td>\n",
       "      <td>1</td>\n",
       "      <td>0</td>\n",
       "      <td>0</td>\n",
       "      <td>1</td>\n",
       "    </tr>\n",
       "    <tr>\n",
       "      <td>49666</td>\n",
       "      <td>77.0</td>\n",
       "      <td>2018</td>\n",
       "      <td>3060.0</td>\n",
       "      <td>1440.0</td>\n",
       "      <td>False</td>\n",
       "      <td>False</td>\n",
       "      <td>True</td>\n",
       "      <td>0</td>\n",
       "      <td>0</td>\n",
       "      <td>0</td>\n",
       "      <td>...</td>\n",
       "      <td>1</td>\n",
       "      <td>0</td>\n",
       "      <td>0</td>\n",
       "      <td>1</td>\n",
       "      <td>0</td>\n",
       "      <td>0</td>\n",
       "      <td>1</td>\n",
       "      <td>0</td>\n",
       "      <td>0</td>\n",
       "      <td>1</td>\n",
       "    </tr>\n",
       "    <tr>\n",
       "      <td>49667</td>\n",
       "      <td>65.0</td>\n",
       "      <td>2018</td>\n",
       "      <td>2340.0</td>\n",
       "      <td>1920.0</td>\n",
       "      <td>False</td>\n",
       "      <td>False</td>\n",
       "      <td>True</td>\n",
       "      <td>0</td>\n",
       "      <td>0</td>\n",
       "      <td>0</td>\n",
       "      <td>...</td>\n",
       "      <td>1</td>\n",
       "      <td>0</td>\n",
       "      <td>0</td>\n",
       "      <td>1</td>\n",
       "      <td>0</td>\n",
       "      <td>0</td>\n",
       "      <td>1</td>\n",
       "      <td>0</td>\n",
       "      <td>0</td>\n",
       "      <td>1</td>\n",
       "    </tr>\n",
       "    <tr>\n",
       "      <td>49668</td>\n",
       "      <td>70.0</td>\n",
       "      <td>2018</td>\n",
       "      <td>3180.0</td>\n",
       "      <td>1140.0</td>\n",
       "      <td>False</td>\n",
       "      <td>False</td>\n",
       "      <td>True</td>\n",
       "      <td>0</td>\n",
       "      <td>1</td>\n",
       "      <td>0</td>\n",
       "      <td>...</td>\n",
       "      <td>1</td>\n",
       "      <td>0</td>\n",
       "      <td>0</td>\n",
       "      <td>1</td>\n",
       "      <td>0</td>\n",
       "      <td>0</td>\n",
       "      <td>1</td>\n",
       "      <td>0</td>\n",
       "      <td>0</td>\n",
       "      <td>1</td>\n",
       "    </tr>\n",
       "  </tbody>\n",
       "</table>\n",
       "<p>49669 rows × 94 columns</p>\n",
       "</div>"
      ],
      "text/plain": [
       "        AGE  YEAR  ARREST_ER_TIME  CPR_DURATION_TIME  GOOD_NEUROLOGIC_OUTCOME  \\\n",
       "0      61.0  2013          1080.0             1740.0                    False   \n",
       "1      71.0  2013          3960.0            25080.0                    False   \n",
       "2      54.0  2013          1260.0             2340.0                    False   \n",
       "3      57.0  2013           900.0             1500.0                    False   \n",
       "4      61.0  2013           360.0             1500.0                    False   \n",
       "...     ...   ...             ...                ...                      ...   \n",
       "49664  89.0  2018         31980.0             7200.0                    False   \n",
       "49665  98.0  2018          1380.0             2700.0                    False   \n",
       "49666  77.0  2018          3060.0             1440.0                    False   \n",
       "49667  65.0  2018          2340.0             1920.0                    False   \n",
       "49668  70.0  2018          3180.0             1140.0                    False   \n",
       "\n",
       "       SURVIVAL_OUTCOME  ER_CPR  ACT_1  ACT_2  ACT_3  ...  PHX_RENAL_9  \\\n",
       "0                 False    True      0      0      0  ...            0   \n",
       "1                 False    True      0      0      0  ...            1   \n",
       "2                 False    True      0      0      0  ...            1   \n",
       "3                 False    True      0      0      0  ...            1   \n",
       "4                 False    True      0      0      0  ...            1   \n",
       "...                 ...     ...    ...    ...    ...  ...          ...   \n",
       "49664             False    True      0      0      0  ...            1   \n",
       "49665             False    True      0      0      0  ...            1   \n",
       "49666             False    True      0      0      0  ...            1   \n",
       "49667             False    True      0      0      0  ...            1   \n",
       "49668             False    True      0      1      0  ...            1   \n",
       "\n",
       "       PHX_RESPI_1  PHX_RESPI_2  PHX_RESPI_9  PHX_STROKE_1  PHX_STROKE_2  \\\n",
       "0                0            1            0             0             1   \n",
       "1                0            0            1             1             0   \n",
       "2                0            0            1             0             0   \n",
       "3                0            0            1             0             0   \n",
       "4                0            0            1             0             0   \n",
       "...            ...          ...          ...           ...           ...   \n",
       "49664            0            0            1             0             0   \n",
       "49665            0            0            1             0             0   \n",
       "49666            0            0            1             0             0   \n",
       "49667            0            0            1             0             0   \n",
       "49668            0            0            1             0             0   \n",
       "\n",
       "       PHX_STROKE_9  PHX_DYSLIPI_1  PHX_DYSLIPI_2  PHX_DYSLIPI_9  \n",
       "0                 0              0              1              0  \n",
       "1                 0              0              0              1  \n",
       "2                 1              0              0              1  \n",
       "3                 1              0              0              1  \n",
       "4                 1              0              0              1  \n",
       "...             ...            ...            ...            ...  \n",
       "49664             1              0              0              1  \n",
       "49665             1              0              0              1  \n",
       "49666             1              0              0              1  \n",
       "49667             1              0              0              1  \n",
       "49668             1              0              0              1  \n",
       "\n",
       "[49669 rows x 94 columns]"
      ]
     },
     "execution_count": 5,
     "metadata": {},
     "output_type": "execute_result"
    }
   ],
   "source": [
    "df_new"
   ]
  },
  {
   "cell_type": "code",
   "execution_count": 6,
   "metadata": {},
   "outputs": [],
   "source": [
    "from sklearn.preprocessing import RobustScaler"
   ]
  },
  {
   "cell_type": "code",
   "execution_count": 7,
   "metadata": {},
   "outputs": [],
   "source": [
    "transformer = RobustScaler().fit(df_new.ARREST_ER_TIME.values.reshape(-1,1))"
   ]
  },
  {
   "cell_type": "code",
   "execution_count": 8,
   "metadata": {},
   "outputs": [
    {
     "data": {
      "text/plain": [
       "array([[-0.57142857],\n",
       "       [ 1.71428571],\n",
       "       [-0.42857143],\n",
       "       ...,\n",
       "       [ 1.        ],\n",
       "       [ 0.42857143],\n",
       "       [ 1.0952381 ]])"
      ]
     },
     "execution_count": 8,
     "metadata": {},
     "output_type": "execute_result"
    }
   ],
   "source": [
    "transformer.transform(df_new.ARREST_ER_TIME.values.reshape(-1,1))"
   ]
  },
  {
   "cell_type": "code",
   "execution_count": 9,
   "metadata": {},
   "outputs": [],
   "source": [
    "df_new.ARREST_ER_TIME = transformer.transform(df_new.ARREST_ER_TIME.values.reshape(-1,1))"
   ]
  },
  {
   "cell_type": "code",
   "execution_count": 10,
   "metadata": {},
   "outputs": [],
   "source": [
    "transformer = RobustScaler().fit(df_new.AGE.values.reshape(-1,1))"
   ]
  },
  {
   "cell_type": "code",
   "execution_count": 11,
   "metadata": {},
   "outputs": [
    {
     "data": {
      "text/plain": [
       "array([[-0.40909091],\n",
       "       [ 0.04545455],\n",
       "       [-0.72727273],\n",
       "       ...,\n",
       "       [ 0.31818182],\n",
       "       [-0.22727273],\n",
       "       [ 0.        ]])"
      ]
     },
     "execution_count": 11,
     "metadata": {},
     "output_type": "execute_result"
    }
   ],
   "source": [
    "transformer.transform(df_new.AGE.values.reshape(-1,1))"
   ]
  },
  {
   "cell_type": "code",
   "execution_count": 12,
   "metadata": {},
   "outputs": [],
   "source": [
    "df_new.AGE = transformer.transform(df_new.AGE.values.reshape(-1,1))"
   ]
  },
  {
   "cell_type": "code",
   "execution_count": 13,
   "metadata": {},
   "outputs": [],
   "source": [
    "df2 = df_new"
   ]
  },
  {
   "cell_type": "code",
   "execution_count": 14,
   "metadata": {},
   "outputs": [
    {
     "data": {
      "text/html": [
       "<div>\n",
       "<style scoped>\n",
       "    .dataframe tbody tr th:only-of-type {\n",
       "        vertical-align: middle;\n",
       "    }\n",
       "\n",
       "    .dataframe tbody tr th {\n",
       "        vertical-align: top;\n",
       "    }\n",
       "\n",
       "    .dataframe thead th {\n",
       "        text-align: right;\n",
       "    }\n",
       "</style>\n",
       "<table border=\"1\" class=\"dataframe\">\n",
       "  <thead>\n",
       "    <tr style=\"text-align: right;\">\n",
       "      <th></th>\n",
       "      <th>AGE</th>\n",
       "      <th>YEAR</th>\n",
       "      <th>ARREST_ER_TIME</th>\n",
       "      <th>CPR_DURATION_TIME</th>\n",
       "      <th>GOOD_NEUROLOGIC_OUTCOME</th>\n",
       "      <th>SURVIVAL_OUTCOME</th>\n",
       "      <th>ER_CPR</th>\n",
       "      <th>ACT_1</th>\n",
       "      <th>ACT_2</th>\n",
       "      <th>ACT_3</th>\n",
       "      <th>...</th>\n",
       "      <th>PHX_RENAL_9</th>\n",
       "      <th>PHX_RESPI_1</th>\n",
       "      <th>PHX_RESPI_2</th>\n",
       "      <th>PHX_RESPI_9</th>\n",
       "      <th>PHX_STROKE_1</th>\n",
       "      <th>PHX_STROKE_2</th>\n",
       "      <th>PHX_STROKE_9</th>\n",
       "      <th>PHX_DYSLIPI_1</th>\n",
       "      <th>PHX_DYSLIPI_2</th>\n",
       "      <th>PHX_DYSLIPI_9</th>\n",
       "    </tr>\n",
       "  </thead>\n",
       "  <tbody>\n",
       "    <tr>\n",
       "      <td>0</td>\n",
       "      <td>-0.409091</td>\n",
       "      <td>2013</td>\n",
       "      <td>-0.571429</td>\n",
       "      <td>1740.0</td>\n",
       "      <td>False</td>\n",
       "      <td>False</td>\n",
       "      <td>True</td>\n",
       "      <td>0</td>\n",
       "      <td>0</td>\n",
       "      <td>0</td>\n",
       "      <td>...</td>\n",
       "      <td>0</td>\n",
       "      <td>0</td>\n",
       "      <td>1</td>\n",
       "      <td>0</td>\n",
       "      <td>0</td>\n",
       "      <td>1</td>\n",
       "      <td>0</td>\n",
       "      <td>0</td>\n",
       "      <td>1</td>\n",
       "      <td>0</td>\n",
       "    </tr>\n",
       "    <tr>\n",
       "      <td>1</td>\n",
       "      <td>0.045455</td>\n",
       "      <td>2013</td>\n",
       "      <td>1.714286</td>\n",
       "      <td>25080.0</td>\n",
       "      <td>False</td>\n",
       "      <td>False</td>\n",
       "      <td>True</td>\n",
       "      <td>0</td>\n",
       "      <td>0</td>\n",
       "      <td>0</td>\n",
       "      <td>...</td>\n",
       "      <td>1</td>\n",
       "      <td>0</td>\n",
       "      <td>0</td>\n",
       "      <td>1</td>\n",
       "      <td>1</td>\n",
       "      <td>0</td>\n",
       "      <td>0</td>\n",
       "      <td>0</td>\n",
       "      <td>0</td>\n",
       "      <td>1</td>\n",
       "    </tr>\n",
       "    <tr>\n",
       "      <td>2</td>\n",
       "      <td>-0.727273</td>\n",
       "      <td>2013</td>\n",
       "      <td>-0.428571</td>\n",
       "      <td>2340.0</td>\n",
       "      <td>False</td>\n",
       "      <td>False</td>\n",
       "      <td>True</td>\n",
       "      <td>0</td>\n",
       "      <td>0</td>\n",
       "      <td>0</td>\n",
       "      <td>...</td>\n",
       "      <td>1</td>\n",
       "      <td>0</td>\n",
       "      <td>0</td>\n",
       "      <td>1</td>\n",
       "      <td>0</td>\n",
       "      <td>0</td>\n",
       "      <td>1</td>\n",
       "      <td>0</td>\n",
       "      <td>0</td>\n",
       "      <td>1</td>\n",
       "    </tr>\n",
       "    <tr>\n",
       "      <td>3</td>\n",
       "      <td>-0.590909</td>\n",
       "      <td>2013</td>\n",
       "      <td>-0.714286</td>\n",
       "      <td>1500.0</td>\n",
       "      <td>False</td>\n",
       "      <td>False</td>\n",
       "      <td>True</td>\n",
       "      <td>0</td>\n",
       "      <td>0</td>\n",
       "      <td>0</td>\n",
       "      <td>...</td>\n",
       "      <td>1</td>\n",
       "      <td>0</td>\n",
       "      <td>0</td>\n",
       "      <td>1</td>\n",
       "      <td>0</td>\n",
       "      <td>0</td>\n",
       "      <td>1</td>\n",
       "      <td>0</td>\n",
       "      <td>0</td>\n",
       "      <td>1</td>\n",
       "    </tr>\n",
       "    <tr>\n",
       "      <td>4</td>\n",
       "      <td>-0.409091</td>\n",
       "      <td>2013</td>\n",
       "      <td>-1.142857</td>\n",
       "      <td>1500.0</td>\n",
       "      <td>False</td>\n",
       "      <td>False</td>\n",
       "      <td>True</td>\n",
       "      <td>0</td>\n",
       "      <td>0</td>\n",
       "      <td>0</td>\n",
       "      <td>...</td>\n",
       "      <td>1</td>\n",
       "      <td>0</td>\n",
       "      <td>0</td>\n",
       "      <td>1</td>\n",
       "      <td>0</td>\n",
       "      <td>0</td>\n",
       "      <td>1</td>\n",
       "      <td>0</td>\n",
       "      <td>0</td>\n",
       "      <td>1</td>\n",
       "    </tr>\n",
       "    <tr>\n",
       "      <td>...</td>\n",
       "      <td>...</td>\n",
       "      <td>...</td>\n",
       "      <td>...</td>\n",
       "      <td>...</td>\n",
       "      <td>...</td>\n",
       "      <td>...</td>\n",
       "      <td>...</td>\n",
       "      <td>...</td>\n",
       "      <td>...</td>\n",
       "      <td>...</td>\n",
       "      <td>...</td>\n",
       "      <td>...</td>\n",
       "      <td>...</td>\n",
       "      <td>...</td>\n",
       "      <td>...</td>\n",
       "      <td>...</td>\n",
       "      <td>...</td>\n",
       "      <td>...</td>\n",
       "      <td>...</td>\n",
       "      <td>...</td>\n",
       "      <td>...</td>\n",
       "    </tr>\n",
       "    <tr>\n",
       "      <td>49664</td>\n",
       "      <td>0.863636</td>\n",
       "      <td>2018</td>\n",
       "      <td>23.952381</td>\n",
       "      <td>7200.0</td>\n",
       "      <td>False</td>\n",
       "      <td>False</td>\n",
       "      <td>True</td>\n",
       "      <td>0</td>\n",
       "      <td>0</td>\n",
       "      <td>0</td>\n",
       "      <td>...</td>\n",
       "      <td>1</td>\n",
       "      <td>0</td>\n",
       "      <td>0</td>\n",
       "      <td>1</td>\n",
       "      <td>0</td>\n",
       "      <td>0</td>\n",
       "      <td>1</td>\n",
       "      <td>0</td>\n",
       "      <td>0</td>\n",
       "      <td>1</td>\n",
       "    </tr>\n",
       "    <tr>\n",
       "      <td>49665</td>\n",
       "      <td>1.272727</td>\n",
       "      <td>2018</td>\n",
       "      <td>-0.333333</td>\n",
       "      <td>2700.0</td>\n",
       "      <td>False</td>\n",
       "      <td>False</td>\n",
       "      <td>True</td>\n",
       "      <td>0</td>\n",
       "      <td>0</td>\n",
       "      <td>0</td>\n",
       "      <td>...</td>\n",
       "      <td>1</td>\n",
       "      <td>0</td>\n",
       "      <td>0</td>\n",
       "      <td>1</td>\n",
       "      <td>0</td>\n",
       "      <td>0</td>\n",
       "      <td>1</td>\n",
       "      <td>0</td>\n",
       "      <td>0</td>\n",
       "      <td>1</td>\n",
       "    </tr>\n",
       "    <tr>\n",
       "      <td>49666</td>\n",
       "      <td>0.318182</td>\n",
       "      <td>2018</td>\n",
       "      <td>1.000000</td>\n",
       "      <td>1440.0</td>\n",
       "      <td>False</td>\n",
       "      <td>False</td>\n",
       "      <td>True</td>\n",
       "      <td>0</td>\n",
       "      <td>0</td>\n",
       "      <td>0</td>\n",
       "      <td>...</td>\n",
       "      <td>1</td>\n",
       "      <td>0</td>\n",
       "      <td>0</td>\n",
       "      <td>1</td>\n",
       "      <td>0</td>\n",
       "      <td>0</td>\n",
       "      <td>1</td>\n",
       "      <td>0</td>\n",
       "      <td>0</td>\n",
       "      <td>1</td>\n",
       "    </tr>\n",
       "    <tr>\n",
       "      <td>49667</td>\n",
       "      <td>-0.227273</td>\n",
       "      <td>2018</td>\n",
       "      <td>0.428571</td>\n",
       "      <td>1920.0</td>\n",
       "      <td>False</td>\n",
       "      <td>False</td>\n",
       "      <td>True</td>\n",
       "      <td>0</td>\n",
       "      <td>0</td>\n",
       "      <td>0</td>\n",
       "      <td>...</td>\n",
       "      <td>1</td>\n",
       "      <td>0</td>\n",
       "      <td>0</td>\n",
       "      <td>1</td>\n",
       "      <td>0</td>\n",
       "      <td>0</td>\n",
       "      <td>1</td>\n",
       "      <td>0</td>\n",
       "      <td>0</td>\n",
       "      <td>1</td>\n",
       "    </tr>\n",
       "    <tr>\n",
       "      <td>49668</td>\n",
       "      <td>0.000000</td>\n",
       "      <td>2018</td>\n",
       "      <td>1.095238</td>\n",
       "      <td>1140.0</td>\n",
       "      <td>False</td>\n",
       "      <td>False</td>\n",
       "      <td>True</td>\n",
       "      <td>0</td>\n",
       "      <td>1</td>\n",
       "      <td>0</td>\n",
       "      <td>...</td>\n",
       "      <td>1</td>\n",
       "      <td>0</td>\n",
       "      <td>0</td>\n",
       "      <td>1</td>\n",
       "      <td>0</td>\n",
       "      <td>0</td>\n",
       "      <td>1</td>\n",
       "      <td>0</td>\n",
       "      <td>0</td>\n",
       "      <td>1</td>\n",
       "    </tr>\n",
       "  </tbody>\n",
       "</table>\n",
       "<p>49669 rows × 94 columns</p>\n",
       "</div>"
      ],
      "text/plain": [
       "            AGE  YEAR  ARREST_ER_TIME  CPR_DURATION_TIME  \\\n",
       "0     -0.409091  2013       -0.571429             1740.0   \n",
       "1      0.045455  2013        1.714286            25080.0   \n",
       "2     -0.727273  2013       -0.428571             2340.0   \n",
       "3     -0.590909  2013       -0.714286             1500.0   \n",
       "4     -0.409091  2013       -1.142857             1500.0   \n",
       "...         ...   ...             ...                ...   \n",
       "49664  0.863636  2018       23.952381             7200.0   \n",
       "49665  1.272727  2018       -0.333333             2700.0   \n",
       "49666  0.318182  2018        1.000000             1440.0   \n",
       "49667 -0.227273  2018        0.428571             1920.0   \n",
       "49668  0.000000  2018        1.095238             1140.0   \n",
       "\n",
       "       GOOD_NEUROLOGIC_OUTCOME  SURVIVAL_OUTCOME  ER_CPR  ACT_1  ACT_2  ACT_3  \\\n",
       "0                        False             False    True      0      0      0   \n",
       "1                        False             False    True      0      0      0   \n",
       "2                        False             False    True      0      0      0   \n",
       "3                        False             False    True      0      0      0   \n",
       "4                        False             False    True      0      0      0   \n",
       "...                        ...               ...     ...    ...    ...    ...   \n",
       "49664                    False             False    True      0      0      0   \n",
       "49665                    False             False    True      0      0      0   \n",
       "49666                    False             False    True      0      0      0   \n",
       "49667                    False             False    True      0      0      0   \n",
       "49668                    False             False    True      0      1      0   \n",
       "\n",
       "       ...  PHX_RENAL_9  PHX_RESPI_1  PHX_RESPI_2  PHX_RESPI_9  PHX_STROKE_1  \\\n",
       "0      ...            0            0            1            0             0   \n",
       "1      ...            1            0            0            1             1   \n",
       "2      ...            1            0            0            1             0   \n",
       "3      ...            1            0            0            1             0   \n",
       "4      ...            1            0            0            1             0   \n",
       "...    ...          ...          ...          ...          ...           ...   \n",
       "49664  ...            1            0            0            1             0   \n",
       "49665  ...            1            0            0            1             0   \n",
       "49666  ...            1            0            0            1             0   \n",
       "49667  ...            1            0            0            1             0   \n",
       "49668  ...            1            0            0            1             0   \n",
       "\n",
       "       PHX_STROKE_2  PHX_STROKE_9  PHX_DYSLIPI_1  PHX_DYSLIPI_2  PHX_DYSLIPI_9  \n",
       "0                 1             0              0              1              0  \n",
       "1                 0             0              0              0              1  \n",
       "2                 0             1              0              0              1  \n",
       "3                 0             1              0              0              1  \n",
       "4                 0             1              0              0              1  \n",
       "...             ...           ...            ...            ...            ...  \n",
       "49664             0             1              0              0              1  \n",
       "49665             0             1              0              0              1  \n",
       "49666             0             1              0              0              1  \n",
       "49667             0             1              0              0              1  \n",
       "49668             0             1              0              0              1  \n",
       "\n",
       "[49669 rows x 94 columns]"
      ]
     },
     "execution_count": 14,
     "metadata": {},
     "output_type": "execute_result"
    }
   ],
   "source": [
    "df2"
   ]
  },
  {
   "cell_type": "markdown",
   "metadata": {},
   "source": [
    "## Machine Learning model"
   ]
  },
  {
   "cell_type": "code",
   "execution_count": 36,
   "metadata": {},
   "outputs": [],
   "source": [
    "import pandas as pd\n",
    "import numpy as np\n",
    "import datetime\n",
    "from sklearn.metrics import precision_recall_fscore_support\n",
    "from sklearn.metrics import classification_report\n",
    "from sklearn.model_selection import train_test_split\n",
    "from sklearn.ensemble import RandomForestClassifier\n",
    "from sklearn.metrics import confusion_matrix, roc_curve, auc\n",
    "from sklearn import metrics    \n",
    "from sklearn.model_selection import cross_val_score\n",
    "from sklearn.metrics import roc_auc_score\n",
    "from sklearn.metrics import precision_recall_curve\n",
    "from sklearn.metrics import average_precision_score\n",
    "import lightgbm as lgb\n",
    "from sklearn.metrics import precision_score, recall_score, confusion_matrix, classification_report, accuracy_score, f1_score\n",
    "from sklearn.model_selection import GridSearchCV\n",
    "from imblearn.combine import *\n",
    "from imblearn.over_sampling import *\n",
    "from imblearn.under_sampling import *\n",
    "from sklearn.model_selection import cross_validate\n",
    "import scipy.stats as st"
   ]
  },
  {
   "cell_type": "code",
   "execution_count": 37,
   "metadata": {},
   "outputs": [],
   "source": [
    "train_df = df2[df2['YEAR'] != 2018]\n",
    "test_df = df2[df2['YEAR'] == 2018]"
   ]
  },
  {
   "cell_type": "markdown",
   "metadata": {},
   "source": [
    "### Conventional model"
   ]
  },
  {
   "cell_type": "code",
   "execution_count": 87,
   "metadata": {},
   "outputs": [],
   "source": [
    "\n",
    "trX = train_df.drop(columns = ['SURVIVAL_OUTCOME','GOOD_NEUROLOGIC_OUTCOME', 'CPR_DURATION_TIME']).values\n",
    "trX = np.concatenate([trX, train_df[['CPR_DURATION_TIME']].values], axis = 1)\n",
    "trY = train_df['SURVIVAL_OUTCOME'].values.flatten() * 1\n",
    "teX = test_df.drop(columns = ['SURVIVAL_OUTCOME','GOOD_NEUROLOGIC_OUTCOME', 'CPR_DURATION_TIME']).values\n",
    "teX = np.concatenate([teX, test_df[['CPR_DURATION_TIME']].values], axis = 1)\n",
    "teY = test_df['SURVIVAL_OUTCOME'].values.flatten() * 1\n",
    "\n",
    "#X_samp, y_samp = EditedNearestNeighbours(kind_sel=\"all\", n_neighbors=5).fit_sample(trX, trY)\n",
    "\n",
    "#XGBOOST\n",
    "forest = lgb.LGBMClassifier(n_estimators=300, n_jobs=-1, max_depth=128, min_child_samples=60, num_leaves=64, subsample=0.8)\n",
    "forest.fit(trX, trY)\n",
    "y_pred_RF = forest.predict(teX)\n",
    "probas_RF = forest.predict_proba(teX)[:,1]\n",
    "\n",
    "#total=df3['SURVIVAL_OUTCOME'].count()\n",
    "#surv = df3[(df3['SURVIVAL_OUTCOME']==True)]['SURVIVAL_OUTCOME'].count()\n",
    "#auc_crosval = cross_val_score(estimator=forest, X=trX, y=trY, cv=5, scoring='roc_auc').mean()    \n",
    "#fpr, tpr, thresholds = roc_curve(teY,probas_RF)\n",
    "#auc_testset = auc(fpr, tpr)     \n"
   ]
  },
  {
   "cell_type": "markdown",
   "metadata": {},
   "source": [
    "### recall by threshold"
   ]
  },
  {
   "cell_type": "code",
   "execution_count": 175,
   "metadata": {
    "collapsed": true,
    "jupyter": {
     "outputs_hidden": true
    }
   },
   "outputs": [
    {
     "name": "stdout",
     "output_type": "stream",
     "text": [
      "roc_auc: 0.8807148504175607\n",
      "\n",
      " clasification report:\n",
      "               precision    recall  f1-score   support\n",
      "\n",
      "           0       1.00      0.39      0.56      9577\n",
      "           1       0.08      0.97      0.14       490\n",
      "\n",
      "    accuracy                           0.42     10067\n",
      "   macro avg       0.54      0.68      0.35     10067\n",
      "weighted avg       0.95      0.42      0.54     10067\n",
      "\n",
      "\n",
      " clasification report:\n",
      "               precision    recall  f1-score   support\n",
      "\n",
      "           0       1.00      0.51      0.67      9577\n",
      "           1       0.09      0.96      0.17       490\n",
      "\n",
      "    accuracy                           0.53     10067\n",
      "   macro avg       0.54      0.73      0.42     10067\n",
      "weighted avg       0.95      0.53      0.65     10067\n",
      "\n",
      "\n",
      " clasification report:\n",
      "               precision    recall  f1-score   support\n",
      "\n",
      "           0       0.99      0.57      0.73      9577\n",
      "           1       0.10      0.93      0.18       490\n",
      "\n",
      "    accuracy                           0.59     10067\n",
      "   macro avg       0.55      0.75      0.45     10067\n",
      "weighted avg       0.95      0.59      0.70     10067\n",
      "\n",
      "\n",
      " clasification report:\n",
      "               precision    recall  f1-score   support\n",
      "\n",
      "           0       0.99      0.61      0.76      9577\n",
      "           1       0.11      0.93      0.20       490\n",
      "\n",
      "    accuracy                           0.63     10067\n",
      "   macro avg       0.55      0.77      0.48     10067\n",
      "weighted avg       0.95      0.63      0.73     10067\n",
      "\n",
      "\n",
      " clasification report:\n",
      "               precision    recall  f1-score   support\n",
      "\n",
      "           0       0.99      0.64      0.78      9577\n",
      "           1       0.12      0.91      0.21       490\n",
      "\n",
      "    accuracy                           0.66     10067\n",
      "   macro avg       0.55      0.78      0.49     10067\n",
      "weighted avg       0.95      0.66      0.75     10067\n",
      "\n",
      "\n",
      " clasification report:\n",
      "               precision    recall  f1-score   support\n",
      "\n",
      "           0       0.99      0.67      0.80      9577\n",
      "           1       0.12      0.91      0.22       490\n",
      "\n",
      "    accuracy                           0.68     10067\n",
      "   macro avg       0.56      0.79      0.51     10067\n",
      "weighted avg       0.95      0.68      0.77     10067\n",
      "\n",
      "\n",
      " clasification report:\n",
      "               precision    recall  f1-score   support\n",
      "\n",
      "           0       0.99      0.69      0.81      9577\n",
      "           1       0.13      0.90      0.22       490\n",
      "\n",
      "    accuracy                           0.70     10067\n",
      "   macro avg       0.56      0.79      0.52     10067\n",
      "weighted avg       0.95      0.70      0.78     10067\n",
      "\n",
      "\n",
      " clasification report:\n",
      "               precision    recall  f1-score   support\n",
      "\n",
      "           0       0.99      0.70      0.82      9577\n",
      "           1       0.13      0.89      0.23       490\n",
      "\n",
      "    accuracy                           0.71     10067\n",
      "   macro avg       0.56      0.80      0.53     10067\n",
      "weighted avg       0.95      0.71      0.79     10067\n",
      "\n",
      "\n",
      " clasification report:\n",
      "               precision    recall  f1-score   support\n",
      "\n",
      "           0       0.99      0.71      0.83      9577\n",
      "           1       0.13      0.88      0.23       490\n",
      "\n",
      "    accuracy                           0.72     10067\n",
      "   macro avg       0.56      0.80      0.53     10067\n",
      "weighted avg       0.95      0.72      0.80     10067\n",
      "\n"
     ]
    }
   ],
   "source": [
    "thres_0001_pred = (probas_RF >= 0.001)\n",
    "thres_0002_pred = (probas_RF >= 0.002)\n",
    "thres_0003_pred = (probas_RF >= 0.003)\n",
    "thres_0004_pred = (probas_RF >= 0.004)\n",
    "thres_0005_pred = (probas_RF >= 0.005)\n",
    "thres_0006_pred = (probas_RF >= 0.006)\n",
    "thres_0007_pred = (probas_RF >= 0.007)\n",
    "thres_0008_pred = (probas_RF >= 0.008)\n",
    "thres_0009_pred = (probas_RF >= 0.009)\n",
    "#tn_001, fp_001, fn_001, tp_001 = confusion_matrix(teY, thres_001_pred).ravel()\n",
    "\n",
    "print('roc_auc:', roc_auc_score(teY, probas_RF))\n",
    "\n",
    "  \n",
    "\n",
    "#print('F1 score:', f1_score(teY, y_pred_RF))\n",
    "#print('Recall:', recall_score(teY, y_pred_RF))\n",
    "#print('Precision:', precision_score(teY, y_pred_RF))\n",
    "#print('\\n clasification report:\\n', classification_report(teY,y_pred_RF))\n",
    "print('\\n clasification report1:\\n', classification_report(teY,thres_0001_pred))\n",
    "print('\\n clasification report2:\\n', classification_report(teY,thres_0002_pred))\n",
    "print('\\n clasification report3:\\n', classification_report(teY,thres_0003_pred))\n",
    "print('\\n clasification report4:\\n', classification_report(teY,thres_0004_pred))\n",
    "print('\\n clasification report5:\\n', classification_report(teY,thres_0005_pred))\n",
    "print('\\n clasification report6:\\n', classification_report(teY,thres_0006_pred))\n",
    "print('\\n clasification report7:\\n', classification_report(teY,thres_0007_pred))\n",
    "print('\\n clasification report8:\\n', classification_report(teY,thres_0008_pred))\n",
    "print('\\n clasification report9:\\n', classification_report(teY,thres_0009_pred))\n",
    "\n",
    "\n",
    "#print('\\n confussion matrix:\\n',confusion_matrix(teY, y_pred_RF))"
   ]
  },
  {
   "cell_type": "markdown",
   "metadata": {},
   "source": [
    "### Conventional model predict proba by Time"
   ]
  },
  {
   "cell_type": "code",
   "execution_count": 88,
   "metadata": {},
   "outputs": [],
   "source": [
    "list_mean_proba_conventional = []\n",
    "list_mean_proba_conventional_with_ci = []\n",
    "list_auc_score_conventional = []\n",
    "list_auc_score_conventional_with_ci = []\n",
    "bootstrap_sampling_n = 1000\n",
    "\n",
    "for lower in np.arange(0, 3660, 60):\n",
    "    temp_df = test_df[test_df['CPR_DURATION_TIME'].apply(lambda x: lower <= x)]\n",
    "    teX = temp_df.drop(columns = ['SURVIVAL_OUTCOME','GOOD_NEUROLOGIC_OUTCOME', 'CPR_DURATION_TIME']).values\n",
    "    teX = np.concatenate([teX, np.full((teX.shape[0], 1), lower)], axis = 1)\n",
    "    teY = temp_df['SURVIVAL_OUTCOME'].values.flatten() * 1\n",
    "    \n",
    "    proba = forest.predict_proba(teX)[:,1]\n",
    "    mean_proba = proba.mean()\n",
    "    fpr, tpr, _ = roc_curve(teY, proba)\n",
    "    auc_score = auc(fpr, tpr)\n",
    "        \n",
    "    list_mean_proba_conventional.append(mean_proba)\n",
    "    list_auc_score_conventional.append(auc_score)\n",
    "    \n",
    "    auc_with_ci = []\n",
    "    proba_with_ci = []\n",
    "    for i in range(bootstrap_sampling_n):\n",
    "        list_index = np.random.choice(proba.shape[0], proba.shape[0], replace = True)\n",
    "        temp_proba = proba[list_index]\n",
    "        temp_real = teY\n",
    "        fpr, tpr, _ = roc_curve(teY, proba)\n",
    "        auc_score = auc(fpr, tpr)\n",
    "        auc_with_ci.append(auc_score)\n",
    "        proba_with_ci.append(np.mean(temp_proba))\n",
    "    list_mean_proba_conventional_with_ci.append(proba_with_ci)\n",
    "    list_auc_score_conventional_with_ci.append(auc_with_ci)"
   ]
  },
  {
   "cell_type": "code",
   "execution_count": 89,
   "metadata": {},
   "outputs": [],
   "source": [
    "df_list_mean_proba_conventional = pd.DataFrame()"
   ]
  },
  {
   "cell_type": "code",
   "execution_count": 90,
   "metadata": {},
   "outputs": [],
   "source": [
    "list_mean_proba_conventional_with_ci_lower = []\n",
    "list_mean_proba_conventional_with_ci_upper = []\n",
    "for i in range(0,len(list_mean_proba_conventional_with_ci)):\n",
    "    # 95% CI   \n",
    "    list_mean_proba_conventional_with_ci_lower.append(st.t.interval(0.95, len(list_mean_proba_conventional_with_ci[i])-1, loc=np.mean(list_mean_proba_conventional_with_ci[i]), scale=st.sem(list_mean_proba_conventional_with_ci[i]))[0])\n",
    "    list_mean_proba_conventional_with_ci_upper.append(st.t.interval(0.95, len(list_mean_proba_conventional_with_ci[i])-1, loc=np.mean(list_mean_proba_conventional_with_ci[i]), scale=st.sem(list_mean_proba_conventional_with_ci[i]))[1])"
   ]
  },
  {
   "cell_type": "code",
   "execution_count": 91,
   "metadata": {},
   "outputs": [],
   "source": [
    "df_list_mean_proba_conventional['proba'] = list_mean_proba_conventional\n",
    "df_list_mean_proba_conventional['95CI_lower'] = list_mean_proba_conventional_with_ci_lower\n",
    "df_list_mean_proba_conventional['95CI_upper'] = list_mean_proba_conventional_with_ci_upper"
   ]
  },
  {
   "cell_type": "code",
   "execution_count": 92,
   "metadata": {},
   "outputs": [],
   "source": [
    "df_list_mean_proba_conventional.to_csv('conventional_proba_95CI_sur.csv',index=False)"
   ]
  },
  {
   "cell_type": "markdown",
   "metadata": {},
   "source": [
    "### TAMO model predict proba by Time"
   ]
  },
  {
   "cell_type": "code",
   "execution_count": 46,
   "metadata": {},
   "outputs": [],
   "source": [
    "train_df = df2[df2['YEAR'] != 2018]\n",
    "test_df = df2[df2['YEAR'] == 2018]"
   ]
  },
  {
   "cell_type": "code",
   "execution_count": 47,
   "metadata": {},
   "outputs": [
    {
     "name": "stdout",
     "output_type": "stream",
     "text": [
      "0\n",
      "60\n",
      "120\n",
      "180\n",
      "240\n",
      "300\n",
      "360\n",
      "420\n",
      "480\n",
      "540\n",
      "600\n",
      "660\n",
      "720\n",
      "780\n",
      "840\n",
      "900\n",
      "960\n",
      "1020\n",
      "1080\n",
      "1140\n",
      "1200\n",
      "1260\n",
      "1320\n",
      "1380\n",
      "1440\n",
      "1500\n",
      "1560\n",
      "1620\n",
      "1680\n",
      "1740\n",
      "1800\n",
      "1860\n",
      "1920\n",
      "1980\n",
      "2040\n",
      "2100\n",
      "2160\n",
      "2220\n",
      "2280\n",
      "2340\n",
      "2400\n",
      "2460\n",
      "2520\n",
      "2580\n",
      "2640\n",
      "2700\n",
      "2760\n",
      "2820\n",
      "2880\n",
      "2940\n",
      "3000\n",
      "3060\n",
      "3120\n",
      "3180\n"
     ]
    },
    {
     "name": "stderr",
     "output_type": "stream",
     "text": [
      "C:\\Users\\user\\Anaconda3\\lib\\site-packages\\sklearn\\metrics\\_ranking.py:808: UndefinedMetricWarning: No positive samples in y_true, true positive value should be meaningless\n",
      "  UndefinedMetricWarning)\n",
      "C:\\Users\\user\\Anaconda3\\lib\\site-packages\\sklearn\\metrics\\_ranking.py:677: RuntimeWarning: invalid value encountered in true_divide\n",
      "  recall = tps / tps[-1]\n",
      "C:\\Users\\user\\Anaconda3\\lib\\site-packages\\sklearn\\metrics\\_classification.py:1272: UndefinedMetricWarning: Recall is ill-defined and being set to 0.0 due to no true samples. Use `zero_division` parameter to control this behavior.\n",
      "  _warn_prf(average, modifier, msg_start, len(result))\n"
     ]
    },
    {
     "name": "stdout",
     "output_type": "stream",
     "text": [
      "3240\n"
     ]
    },
    {
     "name": "stderr",
     "output_type": "stream",
     "text": [
      "C:\\Users\\user\\Anaconda3\\lib\\site-packages\\sklearn\\metrics\\_ranking.py:808: UndefinedMetricWarning: No positive samples in y_true, true positive value should be meaningless\n",
      "  UndefinedMetricWarning)\n",
      "C:\\Users\\user\\Anaconda3\\lib\\site-packages\\sklearn\\metrics\\_ranking.py:677: RuntimeWarning: invalid value encountered in true_divide\n",
      "  recall = tps / tps[-1]\n",
      "C:\\Users\\user\\Anaconda3\\lib\\site-packages\\sklearn\\metrics\\_classification.py:1272: UndefinedMetricWarning: Recall is ill-defined and being set to 0.0 due to no true samples. Use `zero_division` parameter to control this behavior.\n",
      "  _warn_prf(average, modifier, msg_start, len(result))\n"
     ]
    },
    {
     "name": "stdout",
     "output_type": "stream",
     "text": [
      "3300\n"
     ]
    },
    {
     "name": "stderr",
     "output_type": "stream",
     "text": [
      "C:\\Users\\user\\Anaconda3\\lib\\site-packages\\sklearn\\metrics\\_ranking.py:808: UndefinedMetricWarning: No positive samples in y_true, true positive value should be meaningless\n",
      "  UndefinedMetricWarning)\n",
      "C:\\Users\\user\\Anaconda3\\lib\\site-packages\\sklearn\\metrics\\_ranking.py:677: RuntimeWarning: invalid value encountered in true_divide\n",
      "  recall = tps / tps[-1]\n",
      "C:\\Users\\user\\Anaconda3\\lib\\site-packages\\sklearn\\metrics\\_classification.py:1272: UndefinedMetricWarning: Recall is ill-defined and being set to 0.0 due to no true samples. Use `zero_division` parameter to control this behavior.\n",
      "  _warn_prf(average, modifier, msg_start, len(result))\n"
     ]
    },
    {
     "name": "stdout",
     "output_type": "stream",
     "text": [
      "3360\n",
      "3420\n"
     ]
    },
    {
     "name": "stderr",
     "output_type": "stream",
     "text": [
      "C:\\Users\\user\\Anaconda3\\lib\\site-packages\\sklearn\\metrics\\_ranking.py:808: UndefinedMetricWarning: No positive samples in y_true, true positive value should be meaningless\n",
      "  UndefinedMetricWarning)\n",
      "C:\\Users\\user\\Anaconda3\\lib\\site-packages\\sklearn\\metrics\\_ranking.py:677: RuntimeWarning: invalid value encountered in true_divide\n",
      "  recall = tps / tps[-1]\n",
      "C:\\Users\\user\\Anaconda3\\lib\\site-packages\\sklearn\\metrics\\_classification.py:1272: UndefinedMetricWarning: Recall is ill-defined and being set to 0.0 due to no true samples. Use `zero_division` parameter to control this behavior.\n",
      "  _warn_prf(average, modifier, msg_start, len(result))\n"
     ]
    },
    {
     "name": "stdout",
     "output_type": "stream",
     "text": [
      "3480\n"
     ]
    },
    {
     "name": "stderr",
     "output_type": "stream",
     "text": [
      "C:\\Users\\user\\Anaconda3\\lib\\site-packages\\sklearn\\metrics\\_ranking.py:808: UndefinedMetricWarning: No positive samples in y_true, true positive value should be meaningless\n",
      "  UndefinedMetricWarning)\n",
      "C:\\Users\\user\\Anaconda3\\lib\\site-packages\\sklearn\\metrics\\_ranking.py:677: RuntimeWarning: invalid value encountered in true_divide\n",
      "  recall = tps / tps[-1]\n",
      "C:\\Users\\user\\Anaconda3\\lib\\site-packages\\sklearn\\metrics\\_classification.py:1272: UndefinedMetricWarning: Recall is ill-defined and being set to 0.0 due to no true samples. Use `zero_division` parameter to control this behavior.\n",
      "  _warn_prf(average, modifier, msg_start, len(result))\n"
     ]
    },
    {
     "name": "stdout",
     "output_type": "stream",
     "text": [
      "3540\n"
     ]
    },
    {
     "name": "stderr",
     "output_type": "stream",
     "text": [
      "C:\\Users\\user\\Anaconda3\\lib\\site-packages\\sklearn\\metrics\\_ranking.py:808: UndefinedMetricWarning: No positive samples in y_true, true positive value should be meaningless\n",
      "  UndefinedMetricWarning)\n",
      "C:\\Users\\user\\Anaconda3\\lib\\site-packages\\sklearn\\metrics\\_ranking.py:677: RuntimeWarning: invalid value encountered in true_divide\n",
      "  recall = tps / tps[-1]\n",
      "C:\\Users\\user\\Anaconda3\\lib\\site-packages\\sklearn\\metrics\\_classification.py:1272: UndefinedMetricWarning: Recall is ill-defined and being set to 0.0 due to no true samples. Use `zero_division` parameter to control this behavior.\n",
      "  _warn_prf(average, modifier, msg_start, len(result))\n"
     ]
    },
    {
     "name": "stdout",
     "output_type": "stream",
     "text": [
      "3600\n"
     ]
    },
    {
     "name": "stderr",
     "output_type": "stream",
     "text": [
      "C:\\Users\\user\\Anaconda3\\lib\\site-packages\\sklearn\\metrics\\_ranking.py:808: UndefinedMetricWarning: No positive samples in y_true, true positive value should be meaningless\n",
      "  UndefinedMetricWarning)\n",
      "C:\\Users\\user\\Anaconda3\\lib\\site-packages\\sklearn\\metrics\\_ranking.py:677: RuntimeWarning: invalid value encountered in true_divide\n",
      "  recall = tps / tps[-1]\n",
      "C:\\Users\\user\\Anaconda3\\lib\\site-packages\\sklearn\\metrics\\_classification.py:1272: UndefinedMetricWarning: Recall is ill-defined and being set to 0.0 due to no true samples. Use `zero_division` parameter to control this behavior.\n",
      "  _warn_prf(average, modifier, msg_start, len(result))\n"
     ]
    }
   ],
   "source": [
    "list_model = []\n",
    "list_mean_proba_tacom = []\n",
    "list_auc_score_tacom = []\n",
    "list_recall_score_tacom = []\n",
    "list_precision_score_tacom = []\n",
    "list_auprc_score_tacom = []\n",
    "list_mean_proba_tacom_with_ci = []\n",
    "list_auc_score_tacom_with_ci = []\n",
    "list_recall_score_tacom_with_ci = []\n",
    "list_precision_score_tacom_with_ci = []\n",
    "list_auprc_score_tacom_with_ci = []\n",
    "bootstrap_sampling_n = 1000\n",
    "\n",
    "\n",
    "for lower in np.arange(0, 3660, 60):\n",
    "    print(lower)\n",
    "\n",
    "    trX = train_df[train_df['CPR_DURATION_TIME'].apply(lambda x: lower <= x)].drop(columns = ['SURVIVAL_OUTCOME','GOOD_NEUROLOGIC_OUTCOME', 'CPR_DURATION_TIME']).values\n",
    "    trY = train_df[train_df['CPR_DURATION_TIME'].apply(lambda x: lower <= x)]['GOOD_NEUROLOGIC_OUTCOME'].values.flatten() * 1\n",
    "    teX = test_df[test_df['CPR_DURATION_TIME'].apply(lambda x: lower <= x)].drop(columns = ['SURVIVAL_OUTCOME','GOOD_NEUROLOGIC_OUTCOME', 'CPR_DURATION_TIME']).values\n",
    "    teY = test_df[test_df['CPR_DURATION_TIME'].apply(lambda x: lower <= x)]['GOOD_NEUROLOGIC_OUTCOME'].values.flatten() * 1\n",
    "    \n",
    "\n",
    "    #X_samp, y_samp = EditedNearestNeighbours(kind_sel=\"all\", n_neighbors=5).fit_sample(trX, trY)\n",
    "\n",
    "    #XGBOOST\n",
    "    forest = lgb.LGBMClassifier(n_estimators=300, n_jobs=-1, max_depth=128, min_child_samples=60, num_leaves=64, subsample=0.8)\n",
    "    forest.fit(trX, trY)\n",
    "    \n",
    "    proba = forest.predict_proba(teX)[:,1]\n",
    "    mean_proba = proba.mean()\n",
    "    \n",
    "    thres_0001_pred = (proba >= 0.001)\n",
    "    \n",
    "    #precision, recall, _ = precision_recall_curve(teY, thres_0001_pred)\n",
    "    fpr, tpr, _ = roc_curve(teY, proba)\n",
    "    auc_score = auc(fpr, tpr)\n",
    "    auprc_score = average_precision_score(teY, proba)\n",
    "    \n",
    "    list_mean_proba_tacom.append(mean_proba)\n",
    "    list_recall_score_tacom.append(recall_score(teY, thres_0001_pred))\n",
    "    list_precision_score_tacom.append(precision_score(teY, thres_0001_pred))\n",
    "    list_auc_score_tacom.append(auc_score)\n",
    "    list_auprc_score_tacom.append(auprc_score)\n",
    "    list_model.append(forest)\n",
    "\n",
    "    auc_with_ci = []\n",
    "    recall_with_ci = []\n",
    "    precision_with_ci = []\n",
    "    auprc_with_ci = []\n",
    "    proba_with_ci = []\n",
    "    for i in range(bootstrap_sampling_n):\n",
    "        list_index = np.random.choice(proba.shape[0], proba.shape[0], replace = True)\n",
    "        temp_proba = proba[list_index]\n",
    "        temp_real = teY[list_index]\n",
    "        fpr, tpr, _ = roc_curve(temp_real, temp_proba)\n",
    "        thres_0001_pred = (temp_proba >= 0.001)        \n",
    "        auc_score = auc(fpr, tpr)\n",
    "        auprc_score = average_precision_score(temp_real, temp_proba)\n",
    "        auc_with_ci.append(auc_score)\n",
    "        auprc_with_ci.append(auprc_score)\n",
    "        recall_with_ci.append(recall_score(temp_real, thres_0001_pred))\n",
    "        precision_with_ci.append(precision_score(temp_real, thres_0001_pred))\n",
    "        proba_with_ci.append(np.mean(temp_proba))\n",
    "    list_mean_proba_tacom_with_ci.append(proba_with_ci)\n",
    "    list_auc_score_tacom_with_ci.append(auc_with_ci)\n",
    "    list_recall_score_tacom_with_ci.append(recall_with_ci)\n",
    "    list_auprc_score_tacom_with_ci.append(auprc_with_ci)\n",
    "    list_precision_score_tacom_with_ci.append(precision_with_ci)"
   ]
  },
  {
   "cell_type": "code",
   "execution_count": 48,
   "metadata": {},
   "outputs": [],
   "source": [
    "df_list_mean_proba_tamo = pd.DataFrame()"
   ]
  },
  {
   "cell_type": "code",
   "execution_count": 49,
   "metadata": {},
   "outputs": [
    {
     "name": "stderr",
     "output_type": "stream",
     "text": [
      "C:\\Users\\user\\Anaconda3\\lib\\site-packages\\scipy\\stats\\_distn_infrastructure.py:1996: RuntimeWarning: invalid value encountered in greater\n",
      "  cond0 = self._argcheck(*args) & (scale > 0) & (loc == loc)\n"
     ]
    }
   ],
   "source": [
    "list_auc_score_tacom_with_ci_lower = []\n",
    "list_auc_score_tacom_with_ci_upper = []\n",
    "for i in range(0,len(list_auc_score_tacom_with_ci)):\n",
    "    # 95% CI   \n",
    "    list_auc_score_tacom_with_ci_lower.append(st.t.interval(0.95, len(list_auc_score_tacom_with_ci[i])-1, loc=np.mean(list_auc_score_tacom_with_ci[i]), scale=st.sem(list_auc_score_tacom_with_ci[i]))[0])\n",
    "    list_auc_score_tacom_with_ci_upper.append(st.t.interval(0.95, len(list_auc_score_tacom_with_ci[i])-1, loc=np.mean(list_auc_score_tacom_with_ci[i]), scale=st.sem(list_auc_score_tacom_with_ci[i]))[1])"
   ]
  },
  {
   "cell_type": "code",
   "execution_count": 50,
   "metadata": {},
   "outputs": [],
   "source": [
    "list_auprc_tacom_with_ci_lower = []\n",
    "list_auprc_tacom_with_ci_upper = []\n",
    "for i in range(0,len(list_auprc_score_tacom_with_ci)):\n",
    "    # 95% CI   \n",
    "    list_auprc_tacom_with_ci_lower.append(st.t.interval(0.95, len(list_auprc_score_tacom_with_ci[i])-1, loc=np.mean(list_auprc_score_tacom_with_ci[i]), scale=st.sem(list_auprc_score_tacom_with_ci[i]))[0])\n",
    "    list_auprc_tacom_with_ci_upper.append(st.t.interval(0.95, len(list_auprc_score_tacom_with_ci[i])-1, loc=np.mean(list_auprc_score_tacom_with_ci[i]), scale=st.sem(list_auprc_score_tacom_with_ci[i]))[1])"
   ]
  },
  {
   "cell_type": "code",
   "execution_count": 51,
   "metadata": {},
   "outputs": [],
   "source": [
    "list_recall_score_tacom_with_ci_lower = []\n",
    "list_recall_score_tacom_with_ci_upper = []\n",
    "for i in range(0,len(list_recall_score_tacom_with_ci)):\n",
    "    # 95% CI   \n",
    "    list_recall_score_tacom_with_ci_lower.append(st.t.interval(0.95, len(list_recall_score_tacom_with_ci[i])-1, loc=np.mean(list_recall_score_tacom_with_ci[i]), scale=st.sem(list_recall_score_tacom_with_ci[i]))[0])\n",
    "    list_recall_score_tacom_with_ci_upper.append(st.t.interval(0.95, len(list_recall_score_tacom_with_ci[i])-1, loc=np.mean(list_recall_score_tacom_with_ci[i]), scale=st.sem(list_recall_score_tacom_with_ci[i]))[1])"
   ]
  },
  {
   "cell_type": "code",
   "execution_count": 52,
   "metadata": {},
   "outputs": [],
   "source": [
    "list_precision_score_tacom_with_ci_lower = []\n",
    "list_precision_score_tacom_with_ci_upper = []\n",
    "for i in range(0,len(list_precision_score_tacom_with_ci)):\n",
    "    # 95% CI   \n",
    "    list_precision_score_tacom_with_ci_lower.append(st.t.interval(0.95, len(list_precision_score_tacom_with_ci[i])-1, loc=np.mean(list_precision_score_tacom_with_ci[i]), scale=st.sem(list_precision_score_tacom_with_ci[i]))[0])\n",
    "    list_precision_score_tacom_with_ci_upper.append(st.t.interval(0.95, len(list_precision_score_tacom_with_ci[i])-1, loc=np.mean(list_precision_score_tacom_with_ci[i]), scale=st.sem(list_precision_score_tacom_with_ci[i]))[1])"
   ]
  },
  {
   "cell_type": "code",
   "execution_count": 53,
   "metadata": {},
   "outputs": [],
   "source": [
    "df_list_mean_proba_tamo['auc'] = list_auc_score_tacom\n",
    "df_list_mean_proba_tamo['auc_95CI_lower'] = list_auc_score_tacom_with_ci_lower\n",
    "df_list_mean_proba_tamo['auc_95CI_upper'] = list_auc_score_tacom_with_ci_upper\n",
    "df_list_mean_proba_tamo['auprc'] = list_auprc_score_tacom\n",
    "df_list_mean_proba_tamo['auprc_95CI_lower'] = list_auprc_tacom_with_ci_lower\n",
    "df_list_mean_proba_tamo['auprc_95CI_upper'] = list_auprc_tacom_with_ci_upper\n",
    "df_list_mean_proba_tamo['recall'] = list_recall_score_tacom\n",
    "df_list_mean_proba_tamo['recall_95CI_lower'] = list_recall_score_tacom_with_ci_lower\n",
    "df_list_mean_proba_tamo['recall_95CI_upper'] = list_recall_score_tacom_with_ci_upper\n",
    "df_list_mean_proba_tamo['precision'] = list_precision_score_tacom\n",
    "df_list_mean_proba_tamo['precision_95CI_lower'] = list_precision_score_tacom_with_ci_lower\n",
    "df_list_mean_proba_tamo['precision_95CI_upper'] = list_precision_score_tacom_with_ci_upper"
   ]
  },
  {
   "cell_type": "code",
   "execution_count": 54,
   "metadata": {},
   "outputs": [],
   "source": [
    "df_list_mean_proba_tamo.to_csv('95_metric_cpc.csv',index=False)"
   ]
  },
  {
   "cell_type": "markdown",
   "metadata": {},
   "source": [
    "### TAMO model in threshold 0.001"
   ]
  },
  {
   "cell_type": "code",
   "execution_count": 55,
   "metadata": {},
   "outputs": [],
   "source": [
    "train_df = df2[df2['YEAR'] != 2018]\n",
    "test_df = df2[df2['YEAR'] == 2018]"
   ]
  },
  {
   "cell_type": "code",
   "execution_count": 58,
   "metadata": {},
   "outputs": [],
   "source": [
    "from sklearn.metrics import PrecisionRecallDisplay\n",
    "from sklearn.metrics import RocCurveDisplay"
   ]
  },
  {
   "cell_type": "code",
   "execution_count": 62,
   "metadata": {},
   "outputs": [
    {
     "data": {
      "image/png": "[encoded data removed]",
      "text/plain": [
       "<Figure size 432x288 with 1 Axes>"
      ]
     },
     "metadata": {
      "needs_background": "light"
     },
     "output_type": "display_data"
    },
    {
     "data": {
      "image/png": "[encoded data removed]",
      "text/plain": [
       "<Figure size 432x288 with 1 Axes>"
      ]
     },
     "metadata": {
      "needs_background": "light"
     },
     "output_type": "display_data"
    }
   ],
   "source": [
    "list_model = []\n",
    "list_mean_proba_tacom = []\n",
    "list_auc_score_tacom = []\n",
    "list_recall_score_tacom = []\n",
    "list_npv_score_tacom = []\n",
    "list_mean_proba_tacom_with_ci = []\n",
    "list_auc_score_tacom_with_ci = []\n",
    "list_recall_score_tacom_with_ci = []\n",
    "\n",
    "\n",
    "\n",
    "lower = 120\n",
    "trX = train_df[train_df['CPR_DURATION_TIME'].apply(lambda x: lower <= x)].drop(columns = ['SURVIVAL_OUTCOME','GOOD_NEUROLOGIC_OUTCOME', 'CPR_DURATION_TIME']).values\n",
    "trY = train_df[train_df['CPR_DURATION_TIME'].apply(lambda x: lower <= x)]['GOOD_NEUROLOGIC_OUTCOME'].values.flatten() * 1\n",
    "teX = test_df[test_df['CPR_DURATION_TIME'].apply(lambda x: lower <= x)].drop(columns = ['SURVIVAL_OUTCOME','GOOD_NEUROLOGIC_OUTCOME', 'CPR_DURATION_TIME']).values\n",
    "teY = test_df[test_df['CPR_DURATION_TIME'].apply(lambda x: lower <= x)]['GOOD_NEUROLOGIC_OUTCOME'].values.flatten() * 1\n",
    "\n",
    "forest = lgb.LGBMClassifier(n_estimators=300, n_jobs=-1, max_depth=128, min_child_samples=60, num_leaves=64, subsample=0.8)\n",
    "forest.fit(trX, trY)\n",
    "    \n",
    "proba = forest.predict_proba(teX)[:,1]\n",
    "mean_proba = proba.mean()\n",
    "fpr, tpr, _ = roc_curve(teY, proba)\n",
    "auc_score = auc(fpr, tpr)\n",
    "auprc_score = average_precision_score(teY, proba)\n",
    "roc_display = RocCurveDisplay(fpr=fpr, tpr=tpr,roc_auc=auc_score,estimator_name='').plot()\n",
    "    \n",
    "prec, recall, _ = precision_recall_curve(teY, proba)\n",
    "pr_display = PrecisionRecallDisplay(precision=prec, recall=recall,average_precision=auprc_score,estimator_name='').plot()\n",
    "    "
   ]
  },
  {
   "cell_type": "code",
   "execution_count": 68,
   "metadata": {
    "jupyter": {
     "outputs_hidden": true
    }
   },
   "outputs": [
    {
     "name": "stdout",
     "output_type": "stream",
     "text": [
      "0\n",
      "60\n",
      "120\n",
      "180\n",
      "240\n",
      "300\n",
      "360\n",
      "420\n",
      "480\n",
      "540\n",
      "600\n",
      "660\n",
      "720\n",
      "780\n",
      "840\n",
      "900\n",
      "960\n",
      "1020\n",
      "1080\n",
      "1140\n",
      "1200\n",
      "1260\n",
      "1320\n",
      "1380\n",
      "1440\n",
      "1500\n",
      "1560\n",
      "1620\n",
      "1680\n",
      "1740\n",
      "1800\n",
      "1860\n",
      "1920\n",
      "1980\n",
      "2040\n",
      "2100\n",
      "2160\n",
      "2220\n",
      "2280\n",
      "2340\n",
      "2400\n",
      "2460\n",
      "2520\n",
      "2580\n",
      "2640\n",
      "2700\n",
      "2760\n",
      "2820\n",
      "2880\n",
      "2940\n",
      "3000\n",
      "3060\n",
      "3120\n",
      "3180\n",
      "3240\n",
      "3300\n",
      "3360\n",
      "3420\n",
      "3480\n",
      "3540\n",
      "3600\n"
     ]
    }
   ],
   "source": [
    "list_model = []\n",
    "list_mean_proba_tacom = []\n",
    "list_auc_score_tacom = []\n",
    "list_recall_score_tacom = []\n",
    "list_npv_score_tacom = []\n",
    "list_mean_proba_tacom_with_ci = []\n",
    "list_auc_score_tacom_with_ci = []\n",
    "list_recall_score_tacom_with_ci = []\n",
    "\n",
    "\n",
    "for lower in np.arange(0, 3660, 60):\n",
    "    print(lower)\n",
    "    trX = train_df[train_df['CPR_DURATION_TIME'].apply(lambda x: lower <= x)].drop(columns = ['SURVIVAL_OUTCOME','GOOD_NEUROLOGIC_OUTCOME', 'CPR_DURATION_TIME']).values\n",
    "    trY = train_df[train_df['CPR_DURATION_TIME'].apply(lambda x: lower <= x)]['SURVIVAL_OUTCOME'].values.flatten() * 1\n",
    "    teX = test_df[test_df['CPR_DURATION_TIME'].apply(lambda x: lower <= x)].drop(columns = ['SURVIVAL_OUTCOME','GOOD_NEUROLOGIC_OUTCOME', 'CPR_DURATION_TIME']).values\n",
    "    teY = test_df[test_df['CPR_DURATION_TIME'].apply(lambda x: lower <= x)]['SURVIVAL_OUTCOME'].values.flatten() * 1\n",
    "    \n",
    "    #X_samp, y_samp = EditedNearestNeighbours(kind_sel=\"all\", n_neighbors=5).fit_sample(trX, trY)\n",
    "\n",
    "    #XGBOOST\n",
    "    forest = lgb.LGBMClassifier(n_estimators=300, n_jobs=-1, max_depth=128, min_child_samples=60, num_leaves=64, subsample=0.8)\n",
    "    forest.fit(trX, trY)\n",
    "    \n",
    "    proba = forest.predict_proba(teX)[:,1]\n",
    "    mean_proba = proba.mean()\n",
    "    fpr, tpr, _ = roc_curve(teY, proba)\n",
    "    auc_score = auc(fpr, tpr)\n",
    "    \n",
    "    thres_0001_pred = (proba >= 0.001)\n",
    "    tn_001, fp_001, fn_001, tp_001 = confusion_matrix(teY, thres_0001_pred).ravel()\n",
    "    \n",
    "    list_mean_proba_tacom.append(mean_proba)\n",
    "    list_auc_score_tacom.append(auc_score)\n",
    "    list_recall_score_tacom.append(recall_score(teY, thres_0001_pred))\n",
    "    list_npv_score_tacom.append(tn_001/(tn_001+fn_001))\n",
    "    list_model.append(forest)\n",
    "    \n"
   ]
  },
  {
   "cell_type": "code",
   "execution_count": 69,
   "metadata": {},
   "outputs": [],
   "source": [
    "df_list_threshold_tamo = pd.DataFrame()"
   ]
  },
  {
   "cell_type": "code",
   "execution_count": 70,
   "metadata": {},
   "outputs": [],
   "source": [
    "df_list_threshold_tamo['auc'] = list_auc_score_tacom\n",
    "df_list_threshold_tamo['recall'] = list_recall_score_tacom\n",
    "df_list_threshold_tamo['npv'] = list_npv_score_tacom"
   ]
  },
  {
   "cell_type": "code",
   "execution_count": 71,
   "metadata": {},
   "outputs": [],
   "source": [
    "df_list_threshold_tamo.to_csv('tacom_threshold_metric_sur.csv',index=False)"
   ]
  },
  {
   "cell_type": "code",
   "execution_count": 213,
   "metadata": {},
   "outputs": [],
   "source": [
    "train_df = df2[df2['YEAR'] != 2018]\n",
    "test_df = df2[df2['YEAR'] == 2018]"
   ]
  },
  {
   "cell_type": "code",
   "execution_count": 210,
   "metadata": {},
   "outputs": [
    {
     "data": {
      "text/plain": [
       "array([1])"
      ]
     },
     "execution_count": 210,
     "metadata": {},
     "output_type": "execute_result"
    }
   ],
   "source": [
    "test_df[test_df['CPR_DURATION_TIME'].apply(lambda x: lower <= x)]['SURVIVAL_OUTCOME'].loc[39730].flatten() * 1"
   ]
  }
 ],
 "metadata": {
  "kernelspec": {
   "display_name": "Python 3",
   "language": "python",
   "name": "python3"
  },
  "language_info": {
   "codemirror_mode": {
    "name": "ipython",
    "version": 3
   },
   "file_extension": ".py",
   "mimetype": "text/x-python",
   "name": "python",
   "nbconvert_exporter": "python",
   "pygments_lexer": "ipython3",
   "version": "3.7.4"
  }
 },
 "nbformat": 4,
 "nbformat_minor": 4
}
